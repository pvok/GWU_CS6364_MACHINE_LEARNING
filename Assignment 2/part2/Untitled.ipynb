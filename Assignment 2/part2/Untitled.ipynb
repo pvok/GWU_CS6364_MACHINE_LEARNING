{
 "cells": [
  {
   "cell_type": "markdown",
   "id": "ff66f0fa-2022-4ece-9067-6aafffc352b2",
   "metadata": {},
   "source": [
    "<font size=\"5\"> CS6364/CS4364: Assignment 2</font><br>\n",
    "<font size=\"5\"> Part: 2 </font><br>\n",
    "<font size=\"5\"> Myocardial infarction complications </font><br>\n",
    "<font size=\"4\"> Sagar Sheth </font>"
   ]
  },
  {
   "cell_type": "code",
   "execution_count": 2,
   "id": "732be4bd-c3f2-40e2-bb7a-c369e32e637a",
   "metadata": {
    "tags": []
   },
   "outputs": [],
   "source": [
    "import pandas as pd\n",
    "import matplotlib.pyplot as plt\n",
    "import matplotlib.ticker as ticker\n",
    "import seaborn as sns\n",
    "import numpy as np\n"
   ]
  }
 ],
 "metadata": {
  "kernelspec": {
   "display_name": "Python 3 (ipykernel)",
   "language": "python",
   "name": "python3"
  },
  "language_info": {
   "codemirror_mode": {
    "name": "ipython",
    "version": 3
   },
   "file_extension": ".py",
   "mimetype": "text/x-python",
   "name": "python",
   "nbconvert_exporter": "python",
   "pygments_lexer": "ipython3",
   "version": "3.11.4"
  }
 },
 "nbformat": 4,
 "nbformat_minor": 5
}
