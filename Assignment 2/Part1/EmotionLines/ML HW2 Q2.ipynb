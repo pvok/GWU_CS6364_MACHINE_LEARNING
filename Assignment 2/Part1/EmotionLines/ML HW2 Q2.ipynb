{
 "cells": [
  {
   "cell_type": "markdown",
   "id": "f07b3a97",
   "metadata": {},
   "source": [
    "# CS6364 MACHINE LEARNING HW 2\n"
   ]
  },
  {
   "cell_type": "markdown",
   "id": "8803cbad",
   "metadata": {},
   "source": [
    "### Aseem Mishra (G45760852)\n",
    "\n",
    "Question 2\n"
   ]
  },
  {
   "cell_type": "code",
   "execution_count": 1,
   "id": "0b09418e",
   "metadata": {
    "tags": []
   },
   "outputs": [],
   "source": [
    "import numpy as np\n",
    "import pandas as pd\n",
    "import matplotlib.pyplot as plt\n",
    "\n",
    "from sklearn.feature_extraction.text import TfidfVectorizer\n",
    "from nltk.corpus import stopwords\n",
    "from nltk.stem import PorterStemmer\n",
    "from nltk.tokenize import word_tokenize\n",
    "from nltk.stem import WordNetLemmatizer\n",
    "from sklearn.svm import SVC\n",
    "from sklearn.metrics import accuracy_score, classification_report\n",
    "from sklearn.multiclass import OneVsRestClassifier"
   ]
  },
  {
   "cell_type": "code",
   "execution_count": 2,
   "id": "c80ab8f8",
   "metadata": {
    "tags": []
   },
   "outputs": [],
   "source": [
    "import nltk\n"
   ]
  },
  {
   "cell_type": "markdown",
   "id": "f9cc494b",
   "metadata": {},
   "source": [
    "# SVM"
   ]
  },
  {
   "cell_type": "markdown",
   "id": "68a74588",
   "metadata": {},
   "source": [
    "### Import Dataset"
   ]
  },
  {
   "cell_type": "code",
   "execution_count": 3,
   "id": "96e5bd8b",
   "metadata": {
    "tags": []
   },
   "outputs": [
    {
     "data": {
      "text/html": [
       "<div>\n",
       "<style scoped>\n",
       "    .dataframe tbody tr th:only-of-type {\n",
       "        vertical-align: middle;\n",
       "    }\n",
       "\n",
       "    .dataframe tbody tr th {\n",
       "        vertical-align: top;\n",
       "    }\n",
       "\n",
       "    .dataframe thead th {\n",
       "        text-align: right;\n",
       "    }\n",
       "</style>\n",
       "<table border=\"1\" class=\"dataframe\">\n",
       "  <thead>\n",
       "    <tr style=\"text-align: right;\">\n",
       "      <th></th>\n",
       "      <th>0</th>\n",
       "      <th>1</th>\n",
       "      <th>2</th>\n",
       "      <th>3</th>\n",
       "      <th>4</th>\n",
       "      <th>5</th>\n",
       "      <th>6</th>\n",
       "      <th>7</th>\n",
       "      <th>8</th>\n",
       "      <th>9</th>\n",
       "      <th>...</th>\n",
       "      <th>14</th>\n",
       "      <th>15</th>\n",
       "      <th>16</th>\n",
       "      <th>17</th>\n",
       "      <th>18</th>\n",
       "      <th>19</th>\n",
       "      <th>20</th>\n",
       "      <th>21</th>\n",
       "      <th>22</th>\n",
       "      <th>23</th>\n",
       "    </tr>\n",
       "  </thead>\n",
       "  <tbody>\n",
       "    <tr>\n",
       "      <th>0</th>\n",
       "      <td>{'speaker': 'Chandler', 'utterance': 'also I w...</td>\n",
       "      <td>{'speaker': 'The Interviewer', 'utterance': 'Y...</td>\n",
       "      <td>{'speaker': 'Chandler', 'utterance': 'That I d...</td>\n",
       "      <td>{'speaker': 'The Interviewer', 'utterance': 'S...</td>\n",
       "      <td>{'speaker': 'Chandler', 'utterance': 'My dutie...</td>\n",
       "      <td>{'speaker': 'The Interviewer', 'utterance': 'N...</td>\n",
       "      <td>{'speaker': 'Chandler', 'utterance': 'I see.',...</td>\n",
       "      <td>{'speaker': 'The Interviewer', 'utterance': 'B...</td>\n",
       "      <td>{'speaker': 'Chandler', 'utterance': 'Good to ...</td>\n",
       "      <td>{'speaker': 'The Interviewer', 'utterance': 'W...</td>\n",
       "      <td>...</td>\n",
       "      <td>{'speaker': 'Joey', 'utterance': 'But then who...</td>\n",
       "      <td>{'speaker': 'Rachel', 'utterance': 'You know? ...</td>\n",
       "      <td>{'speaker': 'Joey', 'utterance': 'No-no-no-no,...</td>\n",
       "      <td>{'speaker': 'Rachel', 'utterance': 'No, I-I-I-...</td>\n",
       "      <td>{'speaker': 'Joey', 'utterance': 'Ok!', 'emoti...</td>\n",
       "      <td>{'speaker': 'Joey', 'utterance': 'All right, w...</td>\n",
       "      <td>{'speaker': 'Joey', 'utterance': 'I'm gonna se...</td>\n",
       "      <td>{'speaker': 'Joey', 'utterance': 'I'll see you...</td>\n",
       "      <td>{'speaker': 'Rachel', 'utterance': 'Yeah, sure...</td>\n",
       "      <td>None</td>\n",
       "    </tr>\n",
       "    <tr>\n",
       "      <th>1</th>\n",
       "      <td>{'speaker': 'Chandler', 'utterance': 'Hey, Mon...</td>\n",
       "      <td>{'speaker': 'Monica', 'utterance': 'Hey-hey-he...</td>\n",
       "      <td>{'speaker': 'Chandler', 'utterance': 'Do I eve...</td>\n",
       "      <td>{'speaker': 'Monica', 'utterance': 'Chris says...</td>\n",
       "      <td>{'speaker': 'Chandler', 'utterance': 'No way!'...</td>\n",
       "      <td>{'speaker': 'Monica', 'utterance': 'Yeah, appa...</td>\n",
       "      <td>{'speaker': 'Chandler', 'utterance': 'Just cof...</td>\n",
       "      <td>{'speaker': 'Monica', 'utterance': 'Got me.', ...</td>\n",
       "      <td>{'speaker': 'Chandler', 'utterance': 'Can I ge...</td>\n",
       "      <td>{'speaker': 'Monica', 'utterance': 'Hey, did y...</td>\n",
       "      <td>...</td>\n",
       "      <td>{'speaker': 'Chandler', 'utterance': 'What, wh...</td>\n",
       "      <td>{'speaker': 'Phoebe', 'utterance': 'What?!', '...</td>\n",
       "      <td>{'speaker': 'Phoebe', 'utterance': 'He was wit...</td>\n",
       "      <td>{'speaker': 'Phoebe', 'utterance': 'Look,  'My...</td>\n",
       "      <td>{'speaker': 'Phoebe', 'utterance': 'Now that I...</td>\n",
       "      <td>{'speaker': 'Phoebe', 'utterance': 'He thinks ...</td>\n",
       "      <td>{'speaker': 'Chandler', 'utterance': 'You real...</td>\n",
       "      <td>{'speaker': 'Phoebe', 'utterance': 'Oh, totall...</td>\n",
       "      <td>{'speaker': 'Joey', 'utterance': 'Done.', 'emo...</td>\n",
       "      <td>None</td>\n",
       "    </tr>\n",
       "    <tr>\n",
       "      <th>2</th>\n",
       "      <td>{'speaker': 'Rachel', 'utterance': 'Hey!', 'em...</td>\n",
       "      <td>{'speaker': 'Ross', 'utterance': 'Hi!', 'emoti...</td>\n",
       "      <td>{'speaker': 'Rachel', 'utterance': 'What are y...</td>\n",
       "      <td>{'speaker': 'Ross', 'utterance': 'Ah y'know, t...</td>\n",
       "      <td>{'speaker': 'Rachel', 'utterance': 'Oh.', 'emo...</td>\n",
       "      <td>{'speaker': 'Ross', 'utterance': 'Hi.', 'emoti...</td>\n",
       "      <td>{'speaker': 'Rachel', 'utterance': 'Hi.', 'emo...</td>\n",
       "      <td>{'speaker': 'Ross', 'utterance': 'Howd did it...</td>\n",
       "      <td>{'speaker': 'Rachel', 'utterance': 'Oh well, t...</td>\n",
       "      <td>{'speaker': 'Ross', 'utterance': 'Im so proud...</td>\n",
       "      <td>...</td>\n",
       "      <td>{'speaker': 'Rachel', 'utterance': 'Yeah.', 'e...</td>\n",
       "      <td>{'speaker': 'Phoebe', 'utterance': 'Ameri-can....</td>\n",
       "      <td>{'speaker': 'Sergei', 'utterance': 'Ameri-ccan...</td>\n",
       "      <td>{'speaker': 'Phoebe', 'utterance': 'Ameri-can....</td>\n",
       "      <td>{'speaker': 'Sergei', 'utterance': 'Everybody!...</td>\n",
       "      <td>None</td>\n",
       "      <td>None</td>\n",
       "      <td>None</td>\n",
       "      <td>None</td>\n",
       "      <td>None</td>\n",
       "    </tr>\n",
       "    <tr>\n",
       "      <th>3</th>\n",
       "      <td>{'speaker': 'Chandler', 'utterance': 'Good job...</td>\n",
       "      <td>{'speaker': 'Joey', 'utterance': 'You liked it...</td>\n",
       "      <td>{'speaker': 'Chandler', 'utterance': 'Oh-ho-ho...</td>\n",
       "      <td>{'speaker': 'Joey', 'utterance': 'Which part e...</td>\n",
       "      <td>{'speaker': 'Chandler', 'utterance': 'The whol...</td>\n",
       "      <td>{'speaker': 'Joey', 'utterance': 'Oh no-no-no,...</td>\n",
       "      <td>{'speaker': 'Chandler', 'utterance': 'I love t...</td>\n",
       "      <td>{'speaker': 'Joey', 'utterance': 'Hey, what ab...</td>\n",
       "      <td>{'speaker': 'Chandler', 'utterance': 'I was su...</td>\n",
       "      <td>{'speaker': 'Joey', 'utterance': 'You fell asl...</td>\n",
       "      <td>...</td>\n",
       "      <td>{'speaker': 'Chandler', 'utterance': 'Dont go...</td>\n",
       "      <td>{'speaker': 'Chandler', 'utterance': 'Im sorr...</td>\n",
       "      <td>{'speaker': 'Chandler', 'utterance': 'Im so s...</td>\n",
       "      <td>{'speaker': 'Chandler', 'utterance': 'Look!', ...</td>\n",
       "      <td>{'speaker': 'Chandler', 'utterance': 'This guy...</td>\n",
       "      <td>{'speaker': 'Chandler', 'utterance': 'He fell ...</td>\n",
       "      <td>{'speaker': 'Chandler', 'utterance': 'Be mad a...</td>\n",
       "      <td>{'speaker': 'Chandler', 'utterance': 'Or, call...</td>\n",
       "      <td>None</td>\n",
       "      <td>None</td>\n",
       "    </tr>\n",
       "    <tr>\n",
       "      <th>4</th>\n",
       "      <td>{'speaker': 'Joey', 'utterance': 'Okay, look, ...</td>\n",
       "      <td>{'speaker': 'Ross', 'utterance': 'What?! What ...</td>\n",
       "      <td>{'speaker': 'Phoebe', 'utterance': 'Yes, and i...</td>\n",
       "      <td>{'speaker': 'Phoebe', 'utterance': 'See, if I...</td>\n",
       "      <td>{'speaker': 'Chandler', 'utterance': 'Okay, th...</td>\n",
       "      <td>{'speaker': 'Customer', 'utterance': 'I dont ...</td>\n",
       "      <td>{'speaker': 'Chandler', 'utterance': 'Great! O...</td>\n",
       "      <td>{'speaker': 'Customer', 'utterance': 'All righ...</td>\n",
       "      <td>{'speaker': 'Chandler', 'utterance': 'Thank yo...</td>\n",
       "      <td>None</td>\n",
       "      <td>...</td>\n",
       "      <td>None</td>\n",
       "      <td>None</td>\n",
       "      <td>None</td>\n",
       "      <td>None</td>\n",
       "      <td>None</td>\n",
       "      <td>None</td>\n",
       "      <td>None</td>\n",
       "      <td>None</td>\n",
       "      <td>None</td>\n",
       "      <td>None</td>\n",
       "    </tr>\n",
       "    <tr>\n",
       "      <th>...</th>\n",
       "      <td>...</td>\n",
       "      <td>...</td>\n",
       "      <td>...</td>\n",
       "      <td>...</td>\n",
       "      <td>...</td>\n",
       "      <td>...</td>\n",
       "      <td>...</td>\n",
       "      <td>...</td>\n",
       "      <td>...</td>\n",
       "      <td>...</td>\n",
       "      <td>...</td>\n",
       "      <td>...</td>\n",
       "      <td>...</td>\n",
       "      <td>...</td>\n",
       "      <td>...</td>\n",
       "      <td>...</td>\n",
       "      <td>...</td>\n",
       "      <td>...</td>\n",
       "      <td>...</td>\n",
       "      <td>...</td>\n",
       "      <td>...</td>\n",
       "    </tr>\n",
       "    <tr>\n",
       "      <th>715</th>\n",
       "      <td>{'speaker': 'Chandler', 'utterance': 'Excuse m...</td>\n",
       "      <td>{'speaker': 'Doug', 'utterance': 'Bing! You go...</td>\n",
       "      <td>{'speaker': 'Chip', 'utterance': 'So you still...</td>\n",
       "      <td>{'speaker': 'Monica', 'utterance': 'Umm. Well,...</td>\n",
       "      <td>{'speaker': 'Chip', 'utterance': 'Oh yeah, I s...</td>\n",
       "      <td>{'speaker': 'Chip', 'utterance': 'I see Spindl...</td>\n",
       "      <td>{'speaker': 'Chip', 'utterance': 'Devane, Kell...</td>\n",
       "      <td>{'speaker': 'Chip', 'utterance': 'Steve Brown,...</td>\n",
       "      <td>{'speaker': 'Monica', 'utterance': 'Is that al...</td>\n",
       "      <td>{'speaker': 'Chip', 'utterance': 'Ehh, y'know ...</td>\n",
       "      <td>...</td>\n",
       "      <td>None</td>\n",
       "      <td>None</td>\n",
       "      <td>None</td>\n",
       "      <td>None</td>\n",
       "      <td>None</td>\n",
       "      <td>None</td>\n",
       "      <td>None</td>\n",
       "      <td>None</td>\n",
       "      <td>None</td>\n",
       "      <td>None</td>\n",
       "    </tr>\n",
       "    <tr>\n",
       "      <th>716</th>\n",
       "      <td>{'speaker': 'Joey', 'utterance': 'So the Porsc...</td>\n",
       "      <td>{'speaker': 'Chandler', 'utterance': 'But you ...</td>\n",
       "      <td>{'speaker': 'Joey', 'utterance': 'No. No, I ju...</td>\n",
       "      <td>{'speaker': 'Monica', 'utterance': 'And people...</td>\n",
       "      <td>{'speaker': 'Monica', 'utterance': 'Really?!',...</td>\n",
       "      <td>{'speaker': 'Chandler', 'utterance': 'Oh yeah!...</td>\n",
       "      <td>{'speaker': 'Monica', 'utterance': 'Great!', '...</td>\n",
       "      <td>{'speaker': 'Phoebe', 'utterance': 'Okay, Lond...</td>\n",
       "      <td>None</td>\n",
       "      <td>None</td>\n",
       "      <td>...</td>\n",
       "      <td>None</td>\n",
       "      <td>None</td>\n",
       "      <td>None</td>\n",
       "      <td>None</td>\n",
       "      <td>None</td>\n",
       "      <td>None</td>\n",
       "      <td>None</td>\n",
       "      <td>None</td>\n",
       "      <td>None</td>\n",
       "      <td>None</td>\n",
       "    </tr>\n",
       "    <tr>\n",
       "      <th>717</th>\n",
       "      <td>{'speaker': 'Rachel', 'utterance': 'Hey, Mon, ...</td>\n",
       "      <td>{'speaker': 'Ross', 'utterance': 'Hey!', 'emot...</td>\n",
       "      <td>{'speaker': 'Rachel', 'utterance': 'Oh! Its y...</td>\n",
       "      <td>{'speaker': 'Joey', 'utterance': 'What about m...</td>\n",
       "      <td>{'speaker': 'Chandler', 'utterance': 'Im not ...</td>\n",
       "      <td>{'speaker': 'Joey', 'utterance': 'I cant beli...</td>\n",
       "      <td>{'speaker': 'Ross', 'utterance': 'Hey, how can...</td>\n",
       "      <td>{'speaker': 'Chandler', 'utterance': 'Im not ...</td>\n",
       "      <td>{'speaker': 'Ross', 'utterance': 'Fine, yknow...</td>\n",
       "      <td>{'speaker': 'Joey', 'utterance': 'Yes!  Shame ...</td>\n",
       "      <td>...</td>\n",
       "      <td>None</td>\n",
       "      <td>None</td>\n",
       "      <td>None</td>\n",
       "      <td>None</td>\n",
       "      <td>None</td>\n",
       "      <td>None</td>\n",
       "      <td>None</td>\n",
       "      <td>None</td>\n",
       "      <td>None</td>\n",
       "      <td>None</td>\n",
       "    </tr>\n",
       "    <tr>\n",
       "      <th>718</th>\n",
       "      <td>{'speaker': 'Joey', 'utterance': 'Hey-hey! Sta...</td>\n",
       "      <td>{'speaker': 'Stanley', 'utterance': 'Umm, slig...</td>\n",
       "      <td>{'speaker': 'Joey', 'utterance': 'Wh-what?! Wh...</td>\n",
       "      <td>{'speaker': 'Stanley', 'utterance': 'It's a mo...</td>\n",
       "      <td>{'speaker': 'Joey', 'utterance': 'You're kiddi...</td>\n",
       "      <td>{'speaker': 'Stanley', 'utterance': 'No.', 'em...</td>\n",
       "      <td>{'speaker': 'Joey', 'utterance': 'What?!', 'em...</td>\n",
       "      <td>{'speaker': 'Stanley', 'utterance': 'It-it's p...</td>\n",
       "      <td>{'speaker': 'Joey', 'utterance': 'Uh, hang out...</td>\n",
       "      <td>{'speaker': 'Stanley', 'utterance': 'I don't k...</td>\n",
       "      <td>...</td>\n",
       "      <td>{'speaker': 'Stanley', 'utterance': 'Hey, you'...</td>\n",
       "      <td>{'speaker': 'Joey', 'utterance': 'No!', 'emoti...</td>\n",
       "      <td>{'speaker': 'Stanley', 'utterance': 'Eh, worth...</td>\n",
       "      <td>{'speaker': 'The Grip', 'utterance': 'Hey pal,...</td>\n",
       "      <td>{'speaker': 'Joey', 'utterance': 'Yeah.', 'emo...</td>\n",
       "      <td>{'speaker': 'The Grip', 'utterance': 'These go...</td>\n",
       "      <td>{'speaker': 'Joey', 'utterance': 'Thanks.   Co...</td>\n",
       "      <td>None</td>\n",
       "      <td>None</td>\n",
       "      <td>None</td>\n",
       "    </tr>\n",
       "    <tr>\n",
       "      <th>719</th>\n",
       "      <td>{'speaker': 'Julie', 'utterance': 'Rachel, do ...</td>\n",
       "      <td>{'speaker': 'Rachel', 'utterance': 'Yeah, I fo...</td>\n",
       "      <td>{'speaker': 'Julie', 'utterance': 'Oh, you're ...</td>\n",
       "      <td>{'speaker': 'Chandler', 'utterance': 'Hey.', '...</td>\n",
       "      <td>{'speaker': 'All', 'utterance': 'Hey!', 'emoti...</td>\n",
       "      <td>{'speaker': 'Monica', 'utterance': 'So how was...</td>\n",
       "      <td>{'speaker': 'Chandler', 'utterance': 'I broke ...</td>\n",
       "      <td>{'speaker': 'Ross', 'utterance': 'Dont tell m...</td>\n",
       "      <td>{'speaker': 'Chandler', 'utterance': 'They wer...</td>\n",
       "      <td>{'speaker': 'Rachel', 'utterance': 'Come on, t...</td>\n",
       "      <td>...</td>\n",
       "      <td>{'speaker': 'Joey', 'utterance': 'When I first...</td>\n",
       "      <td>{'speaker': 'Joey', 'utterance': 'It made me n...</td>\n",
       "      <td>{'speaker': 'Chandler', 'utterance': 'You or m...</td>\n",
       "      <td>{'speaker': 'Ross', 'utterance': 'I got it. Uh...</td>\n",
       "      <td>{'speaker': 'Joey', 'utterance': 'You guys are...</td>\n",
       "      <td>{'speaker': 'All', 'utterance': 'Yeah.', 'emot...</td>\n",
       "      <td>{'speaker': 'Joey', 'utterance': 'That was a g...</td>\n",
       "      <td>None</td>\n",
       "      <td>None</td>\n",
       "      <td>None</td>\n",
       "    </tr>\n",
       "  </tbody>\n",
       "</table>\n",
       "<p>720 rows × 24 columns</p>\n",
       "</div>"
      ],
      "text/plain": [
       "                                                    0   \\\n",
       "0    {'speaker': 'Chandler', 'utterance': 'also I w...   \n",
       "1    {'speaker': 'Chandler', 'utterance': 'Hey, Mon...   \n",
       "2    {'speaker': 'Rachel', 'utterance': 'Hey!', 'em...   \n",
       "3    {'speaker': 'Chandler', 'utterance': 'Good job...   \n",
       "4    {'speaker': 'Joey', 'utterance': 'Okay, look, ...   \n",
       "..                                                 ...   \n",
       "715  {'speaker': 'Chandler', 'utterance': 'Excuse m...   \n",
       "716  {'speaker': 'Joey', 'utterance': 'So the Porsc...   \n",
       "717  {'speaker': 'Rachel', 'utterance': 'Hey, Mon, ...   \n",
       "718  {'speaker': 'Joey', 'utterance': 'Hey-hey! Sta...   \n",
       "719  {'speaker': 'Julie', 'utterance': 'Rachel, do ...   \n",
       "\n",
       "                                                    1   \\\n",
       "0    {'speaker': 'The Interviewer', 'utterance': 'Y...   \n",
       "1    {'speaker': 'Monica', 'utterance': 'Hey-hey-he...   \n",
       "2    {'speaker': 'Ross', 'utterance': 'Hi!', 'emoti...   \n",
       "3    {'speaker': 'Joey', 'utterance': 'You liked it...   \n",
       "4    {'speaker': 'Ross', 'utterance': 'What?! What ...   \n",
       "..                                                 ...   \n",
       "715  {'speaker': 'Doug', 'utterance': 'Bing! You go...   \n",
       "716  {'speaker': 'Chandler', 'utterance': 'But you ...   \n",
       "717  {'speaker': 'Ross', 'utterance': 'Hey!', 'emot...   \n",
       "718  {'speaker': 'Stanley', 'utterance': 'Umm, slig...   \n",
       "719  {'speaker': 'Rachel', 'utterance': 'Yeah, I fo...   \n",
       "\n",
       "                                                    2   \\\n",
       "0    {'speaker': 'Chandler', 'utterance': 'That I d...   \n",
       "1    {'speaker': 'Chandler', 'utterance': 'Do I eve...   \n",
       "2    {'speaker': 'Rachel', 'utterance': 'What are y...   \n",
       "3    {'speaker': 'Chandler', 'utterance': 'Oh-ho-ho...   \n",
       "4    {'speaker': 'Phoebe', 'utterance': 'Yes, and i...   \n",
       "..                                                 ...   \n",
       "715  {'speaker': 'Chip', 'utterance': 'So you still...   \n",
       "716  {'speaker': 'Joey', 'utterance': 'No. No, I ju...   \n",
       "717  {'speaker': 'Rachel', 'utterance': 'Oh! Its y...   \n",
       "718  {'speaker': 'Joey', 'utterance': 'Wh-what?! Wh...   \n",
       "719  {'speaker': 'Julie', 'utterance': 'Oh, you're ...   \n",
       "\n",
       "                                                    3   \\\n",
       "0    {'speaker': 'The Interviewer', 'utterance': 'S...   \n",
       "1    {'speaker': 'Monica', 'utterance': 'Chris says...   \n",
       "2    {'speaker': 'Ross', 'utterance': 'Ah y'know, t...   \n",
       "3    {'speaker': 'Joey', 'utterance': 'Which part e...   \n",
       "4    {'speaker': 'Phoebe', 'utterance': 'See, if I...   \n",
       "..                                                 ...   \n",
       "715  {'speaker': 'Monica', 'utterance': 'Umm. Well,...   \n",
       "716  {'speaker': 'Monica', 'utterance': 'And people...   \n",
       "717  {'speaker': 'Joey', 'utterance': 'What about m...   \n",
       "718  {'speaker': 'Stanley', 'utterance': 'It's a mo...   \n",
       "719  {'speaker': 'Chandler', 'utterance': 'Hey.', '...   \n",
       "\n",
       "                                                    4   \\\n",
       "0    {'speaker': 'Chandler', 'utterance': 'My dutie...   \n",
       "1    {'speaker': 'Chandler', 'utterance': 'No way!'...   \n",
       "2    {'speaker': 'Rachel', 'utterance': 'Oh.', 'emo...   \n",
       "3    {'speaker': 'Chandler', 'utterance': 'The whol...   \n",
       "4    {'speaker': 'Chandler', 'utterance': 'Okay, th...   \n",
       "..                                                 ...   \n",
       "715  {'speaker': 'Chip', 'utterance': 'Oh yeah, I s...   \n",
       "716  {'speaker': 'Monica', 'utterance': 'Really?!',...   \n",
       "717  {'speaker': 'Chandler', 'utterance': 'Im not ...   \n",
       "718  {'speaker': 'Joey', 'utterance': 'You're kiddi...   \n",
       "719  {'speaker': 'All', 'utterance': 'Hey!', 'emoti...   \n",
       "\n",
       "                                                    5   \\\n",
       "0    {'speaker': 'The Interviewer', 'utterance': 'N...   \n",
       "1    {'speaker': 'Monica', 'utterance': 'Yeah, appa...   \n",
       "2    {'speaker': 'Ross', 'utterance': 'Hi.', 'emoti...   \n",
       "3    {'speaker': 'Joey', 'utterance': 'Oh no-no-no,...   \n",
       "4    {'speaker': 'Customer', 'utterance': 'I dont ...   \n",
       "..                                                 ...   \n",
       "715  {'speaker': 'Chip', 'utterance': 'I see Spindl...   \n",
       "716  {'speaker': 'Chandler', 'utterance': 'Oh yeah!...   \n",
       "717  {'speaker': 'Joey', 'utterance': 'I cant beli...   \n",
       "718  {'speaker': 'Stanley', 'utterance': 'No.', 'em...   \n",
       "719  {'speaker': 'Monica', 'utterance': 'So how was...   \n",
       "\n",
       "                                                    6   \\\n",
       "0    {'speaker': 'Chandler', 'utterance': 'I see.',...   \n",
       "1    {'speaker': 'Chandler', 'utterance': 'Just cof...   \n",
       "2    {'speaker': 'Rachel', 'utterance': 'Hi.', 'emo...   \n",
       "3    {'speaker': 'Chandler', 'utterance': 'I love t...   \n",
       "4    {'speaker': 'Chandler', 'utterance': 'Great! O...   \n",
       "..                                                 ...   \n",
       "715  {'speaker': 'Chip', 'utterance': 'Devane, Kell...   \n",
       "716  {'speaker': 'Monica', 'utterance': 'Great!', '...   \n",
       "717  {'speaker': 'Ross', 'utterance': 'Hey, how can...   \n",
       "718  {'speaker': 'Joey', 'utterance': 'What?!', 'em...   \n",
       "719  {'speaker': 'Chandler', 'utterance': 'I broke ...   \n",
       "\n",
       "                                                    7   \\\n",
       "0    {'speaker': 'The Interviewer', 'utterance': 'B...   \n",
       "1    {'speaker': 'Monica', 'utterance': 'Got me.', ...   \n",
       "2    {'speaker': 'Ross', 'utterance': 'Howd did it...   \n",
       "3    {'speaker': 'Joey', 'utterance': 'Hey, what ab...   \n",
       "4    {'speaker': 'Customer', 'utterance': 'All righ...   \n",
       "..                                                 ...   \n",
       "715  {'speaker': 'Chip', 'utterance': 'Steve Brown,...   \n",
       "716  {'speaker': 'Phoebe', 'utterance': 'Okay, Lond...   \n",
       "717  {'speaker': 'Chandler', 'utterance': 'Im not ...   \n",
       "718  {'speaker': 'Stanley', 'utterance': 'It-it's p...   \n",
       "719  {'speaker': 'Ross', 'utterance': 'Dont tell m...   \n",
       "\n",
       "                                                    8   \\\n",
       "0    {'speaker': 'Chandler', 'utterance': 'Good to ...   \n",
       "1    {'speaker': 'Chandler', 'utterance': 'Can I ge...   \n",
       "2    {'speaker': 'Rachel', 'utterance': 'Oh well, t...   \n",
       "3    {'speaker': 'Chandler', 'utterance': 'I was su...   \n",
       "4    {'speaker': 'Chandler', 'utterance': 'Thank yo...   \n",
       "..                                                 ...   \n",
       "715  {'speaker': 'Monica', 'utterance': 'Is that al...   \n",
       "716                                               None   \n",
       "717  {'speaker': 'Ross', 'utterance': 'Fine, yknow...   \n",
       "718  {'speaker': 'Joey', 'utterance': 'Uh, hang out...   \n",
       "719  {'speaker': 'Chandler', 'utterance': 'They wer...   \n",
       "\n",
       "                                                    9   ...  \\\n",
       "0    {'speaker': 'The Interviewer', 'utterance': 'W...  ...   \n",
       "1    {'speaker': 'Monica', 'utterance': 'Hey, did y...  ...   \n",
       "2    {'speaker': 'Ross', 'utterance': 'Im so proud...  ...   \n",
       "3    {'speaker': 'Joey', 'utterance': 'You fell asl...  ...   \n",
       "4                                                 None  ...   \n",
       "..                                                 ...  ...   \n",
       "715  {'speaker': 'Chip', 'utterance': 'Ehh, y'know ...  ...   \n",
       "716                                               None  ...   \n",
       "717  {'speaker': 'Joey', 'utterance': 'Yes!  Shame ...  ...   \n",
       "718  {'speaker': 'Stanley', 'utterance': 'I don't k...  ...   \n",
       "719  {'speaker': 'Rachel', 'utterance': 'Come on, t...  ...   \n",
       "\n",
       "                                                    14  \\\n",
       "0    {'speaker': 'Joey', 'utterance': 'But then who...   \n",
       "1    {'speaker': 'Chandler', 'utterance': 'What, wh...   \n",
       "2    {'speaker': 'Rachel', 'utterance': 'Yeah.', 'e...   \n",
       "3    {'speaker': 'Chandler', 'utterance': 'Dont go...   \n",
       "4                                                 None   \n",
       "..                                                 ...   \n",
       "715                                               None   \n",
       "716                                               None   \n",
       "717                                               None   \n",
       "718  {'speaker': 'Stanley', 'utterance': 'Hey, you'...   \n",
       "719  {'speaker': 'Joey', 'utterance': 'When I first...   \n",
       "\n",
       "                                                    15  \\\n",
       "0    {'speaker': 'Rachel', 'utterance': 'You know? ...   \n",
       "1    {'speaker': 'Phoebe', 'utterance': 'What?!', '...   \n",
       "2    {'speaker': 'Phoebe', 'utterance': 'Ameri-can....   \n",
       "3    {'speaker': 'Chandler', 'utterance': 'Im sorr...   \n",
       "4                                                 None   \n",
       "..                                                 ...   \n",
       "715                                               None   \n",
       "716                                               None   \n",
       "717                                               None   \n",
       "718  {'speaker': 'Joey', 'utterance': 'No!', 'emoti...   \n",
       "719  {'speaker': 'Joey', 'utterance': 'It made me n...   \n",
       "\n",
       "                                                    16  \\\n",
       "0    {'speaker': 'Joey', 'utterance': 'No-no-no-no,...   \n",
       "1    {'speaker': 'Phoebe', 'utterance': 'He was wit...   \n",
       "2    {'speaker': 'Sergei', 'utterance': 'Ameri-ccan...   \n",
       "3    {'speaker': 'Chandler', 'utterance': 'Im so s...   \n",
       "4                                                 None   \n",
       "..                                                 ...   \n",
       "715                                               None   \n",
       "716                                               None   \n",
       "717                                               None   \n",
       "718  {'speaker': 'Stanley', 'utterance': 'Eh, worth...   \n",
       "719  {'speaker': 'Chandler', 'utterance': 'You or m...   \n",
       "\n",
       "                                                    17  \\\n",
       "0    {'speaker': 'Rachel', 'utterance': 'No, I-I-I-...   \n",
       "1    {'speaker': 'Phoebe', 'utterance': 'Look,  'My...   \n",
       "2    {'speaker': 'Phoebe', 'utterance': 'Ameri-can....   \n",
       "3    {'speaker': 'Chandler', 'utterance': 'Look!', ...   \n",
       "4                                                 None   \n",
       "..                                                 ...   \n",
       "715                                               None   \n",
       "716                                               None   \n",
       "717                                               None   \n",
       "718  {'speaker': 'The Grip', 'utterance': 'Hey pal,...   \n",
       "719  {'speaker': 'Ross', 'utterance': 'I got it. Uh...   \n",
       "\n",
       "                                                    18  \\\n",
       "0    {'speaker': 'Joey', 'utterance': 'Ok!', 'emoti...   \n",
       "1    {'speaker': 'Phoebe', 'utterance': 'Now that I...   \n",
       "2    {'speaker': 'Sergei', 'utterance': 'Everybody!...   \n",
       "3    {'speaker': 'Chandler', 'utterance': 'This guy...   \n",
       "4                                                 None   \n",
       "..                                                 ...   \n",
       "715                                               None   \n",
       "716                                               None   \n",
       "717                                               None   \n",
       "718  {'speaker': 'Joey', 'utterance': 'Yeah.', 'emo...   \n",
       "719  {'speaker': 'Joey', 'utterance': 'You guys are...   \n",
       "\n",
       "                                                    19  \\\n",
       "0    {'speaker': 'Joey', 'utterance': 'All right, w...   \n",
       "1    {'speaker': 'Phoebe', 'utterance': 'He thinks ...   \n",
       "2                                                 None   \n",
       "3    {'speaker': 'Chandler', 'utterance': 'He fell ...   \n",
       "4                                                 None   \n",
       "..                                                 ...   \n",
       "715                                               None   \n",
       "716                                               None   \n",
       "717                                               None   \n",
       "718  {'speaker': 'The Grip', 'utterance': 'These go...   \n",
       "719  {'speaker': 'All', 'utterance': 'Yeah.', 'emot...   \n",
       "\n",
       "                                                    20  \\\n",
       "0    {'speaker': 'Joey', 'utterance': 'I'm gonna se...   \n",
       "1    {'speaker': 'Chandler', 'utterance': 'You real...   \n",
       "2                                                 None   \n",
       "3    {'speaker': 'Chandler', 'utterance': 'Be mad a...   \n",
       "4                                                 None   \n",
       "..                                                 ...   \n",
       "715                                               None   \n",
       "716                                               None   \n",
       "717                                               None   \n",
       "718  {'speaker': 'Joey', 'utterance': 'Thanks.   Co...   \n",
       "719  {'speaker': 'Joey', 'utterance': 'That was a g...   \n",
       "\n",
       "                                                    21  \\\n",
       "0    {'speaker': 'Joey', 'utterance': 'I'll see you...   \n",
       "1    {'speaker': 'Phoebe', 'utterance': 'Oh, totall...   \n",
       "2                                                 None   \n",
       "3    {'speaker': 'Chandler', 'utterance': 'Or, call...   \n",
       "4                                                 None   \n",
       "..                                                 ...   \n",
       "715                                               None   \n",
       "716                                               None   \n",
       "717                                               None   \n",
       "718                                               None   \n",
       "719                                               None   \n",
       "\n",
       "                                                    22    23  \n",
       "0    {'speaker': 'Rachel', 'utterance': 'Yeah, sure...  None  \n",
       "1    {'speaker': 'Joey', 'utterance': 'Done.', 'emo...  None  \n",
       "2                                                 None  None  \n",
       "3                                                 None  None  \n",
       "4                                                 None  None  \n",
       "..                                                 ...   ...  \n",
       "715                                               None  None  \n",
       "716                                               None  None  \n",
       "717                                               None  None  \n",
       "718                                               None  None  \n",
       "719                                               None  None  \n",
       "\n",
       "[720 rows x 24 columns]"
      ]
     },
     "execution_count": 3,
     "metadata": {},
     "output_type": "execute_result"
    }
   ],
   "source": [
    "df = pd.read_json('friends_train.json')\n",
    "\n",
    "df"
   ]
  },
  {
   "cell_type": "markdown",
   "id": "35ce2d70",
   "metadata": {},
   "source": [
    "## Normalizing Dataset"
   ]
  },
  {
   "cell_type": "code",
   "execution_count": 4,
   "id": "8240dff8",
   "metadata": {
    "tags": []
   },
   "outputs": [],
   "source": [
    "df_cleaned = pd.json_normalize(df[0])"
   ]
  },
  {
   "cell_type": "code",
   "execution_count": 5,
   "id": "1c7e71aa",
   "metadata": {
    "scrolled": true,
    "tags": []
   },
   "outputs": [
    {
     "data": {
      "text/html": [
       "<div>\n",
       "<style scoped>\n",
       "    .dataframe tbody tr th:only-of-type {\n",
       "        vertical-align: middle;\n",
       "    }\n",
       "\n",
       "    .dataframe tbody tr th {\n",
       "        vertical-align: top;\n",
       "    }\n",
       "\n",
       "    .dataframe thead th {\n",
       "        text-align: right;\n",
       "    }\n",
       "</style>\n",
       "<table border=\"1\" class=\"dataframe\">\n",
       "  <thead>\n",
       "    <tr style=\"text-align: right;\">\n",
       "      <th></th>\n",
       "      <th>speaker</th>\n",
       "      <th>utterance</th>\n",
       "      <th>emotion</th>\n",
       "      <th>annotation</th>\n",
       "    </tr>\n",
       "  </thead>\n",
       "  <tbody>\n",
       "    <tr>\n",
       "      <th>0</th>\n",
       "      <td>Chandler</td>\n",
       "      <td>also I was the point person on my companys tr...</td>\n",
       "      <td>neutral</td>\n",
       "      <td>4100000</td>\n",
       "    </tr>\n",
       "    <tr>\n",
       "      <th>1</th>\n",
       "      <td>Chandler</td>\n",
       "      <td>Hey, Mon.</td>\n",
       "      <td>neutral</td>\n",
       "      <td>5000000</td>\n",
       "    </tr>\n",
       "    <tr>\n",
       "      <th>2</th>\n",
       "      <td>Rachel</td>\n",
       "      <td>Hey!</td>\n",
       "      <td>non-neutral</td>\n",
       "      <td>1200020</td>\n",
       "    </tr>\n",
       "    <tr>\n",
       "      <th>3</th>\n",
       "      <td>Chandler</td>\n",
       "      <td>Good job Joe! Well done! Top notch!</td>\n",
       "      <td>joy</td>\n",
       "      <td>0500000</td>\n",
       "    </tr>\n",
       "    <tr>\n",
       "      <th>4</th>\n",
       "      <td>Joey</td>\n",
       "      <td>Okay, look, I think we have to tell Rachel she...</td>\n",
       "      <td>neutral</td>\n",
       "      <td>4001000</td>\n",
       "    </tr>\n",
       "    <tr>\n",
       "      <th>...</th>\n",
       "      <td>...</td>\n",
       "      <td>...</td>\n",
       "      <td>...</td>\n",
       "      <td>...</td>\n",
       "    </tr>\n",
       "    <tr>\n",
       "      <th>715</th>\n",
       "      <td>Chandler</td>\n",
       "      <td>Excuse me, Doug?  Hey there sports fan!!</td>\n",
       "      <td>joy</td>\n",
       "      <td>1400000</td>\n",
       "    </tr>\n",
       "    <tr>\n",
       "      <th>716</th>\n",
       "      <td>Joey</td>\n",
       "      <td>So the Porsche guy took his car back.</td>\n",
       "      <td>neutral</td>\n",
       "      <td>4010000</td>\n",
       "    </tr>\n",
       "    <tr>\n",
       "      <th>717</th>\n",
       "      <td>Rachel</td>\n",
       "      <td>Hey, Mon, I was just doing the dishes!</td>\n",
       "      <td>neutral</td>\n",
       "      <td>3100010</td>\n",
       "    </tr>\n",
       "    <tr>\n",
       "      <th>718</th>\n",
       "      <td>Joey</td>\n",
       "      <td>Hey-hey! Stanley! Hey-hey! You're leading man ...</td>\n",
       "      <td>joy</td>\n",
       "      <td>1300100</td>\n",
       "    </tr>\n",
       "    <tr>\n",
       "      <th>719</th>\n",
       "      <td>Julie</td>\n",
       "      <td>Rachel, do you have any muffins left?</td>\n",
       "      <td>neutral</td>\n",
       "      <td>5000000</td>\n",
       "    </tr>\n",
       "  </tbody>\n",
       "</table>\n",
       "<p>720 rows × 4 columns</p>\n",
       "</div>"
      ],
      "text/plain": [
       "      speaker                                          utterance      emotion  \\\n",
       "0    Chandler  also I was the point person on my companys tr...      neutral   \n",
       "1    Chandler                                          Hey, Mon.      neutral   \n",
       "2      Rachel                                               Hey!  non-neutral   \n",
       "3    Chandler                Good job Joe! Well done! Top notch!          joy   \n",
       "4        Joey  Okay, look, I think we have to tell Rachel she...      neutral   \n",
       "..        ...                                                ...          ...   \n",
       "715  Chandler           Excuse me, Doug?  Hey there sports fan!!          joy   \n",
       "716      Joey              So the Porsche guy took his car back.      neutral   \n",
       "717    Rachel             Hey, Mon, I was just doing the dishes!      neutral   \n",
       "718      Joey  Hey-hey! Stanley! Hey-hey! You're leading man ...          joy   \n",
       "719     Julie              Rachel, do you have any muffins left?      neutral   \n",
       "\n",
       "    annotation  \n",
       "0      4100000  \n",
       "1      5000000  \n",
       "2      1200020  \n",
       "3      0500000  \n",
       "4      4001000  \n",
       "..         ...  \n",
       "715    1400000  \n",
       "716    4010000  \n",
       "717    3100010  \n",
       "718    1300100  \n",
       "719    5000000  \n",
       "\n",
       "[720 rows x 4 columns]"
      ]
     },
     "execution_count": 5,
     "metadata": {},
     "output_type": "execute_result"
    }
   ],
   "source": [
    "df_cleaned"
   ]
  },
  {
   "cell_type": "code",
   "execution_count": 6,
   "id": "6c82bfa9",
   "metadata": {
    "tags": []
   },
   "outputs": [],
   "source": [
    "\n",
    "for i in range (1,len(df.columns)):\n",
    "    \n",
    "    df_cleaned = pd.concat([df_cleaned, pd.json_normalize(df[i])])\n"
   ]
  },
  {
   "cell_type": "markdown",
   "id": "5487dd0b",
   "metadata": {},
   "source": [
    "### CHecking structure of dataset"
   ]
  },
  {
   "cell_type": "code",
   "execution_count": 7,
   "id": "8e929c0c",
   "metadata": {
    "tags": []
   },
   "outputs": [
    {
     "name": "stdout",
     "output_type": "stream",
     "text": [
      "<class 'pandas.core.frame.DataFrame'>\n",
      "Int64Index: 17280 entries, 0 to 719\n",
      "Data columns (total 4 columns):\n",
      " #   Column      Non-Null Count  Dtype \n",
      "---  ------      --------------  ----- \n",
      " 0   speaker     10561 non-null  object\n",
      " 1   utterance   10561 non-null  object\n",
      " 2   emotion     10561 non-null  object\n",
      " 3   annotation  10561 non-null  object\n",
      "dtypes: object(4)\n",
      "memory usage: 675.0+ KB\n"
     ]
    }
   ],
   "source": [
    "df_cleaned.info()"
   ]
  },
  {
   "cell_type": "markdown",
   "id": "606c5509",
   "metadata": {},
   "source": [
    "## Checking for Null Values"
   ]
  },
  {
   "cell_type": "code",
   "execution_count": 8,
   "id": "cc8e5ac3",
   "metadata": {
    "scrolled": true,
    "tags": []
   },
   "outputs": [
    {
     "data": {
      "text/plain": [
       "speaker       6719\n",
       "utterance     6719\n",
       "emotion       6719\n",
       "annotation    6719\n",
       "dtype: int64"
      ]
     },
     "execution_count": 8,
     "metadata": {},
     "output_type": "execute_result"
    }
   ],
   "source": [
    "df_cleaned.isnull().sum()"
   ]
  },
  {
   "cell_type": "markdown",
   "id": "081153ca",
   "metadata": {},
   "source": [
    "Dropping Null Values"
   ]
  },
  {
   "cell_type": "code",
   "execution_count": 9,
   "id": "f29085cf",
   "metadata": {
    "tags": []
   },
   "outputs": [],
   "source": [
    "df_cleaned=df_cleaned.dropna()"
   ]
  },
  {
   "cell_type": "code",
   "execution_count": 10,
   "id": "e4026e71",
   "metadata": {
    "tags": []
   },
   "outputs": [
    {
     "data": {
      "text/plain": [
       "speaker       0\n",
       "utterance     0\n",
       "emotion       0\n",
       "annotation    0\n",
       "dtype: int64"
      ]
     },
     "execution_count": 10,
     "metadata": {},
     "output_type": "execute_result"
    }
   ],
   "source": [
    "df_cleaned.isnull().sum()"
   ]
  },
  {
   "cell_type": "markdown",
   "id": "083a3961",
   "metadata": {},
   "source": [
    "### Performing Tokenization and Lemmatization along with removal of stop words"
   ]
  },
  {
   "cell_type": "code",
   "execution_count": 11,
   "id": "ec1c83f6",
   "metadata": {
    "scrolled": true,
    "tags": []
   },
   "outputs": [
    {
     "data": {
      "text/html": [
       "<div>\n",
       "<style scoped>\n",
       "    .dataframe tbody tr th:only-of-type {\n",
       "        vertical-align: middle;\n",
       "    }\n",
       "\n",
       "    .dataframe tbody tr th {\n",
       "        vertical-align: top;\n",
       "    }\n",
       "\n",
       "    .dataframe thead th {\n",
       "        text-align: right;\n",
       "    }\n",
       "</style>\n",
       "<table border=\"1\" class=\"dataframe\">\n",
       "  <thead>\n",
       "    <tr style=\"text-align: right;\">\n",
       "      <th></th>\n",
       "      <th>speaker</th>\n",
       "      <th>utterance</th>\n",
       "      <th>emotion</th>\n",
       "      <th>annotation</th>\n",
       "      <th>processed_utterance</th>\n",
       "    </tr>\n",
       "  </thead>\n",
       "  <tbody>\n",
       "    <tr>\n",
       "      <th>0</th>\n",
       "      <td>Chandler</td>\n",
       "      <td>also I was the point person on my companys tr...</td>\n",
       "      <td>neutral</td>\n",
       "      <td>4100000</td>\n",
       "      <td>also point person transition system</td>\n",
       "    </tr>\n",
       "    <tr>\n",
       "      <th>1</th>\n",
       "      <td>Chandler</td>\n",
       "      <td>Hey, Mon.</td>\n",
       "      <td>neutral</td>\n",
       "      <td>5000000</td>\n",
       "      <td>hey mon</td>\n",
       "    </tr>\n",
       "    <tr>\n",
       "      <th>2</th>\n",
       "      <td>Rachel</td>\n",
       "      <td>Hey!</td>\n",
       "      <td>non-neutral</td>\n",
       "      <td>1200020</td>\n",
       "      <td>hey</td>\n",
       "    </tr>\n",
       "    <tr>\n",
       "      <th>3</th>\n",
       "      <td>Chandler</td>\n",
       "      <td>Good job Joe! Well done! Top notch!</td>\n",
       "      <td>joy</td>\n",
       "      <td>0500000</td>\n",
       "      <td>good job joe well done top notch</td>\n",
       "    </tr>\n",
       "    <tr>\n",
       "      <th>4</th>\n",
       "      <td>Joey</td>\n",
       "      <td>Okay, look, I think we have to tell Rachel she...</td>\n",
       "      <td>neutral</td>\n",
       "      <td>4001000</td>\n",
       "      <td>okay look think tell rachel messed dessert</td>\n",
       "    </tr>\n",
       "    <tr>\n",
       "      <th>...</th>\n",
       "      <td>...</td>\n",
       "      <td>...</td>\n",
       "      <td>...</td>\n",
       "      <td>...</td>\n",
       "      <td>...</td>\n",
       "    </tr>\n",
       "    <tr>\n",
       "      <th>611</th>\n",
       "      <td>Chandler</td>\n",
       "      <td>The front page? You really do live in your own...</td>\n",
       "      <td>non-neutral</td>\n",
       "      <td>1100021</td>\n",
       "      <td>front page really live little world ya</td>\n",
       "    </tr>\n",
       "    <tr>\n",
       "      <th>636</th>\n",
       "      <td>Phoebe</td>\n",
       "      <td>Oh my God!Eh! Well</td>\n",
       "      <td>surprise</td>\n",
       "      <td>1100030</td>\n",
       "      <td>oh god well</td>\n",
       "    </tr>\n",
       "    <tr>\n",
       "      <th>647</th>\n",
       "      <td>Monica</td>\n",
       "      <td>How would that go?  Well, it didn't rhyme, but...</td>\n",
       "      <td>joy</td>\n",
       "      <td>2300000</td>\n",
       "      <td>would go well rhyme liked</td>\n",
       "    </tr>\n",
       "    <tr>\n",
       "      <th>660</th>\n",
       "      <td>Allesandro</td>\n",
       "      <td>How long is this gonna take? Cause I got anot...</td>\n",
       "      <td>neutral</td>\n",
       "      <td>3100100</td>\n",
       "      <td>long gon na take got another critic go yell</td>\n",
       "    </tr>\n",
       "    <tr>\n",
       "      <th>705</th>\n",
       "      <td>Rachel</td>\n",
       "      <td>No, Ive just always wanted to do that. Can yo...</td>\n",
       "      <td>neutral</td>\n",
       "      <td>4100000</td>\n",
       "      <td>always wanted help clean</td>\n",
       "    </tr>\n",
       "  </tbody>\n",
       "</table>\n",
       "<p>10561 rows × 5 columns</p>\n",
       "</div>"
      ],
      "text/plain": [
       "        speaker                                          utterance  \\\n",
       "0      Chandler  also I was the point person on my companys tr...   \n",
       "1      Chandler                                          Hey, Mon.   \n",
       "2        Rachel                                               Hey!   \n",
       "3      Chandler                Good job Joe! Well done! Top notch!   \n",
       "4          Joey  Okay, look, I think we have to tell Rachel she...   \n",
       "..          ...                                                ...   \n",
       "611    Chandler  The front page? You really do live in your own...   \n",
       "636      Phoebe                                Oh my God!Eh! Well   \n",
       "647      Monica  How would that go?  Well, it didn't rhyme, but...   \n",
       "660  Allesandro  How long is this gonna take? Cause I got anot...   \n",
       "705      Rachel  No, Ive just always wanted to do that. Can yo...   \n",
       "\n",
       "         emotion annotation                          processed_utterance  \n",
       "0        neutral    4100000          also point person transition system  \n",
       "1        neutral    5000000                                      hey mon  \n",
       "2    non-neutral    1200020                                          hey  \n",
       "3            joy    0500000             good job joe well done top notch  \n",
       "4        neutral    4001000   okay look think tell rachel messed dessert  \n",
       "..           ...        ...                                          ...  \n",
       "611  non-neutral    1100021       front page really live little world ya  \n",
       "636     surprise    1100030                                  oh god well  \n",
       "647          joy    2300000                    would go well rhyme liked  \n",
       "660      neutral    3100100  long gon na take got another critic go yell  \n",
       "705      neutral    4100000                     always wanted help clean  \n",
       "\n",
       "[10561 rows x 5 columns]"
      ]
     },
     "execution_count": 11,
     "metadata": {},
     "output_type": "execute_result"
    }
   ],
   "source": [
    "stop_words = set(stopwords.words('english'))\n",
    "stemmer = PorterStemmer()\n",
    "lemmatizer = WordNetLemmatizer()\n",
    "\n",
    "def preprocess_text(text):\n",
    "    words = word_tokenize(text)\n",
    "    words = [word for word in words if word.isalnum()]  # Remove non-alphanumeric characters\n",
    "    words = [word.lower() for word in words if word.lower() not in stop_words]\n",
    "    # You can choose either stemming or lemmatization based on your preference\n",
    "    #words = [stemmer.stem(word) for word in words]\n",
    "    words = [lemmatizer.lemmatize(word) for word in words]\n",
    "    return ' '.join(words)\n",
    "\n",
    "df_cleaned['processed_utterance'] = df_cleaned['utterance'].apply(preprocess_text)\n",
    "df_cleaned"
   ]
  },
  {
   "cell_type": "markdown",
   "id": "a0058cf3",
   "metadata": {},
   "source": [
    "### Target Variable Distribution"
   ]
  },
  {
   "cell_type": "code",
   "execution_count": 12,
   "id": "3a3e1f86",
   "metadata": {
    "scrolled": true,
    "tags": []
   },
   "outputs": [
    {
     "data": {
      "image/png": "[encoded data removed]",
      "text/plain": [
       "<Figure size 640x480 with 1 Axes>"
      ]
     },
     "metadata": {},
     "output_type": "display_data"
    }
   ],
   "source": [
    "plt.hist(df_cleaned['emotion'], bins=30, color='skyblue', edgecolor='black')\n",
    "plt.title('Distribution of emotion')\n",
    "plt.xlabel('Emotion')\n",
    "plt.ylabel('Frequency')\n",
    "plt.show()"
   ]
  },
  {
   "cell_type": "markdown",
   "id": "b535384e",
   "metadata": {},
   "source": [
    "### Applying TFID to convert String to Number"
   ]
  },
  {
   "cell_type": "code",
   "execution_count": 13,
   "id": "def91386",
   "metadata": {
    "tags": []
   },
   "outputs": [],
   "source": [
    "tfidf_vectorizer = TfidfVectorizer()\n",
    "tfidf_matrix = tfidf_vectorizer.fit_transform(df_cleaned['processed_utterance'])\n",
    "#tfidf_matrix.toarray()\n",
    "df_tf = pd.DataFrame(tfidf_matrix.toarray(), columns=tfidf_vectorizer.get_feature_names_out())\n",
    "\n",
    "df_cleaned = df_cleaned.reset_index(drop=True)\n",
    "df_tf = df_tf.reset_index(drop=True)\n",
    "\n",
    "df_cleaned_pre = pd.concat([df_cleaned, df_tf], axis=1)\n",
    "# print(res['hey'])\n",
    "#tfidf_matrix "
   ]
  },
  {
   "cell_type": "markdown",
   "id": "07dc261a",
   "metadata": {},
   "source": [
    "### CHecking for all types of emotions in dataset and assigning number to it"
   ]
  },
  {
   "cell_type": "code",
   "execution_count": 14,
   "id": "708ed2a9",
   "metadata": {
    "scrolled": true,
    "tags": []
   },
   "outputs": [
    {
     "data": {
      "text/plain": [
       "array(['neutral', 'non-neutral', 'joy', 'anger', 'surprise', 'sadness',\n",
       "       'disgust', 'fear'], dtype=object)"
      ]
     },
     "execution_count": 14,
     "metadata": {},
     "output_type": "execute_result"
    }
   ],
   "source": [
    "df_cleaned_pre.emotion.unique()"
   ]
  },
  {
   "cell_type": "code",
   "execution_count": 15,
   "id": "7c43b6e5",
   "metadata": {
    "tags": []
   },
   "outputs": [
    {
     "name": "stdout",
     "output_type": "stream",
     "text": [
      "<class 'pandas.core.series.Series'>\n",
      "RangeIndex: 10561 entries, 0 to 10560\n",
      "Series name: emotion\n",
      "Non-Null Count  Dtype\n",
      "--------------  -----\n",
      "10561 non-null  int64\n",
      "dtypes: int64(1)\n",
      "memory usage: 82.6 KB\n"
     ]
    }
   ],
   "source": [
    "df_cleaned_pre['emotion'] = df_cleaned_pre['emotion'].map({'neutral':0, 'non-neutral':1, 'joy':2, 'anger':3, 'surprise':4, 'sadness':5,\n",
    "       'disgust':6, 'fear':7})\n",
    "df_cleaned_pre['emotion'] .info()"
   ]
  },
  {
   "cell_type": "markdown",
   "id": "69082c25",
   "metadata": {},
   "source": [
    "### Creating X and Y for our model"
   ]
  },
  {
   "cell_type": "code",
   "execution_count": 16,
   "id": "0ff363b5",
   "metadata": {
    "tags": []
   },
   "outputs": [],
   "source": [
    "y_train = df_cleaned_pre['emotion'] "
   ]
  },
  {
   "cell_type": "code",
   "execution_count": 17,
   "id": "4a30a4e6",
   "metadata": {
    "tags": []
   },
   "outputs": [],
   "source": [
    "X_train= df_cleaned_pre.drop(['emotion','speaker','utterance','annotation','processed_utterance'],axis=1)"
   ]
  },
  {
   "cell_type": "markdown",
   "id": "8d152985",
   "metadata": {},
   "source": [
    "### Training One vs Rest Classifier with SVM for multi class classification"
   ]
  },
  {
   "cell_type": "code",
   "execution_count": 18,
   "id": "fd0ef142",
   "metadata": {
    "tags": []
   },
   "outputs": [
    {
     "data": {
      "text/html": [
       "<style>#sk-container-id-1 {color: black;}#sk-container-id-1 pre{padding: 0;}#sk-container-id-1 div.sk-toggleable {background-color: white;}#sk-container-id-1 label.sk-toggleable__label {cursor: pointer;display: block;width: 100%;margin-bottom: 0;padding: 0.3em;box-sizing: border-box;text-align: center;}#sk-container-id-1 label.sk-toggleable__label-arrow:before {content: \"▸\";float: left;margin-right: 0.25em;color: #696969;}#sk-container-id-1 label.sk-toggleable__label-arrow:hover:before {color: black;}#sk-container-id-1 div.sk-estimator:hover label.sk-toggleable__label-arrow:before {color: black;}#sk-container-id-1 div.sk-toggleable__content {max-height: 0;max-width: 0;overflow: hidden;text-align: left;background-color: #f0f8ff;}#sk-container-id-1 div.sk-toggleable__content pre {margin: 0.2em;color: black;border-radius: 0.25em;background-color: #f0f8ff;}#sk-container-id-1 input.sk-toggleable__control:checked~div.sk-toggleable__content {max-height: 200px;max-width: 100%;overflow: auto;}#sk-container-id-1 input.sk-toggleable__control:checked~label.sk-toggleable__label-arrow:before {content: \"▾\";}#sk-container-id-1 div.sk-estimator input.sk-toggleable__control:checked~label.sk-toggleable__label {background-color: #d4ebff;}#sk-container-id-1 div.sk-label input.sk-toggleable__control:checked~label.sk-toggleable__label {background-color: #d4ebff;}#sk-container-id-1 input.sk-hidden--visually {border: 0;clip: rect(1px 1px 1px 1px);clip: rect(1px, 1px, 1px, 1px);height: 1px;margin: -1px;overflow: hidden;padding: 0;position: absolute;width: 1px;}#sk-container-id-1 div.sk-estimator {font-family: monospace;background-color: #f0f8ff;border: 1px dotted black;border-radius: 0.25em;box-sizing: border-box;margin-bottom: 0.5em;}#sk-container-id-1 div.sk-estimator:hover {background-color: #d4ebff;}#sk-container-id-1 div.sk-parallel-item::after {content: \"\";width: 100%;border-bottom: 1px solid gray;flex-grow: 1;}#sk-container-id-1 div.sk-label:hover label.sk-toggleable__label {background-color: #d4ebff;}#sk-container-id-1 div.sk-serial::before {content: \"\";position: absolute;border-left: 1px solid gray;box-sizing: border-box;top: 0;bottom: 0;left: 50%;z-index: 0;}#sk-container-id-1 div.sk-serial {display: flex;flex-direction: column;align-items: center;background-color: white;padding-right: 0.2em;padding-left: 0.2em;position: relative;}#sk-container-id-1 div.sk-item {position: relative;z-index: 1;}#sk-container-id-1 div.sk-parallel {display: flex;align-items: stretch;justify-content: center;background-color: white;position: relative;}#sk-container-id-1 div.sk-item::before, #sk-container-id-1 div.sk-parallel-item::before {content: \"\";position: absolute;border-left: 1px solid gray;box-sizing: border-box;top: 0;bottom: 0;left: 50%;z-index: -1;}#sk-container-id-1 div.sk-parallel-item {display: flex;flex-direction: column;z-index: 1;position: relative;background-color: white;}#sk-container-id-1 div.sk-parallel-item:first-child::after {align-self: flex-end;width: 50%;}#sk-container-id-1 div.sk-parallel-item:last-child::after {align-self: flex-start;width: 50%;}#sk-container-id-1 div.sk-parallel-item:only-child::after {width: 0;}#sk-container-id-1 div.sk-dashed-wrapped {border: 1px dashed gray;margin: 0 0.4em 0.5em 0.4em;box-sizing: border-box;padding-bottom: 0.4em;background-color: white;}#sk-container-id-1 div.sk-label label {font-family: monospace;font-weight: bold;display: inline-block;line-height: 1.2em;}#sk-container-id-1 div.sk-label-container {text-align: center;}#sk-container-id-1 div.sk-container {/* jupyter's `normalize.less` sets `[hidden] { display: none; }` but bootstrap.min.css set `[hidden] { display: none !important; }` so we also need the `!important` here to be able to override the default hidden behavior on the sphinx rendered scikit-learn.org. See: https://github.com/scikit-learn/scikit-learn/issues/21755 */display: inline-block !important;position: relative;}#sk-container-id-1 div.sk-text-repr-fallback {display: none;}</style><div id=\"sk-container-id-1\" class=\"sk-top-container\"><div class=\"sk-text-repr-fallback\"><pre>OneVsRestClassifier(estimator=SVC())</pre><b>In a Jupyter environment, please rerun this cell to show the HTML representation or trust the notebook. <br />On GitHub, the HTML representation is unable to render, please try loading this page with nbviewer.org.</b></div><div class=\"sk-container\" hidden><div class=\"sk-item sk-dashed-wrapped\"><div class=\"sk-label-container\"><div class=\"sk-label sk-toggleable\"><input class=\"sk-toggleable__control sk-hidden--visually\" id=\"sk-estimator-id-1\" type=\"checkbox\" ><label for=\"sk-estimator-id-1\" class=\"sk-toggleable__label sk-toggleable__label-arrow\">OneVsRestClassifier</label><div class=\"sk-toggleable__content\"><pre>OneVsRestClassifier(estimator=SVC())</pre></div></div></div><div class=\"sk-parallel\"><div class=\"sk-parallel-item\"><div class=\"sk-item\"><div class=\"sk-label-container\"><div class=\"sk-label sk-toggleable\"><input class=\"sk-toggleable__control sk-hidden--visually\" id=\"sk-estimator-id-2\" type=\"checkbox\" ><label for=\"sk-estimator-id-2\" class=\"sk-toggleable__label sk-toggleable__label-arrow\">estimator: SVC</label><div class=\"sk-toggleable__content\"><pre>SVC()</pre></div></div></div><div class=\"sk-serial\"><div class=\"sk-item\"><div class=\"sk-estimator sk-toggleable\"><input class=\"sk-toggleable__control sk-hidden--visually\" id=\"sk-estimator-id-3\" type=\"checkbox\" ><label for=\"sk-estimator-id-3\" class=\"sk-toggleable__label sk-toggleable__label-arrow\">SVC</label><div class=\"sk-toggleable__content\"><pre>SVC()</pre></div></div></div></div></div></div></div></div></div></div>"
      ],
      "text/plain": [
       "OneVsRestClassifier(estimator=SVC())"
      ]
     },
     "execution_count": 18,
     "metadata": {},
     "output_type": "execute_result"
    }
   ],
   "source": [
    "clf_ovr = OneVsRestClassifier(SVC())\n",
    "\n",
    "# Train the classifier\n",
    "clf_ovr.fit(X_train, y_train)\n",
    "\n"
   ]
  },
  {
   "cell_type": "markdown",
   "id": "6465c6a9",
   "metadata": {},
   "source": [
    "### Predicting Values and checking accuracy for test data"
   ]
  },
  {
   "cell_type": "code",
   "execution_count": null,
   "id": "deb8183b",
   "metadata": {
    "scrolled": true,
    "tags": []
   },
   "outputs": [],
   "source": [
    "y_pred_ovr = clf_ovr.predict(X_train)\n",
    "\n",
    "print(\"Accuracy:\", accuracy_score(y_train, y_pred_ovr))\n"
   ]
  },
  {
   "cell_type": "code",
   "execution_count": null,
   "id": "7fac1858",
   "metadata": {
    "scrolled": true,
    "tags": []
   },
   "outputs": [],
   "source": [
    "print(\"Classification Report:\")\n",
    "print(classification_report(y_train, y_pred_ovr))"
   ]
  },
  {
   "cell_type": "markdown",
   "id": "21dc27c0",
   "metadata": {},
   "source": [
    "### Importing Validation and Holdout Dataset"
   ]
  },
  {
   "cell_type": "code",
   "execution_count": 22,
   "id": "4c4f97d4",
   "metadata": {},
   "outputs": [],
   "source": [
    "df1 = pd.read_json('friends_test.json')\n",
    "df2= pd.read_json('friends_dev.json')"
   ]
  },
  {
   "cell_type": "markdown",
   "id": "703971ea",
   "metadata": {},
   "source": [
    "### Normalizing"
   ]
  },
  {
   "cell_type": "code",
   "execution_count": 23,
   "id": "241f751b",
   "metadata": {},
   "outputs": [],
   "source": [
    "df_cleaned1 = pd.json_normalize(df1[0])\n",
    "df_cleaned2 = pd.json_normalize(df2[0])\n",
    "for i in range (1,len(df1.columns)):\n",
    "#     print(i)\n",
    "    df_cleaned1 = pd.concat([df_cleaned1, pd.json_normalize(df1[i])])\n",
    "for i in range (1,len(df2.columns)):\n",
    "#     print(i)\n",
    "    df_cleaned2 = pd.concat([df_cleaned2, pd.json_normalize(df2[i])])"
   ]
  },
  {
   "cell_type": "markdown",
   "id": "cfe1d44f",
   "metadata": {},
   "source": [
    "### CHecking and dropping Null values"
   ]
  },
  {
   "cell_type": "code",
   "execution_count": 24,
   "id": "69714d86",
   "metadata": {
    "scrolled": true
   },
   "outputs": [
    {
     "data": {
      "text/plain": [
       "speaker       2036\n",
       "utterance     2036\n",
       "emotion       2036\n",
       "annotation    2036\n",
       "dtype: int64"
      ]
     },
     "execution_count": 24,
     "metadata": {},
     "output_type": "execute_result"
    }
   ],
   "source": [
    "df_cleaned1.isnull().sum()"
   ]
  },
  {
   "cell_type": "code",
   "execution_count": 25,
   "id": "02ec4e93",
   "metadata": {
    "scrolled": true
   },
   "outputs": [
    {
     "data": {
      "text/plain": [
       "speaker       742\n",
       "utterance     742\n",
       "emotion       742\n",
       "annotation    742\n",
       "dtype: int64"
      ]
     },
     "execution_count": 25,
     "metadata": {},
     "output_type": "execute_result"
    }
   ],
   "source": [
    "df_cleaned2.isnull().sum()"
   ]
  },
  {
   "cell_type": "code",
   "execution_count": 26,
   "id": "02a550cb",
   "metadata": {},
   "outputs": [],
   "source": [
    "df_cleaned1=df_cleaned1.dropna()\n",
    "df_cleaned2=df_cleaned2.dropna()"
   ]
  },
  {
   "cell_type": "markdown",
   "id": "e42c2e65",
   "metadata": {},
   "source": [
    "### Applying preprocessing function"
   ]
  },
  {
   "cell_type": "code",
   "execution_count": 27,
   "id": "6f8a8ae4",
   "metadata": {},
   "outputs": [],
   "source": [
    "\n",
    "\n",
    "df_cleaned1['processed_utterance'] = df_cleaned1['utterance'].apply(preprocess_text)\n",
    "df_cleaned2['processed_utterance'] = df_cleaned2['utterance'].apply(preprocess_text)"
   ]
  },
  {
   "cell_type": "code",
   "execution_count": 59,
   "id": "44083225",
   "metadata": {},
   "outputs": [],
   "source": [
    "#tfidf_vectorizer = TfidfVectorizer()\n",
    "tfidf_matrix = tfidf_vectorizer.transform(df_cleaned1['processed_utterance'])\n",
    "#tfidf_matrix.toarray()\n",
    "df_tf1 = pd.DataFrame(tfidf_matrix.toarray(), columns=tfidf_vectorizer.get_feature_names_out())\n",
    "\n",
    "df_cleaned1 = df_cleaned1.reset_index(drop=True)\n",
    "df_tf1 = df_tf1.reset_index(drop=True)\n",
    "\n",
    "df_cleaned_pre1 = pd.concat([df_cleaned1, df_tf], axis=1)\n",
    "# print(res['hey'])\n",
    "#tfidf_matrix \n"
   ]
  },
  {
   "cell_type": "markdown",
   "id": "bd7e0d26",
   "metadata": {},
   "source": [
    "### Applying TFID to convert String to Number"
   ]
  },
  {
   "cell_type": "code",
   "execution_count": 29,
   "id": "339001df",
   "metadata": {},
   "outputs": [],
   "source": [
    "#tfidf_vectorizer = TfidfVectorizer()\n",
    "tfidf_matrix = tfidf_vectorizer.transform(df_cleaned2['processed_utterance'])\n",
    "#tfidf_matrix.toarray()\n",
    "df_tf = pd.DataFrame(tfidf_matrix.toarray(), columns=tfidf_vectorizer.get_feature_names_out())\n",
    "\n",
    "df_cleaned2 = df_cleaned2.reset_index(drop=True)\n",
    "df_tf = df_tf.reset_index(drop=True)\n",
    "\n",
    "df_cleaned_pre2 = pd.concat([df_cleaned2, df_tf], axis=1)\n",
    "# print(res['hey'])\n",
    "#tfidf_matrix "
   ]
  },
  {
   "cell_type": "markdown",
   "id": "056ad421",
   "metadata": {},
   "source": [
    "### COnverting target variable to number"
   ]
  },
  {
   "cell_type": "code",
   "execution_count": 30,
   "id": "66a65ed5",
   "metadata": {},
   "outputs": [
    {
     "name": "stdout",
     "output_type": "stream",
     "text": [
      "<class 'pandas.core.series.Series'>\n",
      "RangeIndex: 1178 entries, 0 to 1177\n",
      "Series name: emotion\n",
      "Non-Null Count  Dtype\n",
      "--------------  -----\n",
      "1178 non-null   int64\n",
      "dtypes: int64(1)\n",
      "memory usage: 9.3 KB\n"
     ]
    }
   ],
   "source": [
    "df_cleaned2['emotion'] = df_cleaned2['emotion'].map({'neutral':0, 'non-neutral':1, 'joy':2, 'anger':3, 'surprise':4, 'sadness':5,\n",
    "       'disgust':6, 'fear':7})\n",
    "df_cleaned2['emotion'] .info()"
   ]
  },
  {
   "cell_type": "code",
   "execution_count": 60,
   "id": "a0ffa21e",
   "metadata": {},
   "outputs": [],
   "source": [
    "df_cleaned1['emotion'] = df_cleaned1['emotion'].map({'neutral':0, 'non-neutral':1, 'joy':2, 'anger':3, 'surprise':4, 'sadness':5,\n",
    "       'disgust':6, 'fear':7})"
   ]
  },
  {
   "cell_type": "markdown",
   "id": "0684e2c1",
   "metadata": {},
   "source": [
    "### Splitting Data into X and Y"
   ]
  },
  {
   "cell_type": "code",
   "execution_count": 63,
   "id": "1df7a360",
   "metadata": {},
   "outputs": [],
   "source": [
    "Xval=df_tf1\n",
    "Yval=df_cleaned1['emotion']\n",
    "Xval= Xval.drop(['speaker'],axis=1)"
   ]
  },
  {
   "cell_type": "code",
   "execution_count": 31,
   "id": "1f7f12ff",
   "metadata": {},
   "outputs": [],
   "source": [
    "yhold=df_cleaned2['emotion']\n",
    "Xhold=df_tf\n",
    "Xhold= Xhold.drop(['speaker'],axis=1)"
   ]
  },
  {
   "cell_type": "code",
   "execution_count": 32,
   "id": "84c9fcbc",
   "metadata": {},
   "outputs": [],
   "source": [
    "from sklearn.svm import LinearSVC"
   ]
  },
  {
   "cell_type": "code",
   "execution_count": 33,
   "id": "9d4e5bf2",
   "metadata": {},
   "outputs": [
    {
     "name": "stderr",
     "output_type": "stream",
     "text": [
      "/Users/aseemmishra/anaconda3/lib/python3.11/site-packages/sklearn/svm/_classes.py:32: FutureWarning: The default value of `dual` will change from `True` to `'auto'` in 1.5. Set the value of `dual` explicitly to suppress the warning.\n",
      "  warnings.warn(\n"
     ]
    },
    {
     "data": {
      "text/html": [
       "<style>#sk-container-id-2 {color: black;}#sk-container-id-2 pre{padding: 0;}#sk-container-id-2 div.sk-toggleable {background-color: white;}#sk-container-id-2 label.sk-toggleable__label {cursor: pointer;display: block;width: 100%;margin-bottom: 0;padding: 0.3em;box-sizing: border-box;text-align: center;}#sk-container-id-2 label.sk-toggleable__label-arrow:before {content: \"▸\";float: left;margin-right: 0.25em;color: #696969;}#sk-container-id-2 label.sk-toggleable__label-arrow:hover:before {color: black;}#sk-container-id-2 div.sk-estimator:hover label.sk-toggleable__label-arrow:before {color: black;}#sk-container-id-2 div.sk-toggleable__content {max-height: 0;max-width: 0;overflow: hidden;text-align: left;background-color: #f0f8ff;}#sk-container-id-2 div.sk-toggleable__content pre {margin: 0.2em;color: black;border-radius: 0.25em;background-color: #f0f8ff;}#sk-container-id-2 input.sk-toggleable__control:checked~div.sk-toggleable__content {max-height: 200px;max-width: 100%;overflow: auto;}#sk-container-id-2 input.sk-toggleable__control:checked~label.sk-toggleable__label-arrow:before {content: \"▾\";}#sk-container-id-2 div.sk-estimator input.sk-toggleable__control:checked~label.sk-toggleable__label {background-color: #d4ebff;}#sk-container-id-2 div.sk-label input.sk-toggleable__control:checked~label.sk-toggleable__label {background-color: #d4ebff;}#sk-container-id-2 input.sk-hidden--visually {border: 0;clip: rect(1px 1px 1px 1px);clip: rect(1px, 1px, 1px, 1px);height: 1px;margin: -1px;overflow: hidden;padding: 0;position: absolute;width: 1px;}#sk-container-id-2 div.sk-estimator {font-family: monospace;background-color: #f0f8ff;border: 1px dotted black;border-radius: 0.25em;box-sizing: border-box;margin-bottom: 0.5em;}#sk-container-id-2 div.sk-estimator:hover {background-color: #d4ebff;}#sk-container-id-2 div.sk-parallel-item::after {content: \"\";width: 100%;border-bottom: 1px solid gray;flex-grow: 1;}#sk-container-id-2 div.sk-label:hover label.sk-toggleable__label {background-color: #d4ebff;}#sk-container-id-2 div.sk-serial::before {content: \"\";position: absolute;border-left: 1px solid gray;box-sizing: border-box;top: 0;bottom: 0;left: 50%;z-index: 0;}#sk-container-id-2 div.sk-serial {display: flex;flex-direction: column;align-items: center;background-color: white;padding-right: 0.2em;padding-left: 0.2em;position: relative;}#sk-container-id-2 div.sk-item {position: relative;z-index: 1;}#sk-container-id-2 div.sk-parallel {display: flex;align-items: stretch;justify-content: center;background-color: white;position: relative;}#sk-container-id-2 div.sk-item::before, #sk-container-id-2 div.sk-parallel-item::before {content: \"\";position: absolute;border-left: 1px solid gray;box-sizing: border-box;top: 0;bottom: 0;left: 50%;z-index: -1;}#sk-container-id-2 div.sk-parallel-item {display: flex;flex-direction: column;z-index: 1;position: relative;background-color: white;}#sk-container-id-2 div.sk-parallel-item:first-child::after {align-self: flex-end;width: 50%;}#sk-container-id-2 div.sk-parallel-item:last-child::after {align-self: flex-start;width: 50%;}#sk-container-id-2 div.sk-parallel-item:only-child::after {width: 0;}#sk-container-id-2 div.sk-dashed-wrapped {border: 1px dashed gray;margin: 0 0.4em 0.5em 0.4em;box-sizing: border-box;padding-bottom: 0.4em;background-color: white;}#sk-container-id-2 div.sk-label label {font-family: monospace;font-weight: bold;display: inline-block;line-height: 1.2em;}#sk-container-id-2 div.sk-label-container {text-align: center;}#sk-container-id-2 div.sk-container {/* jupyter's `normalize.less` sets `[hidden] { display: none; }` but bootstrap.min.css set `[hidden] { display: none !important; }` so we also need the `!important` here to be able to override the default hidden behavior on the sphinx rendered scikit-learn.org. See: https://github.com/scikit-learn/scikit-learn/issues/21755 */display: inline-block !important;position: relative;}#sk-container-id-2 div.sk-text-repr-fallback {display: none;}</style><div id=\"sk-container-id-2\" class=\"sk-top-container\"><div class=\"sk-text-repr-fallback\"><pre>LinearSVC()</pre><b>In a Jupyter environment, please rerun this cell to show the HTML representation or trust the notebook. <br />On GitHub, the HTML representation is unable to render, please try loading this page with nbviewer.org.</b></div><div class=\"sk-container\" hidden><div class=\"sk-item\"><div class=\"sk-estimator sk-toggleable\"><input class=\"sk-toggleable__control sk-hidden--visually\" id=\"sk-estimator-id-4\" type=\"checkbox\" checked><label for=\"sk-estimator-id-4\" class=\"sk-toggleable__label sk-toggleable__label-arrow\">LinearSVC</label><div class=\"sk-toggleable__content\"><pre>LinearSVC()</pre></div></div></div></div></div>"
      ],
      "text/plain": [
       "LinearSVC()"
      ]
     },
     "execution_count": 33,
     "metadata": {},
     "output_type": "execute_result"
    }
   ],
   "source": [
    " model = LinearSVC()\n",
    "\n",
    "# train the model\n",
    "model.fit(X_train, y_train)"
   ]
  },
  {
   "cell_type": "code",
   "execution_count": 34,
   "id": "d94498b7",
   "metadata": {},
   "outputs": [],
   "source": [
    "y_pred = model.predict(Xhold)"
   ]
  },
  {
   "cell_type": "code",
   "execution_count": 35,
   "id": "2f1c7992",
   "metadata": {},
   "outputs": [
    {
     "name": "stdout",
     "output_type": "stream",
     "text": [
      "Accuracy: 0.42614601018675724\n"
     ]
    }
   ],
   "source": [
    "print(\"Accuracy:\", accuracy_score(yhold, y_pred))"
   ]
  },
  {
   "cell_type": "markdown",
   "id": "9ef84088",
   "metadata": {},
   "source": [
    "### Predicting and generating Accuracy and performance parameters"
   ]
  },
  {
   "cell_type": "code",
   "execution_count": 77,
   "id": "c1515347",
   "metadata": {},
   "outputs": [
    {
     "name": "stdout",
     "output_type": "stream",
     "text": [
      "Accuracy: 0.39558573853989815\n",
      "Classification Report:\n",
      "              precision    recall  f1-score   support\n",
      "\n",
      "           0       0.47      0.75      0.58       491\n",
      "           1       0.24      0.10      0.14       214\n",
      "           2       0.17      0.22      0.19       123\n",
      "           3       0.17      0.07      0.10        85\n",
      "           4       0.37      0.21      0.27       151\n",
      "           5       0.67      0.16      0.26        62\n",
      "           6       0.40      0.09      0.14        23\n",
      "           7       0.00      0.00      0.00        29\n",
      "\n",
      "    accuracy                           0.40      1178\n",
      "   macro avg       0.31      0.20      0.21      1178\n",
      "weighted avg       0.36      0.40      0.35      1178\n",
      "\n"
     ]
    }
   ],
   "source": [
    "y_pred = clf_ovr.predict(Xhold)\n",
    "\n",
    "print(\"Accuracy:\", accuracy_score(yhold, y_pred))\n",
    "print(\"Classification Report:\")\n",
    "print(classification_report(yhold, y_pred))"
   ]
  },
  {
   "cell_type": "code",
   "execution_count": 64,
   "id": "3159c118",
   "metadata": {
    "scrolled": true
   },
   "outputs": [
    {
     "ename": "ValueError",
     "evalue": "Found input variables with inconsistent numbers of samples: [2764, 1178]",
     "output_type": "error",
     "traceback": [
      "\u001b[0;31m---------------------------------------------------------------------------\u001b[0m",
      "\u001b[0;31mValueError\u001b[0m                                Traceback (most recent call last)",
      "Cell \u001b[0;32mIn[64], line 2\u001b[0m\n\u001b[1;32m      1\u001b[0m y_predval\u001b[38;5;241m=\u001b[39mclf_ovr\u001b[38;5;241m.\u001b[39mpredict(Xval)\n\u001b[0;32m----> 2\u001b[0m \u001b[38;5;28mprint\u001b[39m(\u001b[38;5;124m\"\u001b[39m\u001b[38;5;124mAccuracy:\u001b[39m\u001b[38;5;124m\"\u001b[39m, accuracy_score(Yval, y_pred))\n",
      "File \u001b[0;32m~/anaconda3/lib/python3.11/site-packages/sklearn/utils/_param_validation.py:211\u001b[0m, in \u001b[0;36mvalidate_params.<locals>.decorator.<locals>.wrapper\u001b[0;34m(*args, **kwargs)\u001b[0m\n\u001b[1;32m    205\u001b[0m \u001b[38;5;28;01mtry\u001b[39;00m:\n\u001b[1;32m    206\u001b[0m     \u001b[38;5;28;01mwith\u001b[39;00m config_context(\n\u001b[1;32m    207\u001b[0m         skip_parameter_validation\u001b[38;5;241m=\u001b[39m(\n\u001b[1;32m    208\u001b[0m             prefer_skip_nested_validation \u001b[38;5;129;01mor\u001b[39;00m global_skip_validation\n\u001b[1;32m    209\u001b[0m         )\n\u001b[1;32m    210\u001b[0m     ):\n\u001b[0;32m--> 211\u001b[0m         \u001b[38;5;28;01mreturn\u001b[39;00m func(\u001b[38;5;241m*\u001b[39margs, \u001b[38;5;241m*\u001b[39m\u001b[38;5;241m*\u001b[39mkwargs)\n\u001b[1;32m    212\u001b[0m \u001b[38;5;28;01mexcept\u001b[39;00m InvalidParameterError \u001b[38;5;28;01mas\u001b[39;00m e:\n\u001b[1;32m    213\u001b[0m     \u001b[38;5;66;03m# When the function is just a wrapper around an estimator, we allow\u001b[39;00m\n\u001b[1;32m    214\u001b[0m     \u001b[38;5;66;03m# the function to delegate validation to the estimator, but we replace\u001b[39;00m\n\u001b[1;32m    215\u001b[0m     \u001b[38;5;66;03m# the name of the estimator by the name of the function in the error\u001b[39;00m\n\u001b[1;32m    216\u001b[0m     \u001b[38;5;66;03m# message to avoid confusion.\u001b[39;00m\n\u001b[1;32m    217\u001b[0m     msg \u001b[38;5;241m=\u001b[39m re\u001b[38;5;241m.\u001b[39msub(\n\u001b[1;32m    218\u001b[0m         \u001b[38;5;124mr\u001b[39m\u001b[38;5;124m\"\u001b[39m\u001b[38;5;124mparameter of \u001b[39m\u001b[38;5;124m\\\u001b[39m\u001b[38;5;124mw+ must be\u001b[39m\u001b[38;5;124m\"\u001b[39m,\n\u001b[1;32m    219\u001b[0m         \u001b[38;5;124mf\u001b[39m\u001b[38;5;124m\"\u001b[39m\u001b[38;5;124mparameter of \u001b[39m\u001b[38;5;132;01m{\u001b[39;00mfunc\u001b[38;5;241m.\u001b[39m\u001b[38;5;18m__qualname__\u001b[39m\u001b[38;5;132;01m}\u001b[39;00m\u001b[38;5;124m must be\u001b[39m\u001b[38;5;124m\"\u001b[39m,\n\u001b[1;32m    220\u001b[0m         \u001b[38;5;28mstr\u001b[39m(e),\n\u001b[1;32m    221\u001b[0m     )\n",
      "File \u001b[0;32m~/anaconda3/lib/python3.11/site-packages/sklearn/metrics/_classification.py:220\u001b[0m, in \u001b[0;36maccuracy_score\u001b[0;34m(y_true, y_pred, normalize, sample_weight)\u001b[0m\n\u001b[1;32m    154\u001b[0m \u001b[38;5;250m\u001b[39m\u001b[38;5;124;03m\"\"\"Accuracy classification score.\u001b[39;00m\n\u001b[1;32m    155\u001b[0m \n\u001b[1;32m    156\u001b[0m \u001b[38;5;124;03mIn multilabel classification, this function computes subset accuracy:\u001b[39;00m\n\u001b[0;32m   (...)\u001b[0m\n\u001b[1;32m    216\u001b[0m \u001b[38;5;124;03m0.5\u001b[39;00m\n\u001b[1;32m    217\u001b[0m \u001b[38;5;124;03m\"\"\"\u001b[39;00m\n\u001b[1;32m    219\u001b[0m \u001b[38;5;66;03m# Compute accuracy for each possible representation\u001b[39;00m\n\u001b[0;32m--> 220\u001b[0m y_type, y_true, y_pred \u001b[38;5;241m=\u001b[39m _check_targets(y_true, y_pred)\n\u001b[1;32m    221\u001b[0m check_consistent_length(y_true, y_pred, sample_weight)\n\u001b[1;32m    222\u001b[0m \u001b[38;5;28;01mif\u001b[39;00m y_type\u001b[38;5;241m.\u001b[39mstartswith(\u001b[38;5;124m\"\u001b[39m\u001b[38;5;124mmultilabel\u001b[39m\u001b[38;5;124m\"\u001b[39m):\n",
      "File \u001b[0;32m~/anaconda3/lib/python3.11/site-packages/sklearn/metrics/_classification.py:84\u001b[0m, in \u001b[0;36m_check_targets\u001b[0;34m(y_true, y_pred)\u001b[0m\n\u001b[1;32m     57\u001b[0m \u001b[38;5;28;01mdef\u001b[39;00m \u001b[38;5;21m_check_targets\u001b[39m(y_true, y_pred):\n\u001b[1;32m     58\u001b[0m \u001b[38;5;250m    \u001b[39m\u001b[38;5;124;03m\"\"\"Check that y_true and y_pred belong to the same classification task.\u001b[39;00m\n\u001b[1;32m     59\u001b[0m \n\u001b[1;32m     60\u001b[0m \u001b[38;5;124;03m    This converts multiclass or binary types to a common shape, and raises a\u001b[39;00m\n\u001b[0;32m   (...)\u001b[0m\n\u001b[1;32m     82\u001b[0m \u001b[38;5;124;03m    y_pred : array or indicator matrix\u001b[39;00m\n\u001b[1;32m     83\u001b[0m \u001b[38;5;124;03m    \"\"\"\u001b[39;00m\n\u001b[0;32m---> 84\u001b[0m     check_consistent_length(y_true, y_pred)\n\u001b[1;32m     85\u001b[0m     type_true \u001b[38;5;241m=\u001b[39m type_of_target(y_true, input_name\u001b[38;5;241m=\u001b[39m\u001b[38;5;124m\"\u001b[39m\u001b[38;5;124my_true\u001b[39m\u001b[38;5;124m\"\u001b[39m)\n\u001b[1;32m     86\u001b[0m     type_pred \u001b[38;5;241m=\u001b[39m type_of_target(y_pred, input_name\u001b[38;5;241m=\u001b[39m\u001b[38;5;124m\"\u001b[39m\u001b[38;5;124my_pred\u001b[39m\u001b[38;5;124m\"\u001b[39m)\n",
      "File \u001b[0;32m~/anaconda3/lib/python3.11/site-packages/sklearn/utils/validation.py:409\u001b[0m, in \u001b[0;36mcheck_consistent_length\u001b[0;34m(*arrays)\u001b[0m\n\u001b[1;32m    407\u001b[0m uniques \u001b[38;5;241m=\u001b[39m np\u001b[38;5;241m.\u001b[39munique(lengths)\n\u001b[1;32m    408\u001b[0m \u001b[38;5;28;01mif\u001b[39;00m \u001b[38;5;28mlen\u001b[39m(uniques) \u001b[38;5;241m>\u001b[39m \u001b[38;5;241m1\u001b[39m:\n\u001b[0;32m--> 409\u001b[0m     \u001b[38;5;28;01mraise\u001b[39;00m \u001b[38;5;167;01mValueError\u001b[39;00m(\n\u001b[1;32m    410\u001b[0m         \u001b[38;5;124m\"\u001b[39m\u001b[38;5;124mFound input variables with inconsistent numbers of samples: \u001b[39m\u001b[38;5;132;01m%r\u001b[39;00m\u001b[38;5;124m\"\u001b[39m\n\u001b[1;32m    411\u001b[0m         \u001b[38;5;241m%\u001b[39m [\u001b[38;5;28mint\u001b[39m(l) \u001b[38;5;28;01mfor\u001b[39;00m l \u001b[38;5;129;01min\u001b[39;00m lengths]\n\u001b[1;32m    412\u001b[0m     )\n",
      "\u001b[0;31mValueError\u001b[0m: Found input variables with inconsistent numbers of samples: [2764, 1178]"
     ]
    }
   ],
   "source": [
    "y_predval=clf_ovr.predict(Xval)\n",
    "print(\"Accuracy:\", accuracy_score(Yval, y_pred))"
   ]
  },
  {
   "cell_type": "code",
   "execution_count": 79,
   "id": "b8cde6f8",
   "metadata": {},
   "outputs": [
    {
     "name": "stdout",
     "output_type": "stream",
     "text": [
      "              precision    recall  f1-score   support\n",
      "\n",
      "           0       0.54      0.78      0.64      1287\n",
      "           1       0.25      0.09      0.13       541\n",
      "           2       0.20      0.25      0.22       304\n",
      "           3       0.14      0.07      0.10       161\n",
      "           4       0.48      0.29      0.36       286\n",
      "           5       0.41      0.14      0.21        85\n",
      "           6       0.35      0.10      0.16        68\n",
      "           7       0.00      0.00      0.00        32\n",
      "\n",
      "    accuracy                           0.45      2764\n",
      "   macro avg       0.30      0.22      0.23      2764\n",
      "weighted avg       0.40      0.45      0.40      2764\n",
      "\n"
     ]
    }
   ],
   "source": [
    "print(classification_report(Yval, y_predval))"
   ]
  },
  {
   "cell_type": "code",
   "execution_count": 65,
   "id": "932aba4c",
   "metadata": {
    "scrolled": true
   },
   "outputs": [
    {
     "name": "stdout",
     "output_type": "stream",
     "text": [
      "Accuracy: 0.4507959479015919\n"
     ]
    }
   ],
   "source": [
    "print(\"Accuracy:\", accuracy_score(Yval, y_predval))"
   ]
  },
  {
   "cell_type": "markdown",
   "id": "c7558f6e",
   "metadata": {},
   "source": [
    "### Generating Learning Curves"
   ]
  },
  {
   "cell_type": "code",
   "execution_count": 66,
   "id": "869a7379",
   "metadata": {},
   "outputs": [
    {
     "name": "stderr",
     "output_type": "stream",
     "text": [
      "/Users/aseemmishra/anaconda3/lib/python3.11/site-packages/sklearn/svm/_classes.py:32: FutureWarning: The default value of `dual` will change from `True` to `'auto'` in 1.5. Set the value of `dual` explicitly to suppress the warning.\n",
      "  warnings.warn(\n",
      "/Users/aseemmishra/anaconda3/lib/python3.11/site-packages/sklearn/svm/_classes.py:32: FutureWarning: The default value of `dual` will change from `True` to `'auto'` in 1.5. Set the value of `dual` explicitly to suppress the warning.\n",
      "  warnings.warn(\n",
      "/Users/aseemmishra/anaconda3/lib/python3.11/site-packages/sklearn/svm/_classes.py:32: FutureWarning: The default value of `dual` will change from `True` to `'auto'` in 1.5. Set the value of `dual` explicitly to suppress the warning.\n",
      "  warnings.warn(\n",
      "/Users/aseemmishra/anaconda3/lib/python3.11/site-packages/sklearn/svm/_classes.py:32: FutureWarning: The default value of `dual` will change from `True` to `'auto'` in 1.5. Set the value of `dual` explicitly to suppress the warning.\n",
      "  warnings.warn(\n",
      "/Users/aseemmishra/anaconda3/lib/python3.11/site-packages/sklearn/svm/_classes.py:32: FutureWarning: The default value of `dual` will change from `True` to `'auto'` in 1.5. Set the value of `dual` explicitly to suppress the warning.\n",
      "  warnings.warn(\n",
      "/Users/aseemmishra/anaconda3/lib/python3.11/site-packages/sklearn/svm/_classes.py:32: FutureWarning: The default value of `dual` will change from `True` to `'auto'` in 1.5. Set the value of `dual` explicitly to suppress the warning.\n",
      "  warnings.warn(\n",
      "/Users/aseemmishra/anaconda3/lib/python3.11/site-packages/sklearn/svm/_classes.py:32: FutureWarning: The default value of `dual` will change from `True` to `'auto'` in 1.5. Set the value of `dual` explicitly to suppress the warning.\n",
      "  warnings.warn(\n",
      "/Users/aseemmishra/anaconda3/lib/python3.11/site-packages/sklearn/svm/_classes.py:32: FutureWarning: The default value of `dual` will change from `True` to `'auto'` in 1.5. Set the value of `dual` explicitly to suppress the warning.\n",
      "  warnings.warn(\n",
      "/Users/aseemmishra/anaconda3/lib/python3.11/site-packages/sklearn/svm/_classes.py:32: FutureWarning: The default value of `dual` will change from `True` to `'auto'` in 1.5. Set the value of `dual` explicitly to suppress the warning.\n",
      "  warnings.warn(\n",
      "/Users/aseemmishra/anaconda3/lib/python3.11/site-packages/sklearn/svm/_classes.py:32: FutureWarning: The default value of `dual` will change from `True` to `'auto'` in 1.5. Set the value of `dual` explicitly to suppress the warning.\n",
      "  warnings.warn(\n",
      "/Users/aseemmishra/anaconda3/lib/python3.11/site-packages/sklearn/svm/_classes.py:32: FutureWarning: The default value of `dual` will change from `True` to `'auto'` in 1.5. Set the value of `dual` explicitly to suppress the warning.\n",
      "  warnings.warn(\n",
      "/Users/aseemmishra/anaconda3/lib/python3.11/site-packages/sklearn/svm/_classes.py:32: FutureWarning: The default value of `dual` will change from `True` to `'auto'` in 1.5. Set the value of `dual` explicitly to suppress the warning.\n",
      "  warnings.warn(\n",
      "/Users/aseemmishra/anaconda3/lib/python3.11/site-packages/sklearn/svm/_classes.py:32: FutureWarning: The default value of `dual` will change from `True` to `'auto'` in 1.5. Set the value of `dual` explicitly to suppress the warning.\n",
      "  warnings.warn(\n",
      "/Users/aseemmishra/anaconda3/lib/python3.11/site-packages/sklearn/svm/_classes.py:32: FutureWarning: The default value of `dual` will change from `True` to `'auto'` in 1.5. Set the value of `dual` explicitly to suppress the warning.\n",
      "  warnings.warn(\n",
      "/Users/aseemmishra/anaconda3/lib/python3.11/site-packages/sklearn/svm/_classes.py:32: FutureWarning: The default value of `dual` will change from `True` to `'auto'` in 1.5. Set the value of `dual` explicitly to suppress the warning.\n",
      "  warnings.warn(\n",
      "/Users/aseemmishra/anaconda3/lib/python3.11/site-packages/sklearn/svm/_classes.py:32: FutureWarning: The default value of `dual` will change from `True` to `'auto'` in 1.5. Set the value of `dual` explicitly to suppress the warning.\n",
      "  warnings.warn(\n",
      "/Users/aseemmishra/anaconda3/lib/python3.11/site-packages/sklearn/svm/_classes.py:32: FutureWarning: The default value of `dual` will change from `True` to `'auto'` in 1.5. Set the value of `dual` explicitly to suppress the warning.\n",
      "  warnings.warn(\n",
      "/Users/aseemmishra/anaconda3/lib/python3.11/site-packages/sklearn/svm/_classes.py:32: FutureWarning: The default value of `dual` will change from `True` to `'auto'` in 1.5. Set the value of `dual` explicitly to suppress the warning.\n",
      "  warnings.warn(\n",
      "/Users/aseemmishra/anaconda3/lib/python3.11/site-packages/sklearn/svm/_classes.py:32: FutureWarning: The default value of `dual` will change from `True` to `'auto'` in 1.5. Set the value of `dual` explicitly to suppress the warning.\n",
      "  warnings.warn(\n",
      "/Users/aseemmishra/anaconda3/lib/python3.11/site-packages/sklearn/svm/_classes.py:32: FutureWarning: The default value of `dual` will change from `True` to `'auto'` in 1.5. Set the value of `dual` explicitly to suppress the warning.\n",
      "  warnings.warn(\n",
      "/Users/aseemmishra/anaconda3/lib/python3.11/site-packages/sklearn/svm/_classes.py:32: FutureWarning: The default value of `dual` will change from `True` to `'auto'` in 1.5. Set the value of `dual` explicitly to suppress the warning.\n",
      "  warnings.warn(\n",
      "/Users/aseemmishra/anaconda3/lib/python3.11/site-packages/sklearn/svm/_classes.py:32: FutureWarning: The default value of `dual` will change from `True` to `'auto'` in 1.5. Set the value of `dual` explicitly to suppress the warning.\n",
      "  warnings.warn(\n",
      "/Users/aseemmishra/anaconda3/lib/python3.11/site-packages/sklearn/svm/_classes.py:32: FutureWarning: The default value of `dual` will change from `True` to `'auto'` in 1.5. Set the value of `dual` explicitly to suppress the warning.\n",
      "  warnings.warn(\n",
      "/Users/aseemmishra/anaconda3/lib/python3.11/site-packages/sklearn/svm/_classes.py:32: FutureWarning: The default value of `dual` will change from `True` to `'auto'` in 1.5. Set the value of `dual` explicitly to suppress the warning.\n",
      "  warnings.warn(\n",
      "/Users/aseemmishra/anaconda3/lib/python3.11/site-packages/sklearn/svm/_classes.py:32: FutureWarning: The default value of `dual` will change from `True` to `'auto'` in 1.5. Set the value of `dual` explicitly to suppress the warning.\n",
      "  warnings.warn(\n",
      "/Users/aseemmishra/anaconda3/lib/python3.11/site-packages/sklearn/svm/_classes.py:32: FutureWarning: The default value of `dual` will change from `True` to `'auto'` in 1.5. Set the value of `dual` explicitly to suppress the warning.\n",
      "  warnings.warn(\n",
      "/Users/aseemmishra/anaconda3/lib/python3.11/site-packages/sklearn/svm/_classes.py:32: FutureWarning: The default value of `dual` will change from `True` to `'auto'` in 1.5. Set the value of `dual` explicitly to suppress the warning.\n",
      "  warnings.warn(\n",
      "/Users/aseemmishra/anaconda3/lib/python3.11/site-packages/sklearn/svm/_classes.py:32: FutureWarning: The default value of `dual` will change from `True` to `'auto'` in 1.5. Set the value of `dual` explicitly to suppress the warning.\n",
      "  warnings.warn(\n",
      "/Users/aseemmishra/anaconda3/lib/python3.11/site-packages/sklearn/svm/_classes.py:32: FutureWarning: The default value of `dual` will change from `True` to `'auto'` in 1.5. Set the value of `dual` explicitly to suppress the warning.\n",
      "  warnings.warn(\n",
      "/Users/aseemmishra/anaconda3/lib/python3.11/site-packages/sklearn/svm/_classes.py:32: FutureWarning: The default value of `dual` will change from `True` to `'auto'` in 1.5. Set the value of `dual` explicitly to suppress the warning.\n",
      "  warnings.warn(\n",
      "/Users/aseemmishra/anaconda3/lib/python3.11/site-packages/sklearn/svm/_classes.py:32: FutureWarning: The default value of `dual` will change from `True` to `'auto'` in 1.5. Set the value of `dual` explicitly to suppress the warning.\n",
      "  warnings.warn(\n",
      "/Users/aseemmishra/anaconda3/lib/python3.11/site-packages/sklearn/svm/_classes.py:32: FutureWarning: The default value of `dual` will change from `True` to `'auto'` in 1.5. Set the value of `dual` explicitly to suppress the warning.\n",
      "  warnings.warn(\n",
      "/Users/aseemmishra/anaconda3/lib/python3.11/site-packages/sklearn/svm/_classes.py:32: FutureWarning: The default value of `dual` will change from `True` to `'auto'` in 1.5. Set the value of `dual` explicitly to suppress the warning.\n",
      "  warnings.warn(\n",
      "/Users/aseemmishra/anaconda3/lib/python3.11/site-packages/sklearn/svm/_classes.py:32: FutureWarning: The default value of `dual` will change from `True` to `'auto'` in 1.5. Set the value of `dual` explicitly to suppress the warning.\n",
      "  warnings.warn(\n",
      "/Users/aseemmishra/anaconda3/lib/python3.11/site-packages/sklearn/svm/_classes.py:32: FutureWarning: The default value of `dual` will change from `True` to `'auto'` in 1.5. Set the value of `dual` explicitly to suppress the warning.\n",
      "  warnings.warn(\n",
      "/Users/aseemmishra/anaconda3/lib/python3.11/site-packages/sklearn/svm/_classes.py:32: FutureWarning: The default value of `dual` will change from `True` to `'auto'` in 1.5. Set the value of `dual` explicitly to suppress the warning.\n",
      "  warnings.warn(\n",
      "/Users/aseemmishra/anaconda3/lib/python3.11/site-packages/sklearn/svm/_classes.py:32: FutureWarning: The default value of `dual` will change from `True` to `'auto'` in 1.5. Set the value of `dual` explicitly to suppress the warning.\n",
      "  warnings.warn(\n",
      "/Users/aseemmishra/anaconda3/lib/python3.11/site-packages/sklearn/svm/_classes.py:32: FutureWarning: The default value of `dual` will change from `True` to `'auto'` in 1.5. Set the value of `dual` explicitly to suppress the warning.\n",
      "  warnings.warn(\n",
      "/Users/aseemmishra/anaconda3/lib/python3.11/site-packages/sklearn/svm/_classes.py:32: FutureWarning: The default value of `dual` will change from `True` to `'auto'` in 1.5. Set the value of `dual` explicitly to suppress the warning.\n",
      "  warnings.warn(\n",
      "/Users/aseemmishra/anaconda3/lib/python3.11/site-packages/sklearn/svm/_classes.py:32: FutureWarning: The default value of `dual` will change from `True` to `'auto'` in 1.5. Set the value of `dual` explicitly to suppress the warning.\n",
      "  warnings.warn(\n",
      "/Users/aseemmishra/anaconda3/lib/python3.11/site-packages/sklearn/svm/_classes.py:32: FutureWarning: The default value of `dual` will change from `True` to `'auto'` in 1.5. Set the value of `dual` explicitly to suppress the warning.\n",
      "  warnings.warn(\n",
      "/Users/aseemmishra/anaconda3/lib/python3.11/site-packages/sklearn/svm/_classes.py:32: FutureWarning: The default value of `dual` will change from `True` to `'auto'` in 1.5. Set the value of `dual` explicitly to suppress the warning.\n",
      "  warnings.warn(\n",
      "/Users/aseemmishra/anaconda3/lib/python3.11/site-packages/sklearn/svm/_classes.py:32: FutureWarning: The default value of `dual` will change from `True` to `'auto'` in 1.5. Set the value of `dual` explicitly to suppress the warning.\n",
      "  warnings.warn(\n",
      "/Users/aseemmishra/anaconda3/lib/python3.11/site-packages/sklearn/svm/_classes.py:32: FutureWarning: The default value of `dual` will change from `True` to `'auto'` in 1.5. Set the value of `dual` explicitly to suppress the warning.\n",
      "  warnings.warn(\n",
      "/Users/aseemmishra/anaconda3/lib/python3.11/site-packages/sklearn/svm/_classes.py:32: FutureWarning: The default value of `dual` will change from `True` to `'auto'` in 1.5. Set the value of `dual` explicitly to suppress the warning.\n",
      "  warnings.warn(\n",
      "/Users/aseemmishra/anaconda3/lib/python3.11/site-packages/sklearn/svm/_classes.py:32: FutureWarning: The default value of `dual` will change from `True` to `'auto'` in 1.5. Set the value of `dual` explicitly to suppress the warning.\n",
      "  warnings.warn(\n",
      "/Users/aseemmishra/anaconda3/lib/python3.11/site-packages/sklearn/svm/_classes.py:32: FutureWarning: The default value of `dual` will change from `True` to `'auto'` in 1.5. Set the value of `dual` explicitly to suppress the warning.\n",
      "  warnings.warn(\n",
      "/Users/aseemmishra/anaconda3/lib/python3.11/site-packages/sklearn/svm/_classes.py:32: FutureWarning: The default value of `dual` will change from `True` to `'auto'` in 1.5. Set the value of `dual` explicitly to suppress the warning.\n",
      "  warnings.warn(\n",
      "/Users/aseemmishra/anaconda3/lib/python3.11/site-packages/sklearn/svm/_classes.py:32: FutureWarning: The default value of `dual` will change from `True` to `'auto'` in 1.5. Set the value of `dual` explicitly to suppress the warning.\n",
      "  warnings.warn(\n",
      "/Users/aseemmishra/anaconda3/lib/python3.11/site-packages/sklearn/svm/_classes.py:32: FutureWarning: The default value of `dual` will change from `True` to `'auto'` in 1.5. Set the value of `dual` explicitly to suppress the warning.\n",
      "  warnings.warn(\n",
      "/Users/aseemmishra/anaconda3/lib/python3.11/site-packages/sklearn/svm/_classes.py:32: FutureWarning: The default value of `dual` will change from `True` to `'auto'` in 1.5. Set the value of `dual` explicitly to suppress the warning.\n",
      "  warnings.warn(\n",
      "/Users/aseemmishra/anaconda3/lib/python3.11/site-packages/sklearn/svm/_classes.py:32: FutureWarning: The default value of `dual` will change from `True` to `'auto'` in 1.5. Set the value of `dual` explicitly to suppress the warning.\n",
      "  warnings.warn(\n",
      "/Users/aseemmishra/anaconda3/lib/python3.11/site-packages/sklearn/svm/_classes.py:32: FutureWarning: The default value of `dual` will change from `True` to `'auto'` in 1.5. Set the value of `dual` explicitly to suppress the warning.\n",
      "  warnings.warn(\n",
      "/Users/aseemmishra/anaconda3/lib/python3.11/site-packages/sklearn/svm/_classes.py:32: FutureWarning: The default value of `dual` will change from `True` to `'auto'` in 1.5. Set the value of `dual` explicitly to suppress the warning.\n",
      "  warnings.warn(\n",
      "/Users/aseemmishra/anaconda3/lib/python3.11/site-packages/sklearn/svm/_classes.py:32: FutureWarning: The default value of `dual` will change from `True` to `'auto'` in 1.5. Set the value of `dual` explicitly to suppress the warning.\n",
      "  warnings.warn(\n",
      "/Users/aseemmishra/anaconda3/lib/python3.11/site-packages/sklearn/svm/_classes.py:32: FutureWarning: The default value of `dual` will change from `True` to `'auto'` in 1.5. Set the value of `dual` explicitly to suppress the warning.\n",
      "  warnings.warn(\n",
      "/Users/aseemmishra/anaconda3/lib/python3.11/site-packages/sklearn/svm/_classes.py:32: FutureWarning: The default value of `dual` will change from `True` to `'auto'` in 1.5. Set the value of `dual` explicitly to suppress the warning.\n",
      "  warnings.warn(\n",
      "/Users/aseemmishra/anaconda3/lib/python3.11/site-packages/sklearn/svm/_classes.py:32: FutureWarning: The default value of `dual` will change from `True` to `'auto'` in 1.5. Set the value of `dual` explicitly to suppress the warning.\n",
      "  warnings.warn(\n",
      "/Users/aseemmishra/anaconda3/lib/python3.11/site-packages/sklearn/svm/_classes.py:32: FutureWarning: The default value of `dual` will change from `True` to `'auto'` in 1.5. Set the value of `dual` explicitly to suppress the warning.\n",
      "  warnings.warn(\n",
      "/Users/aseemmishra/anaconda3/lib/python3.11/site-packages/sklearn/svm/_classes.py:32: FutureWarning: The default value of `dual` will change from `True` to `'auto'` in 1.5. Set the value of `dual` explicitly to suppress the warning.\n",
      "  warnings.warn(\n",
      "/Users/aseemmishra/anaconda3/lib/python3.11/site-packages/sklearn/svm/_classes.py:32: FutureWarning: The default value of `dual` will change from `True` to `'auto'` in 1.5. Set the value of `dual` explicitly to suppress the warning.\n",
      "  warnings.warn(\n",
      "/Users/aseemmishra/anaconda3/lib/python3.11/site-packages/sklearn/svm/_classes.py:32: FutureWarning: The default value of `dual` will change from `True` to `'auto'` in 1.5. Set the value of `dual` explicitly to suppress the warning.\n",
      "  warnings.warn(\n",
      "/Users/aseemmishra/anaconda3/lib/python3.11/site-packages/sklearn/svm/_classes.py:32: FutureWarning: The default value of `dual` will change from `True` to `'auto'` in 1.5. Set the value of `dual` explicitly to suppress the warning.\n",
      "  warnings.warn(\n",
      "/Users/aseemmishra/anaconda3/lib/python3.11/site-packages/sklearn/svm/_classes.py:32: FutureWarning: The default value of `dual` will change from `True` to `'auto'` in 1.5. Set the value of `dual` explicitly to suppress the warning.\n",
      "  warnings.warn(\n",
      "/Users/aseemmishra/anaconda3/lib/python3.11/site-packages/sklearn/svm/_classes.py:32: FutureWarning: The default value of `dual` will change from `True` to `'auto'` in 1.5. Set the value of `dual` explicitly to suppress the warning.\n",
      "  warnings.warn(\n",
      "/Users/aseemmishra/anaconda3/lib/python3.11/site-packages/sklearn/svm/_classes.py:32: FutureWarning: The default value of `dual` will change from `True` to `'auto'` in 1.5. Set the value of `dual` explicitly to suppress the warning.\n",
      "  warnings.warn(\n",
      "/Users/aseemmishra/anaconda3/lib/python3.11/site-packages/sklearn/svm/_classes.py:32: FutureWarning: The default value of `dual` will change from `True` to `'auto'` in 1.5. Set the value of `dual` explicitly to suppress the warning.\n",
      "  warnings.warn(\n",
      "/Users/aseemmishra/anaconda3/lib/python3.11/site-packages/sklearn/svm/_classes.py:32: FutureWarning: The default value of `dual` will change from `True` to `'auto'` in 1.5. Set the value of `dual` explicitly to suppress the warning.\n",
      "  warnings.warn(\n",
      "/Users/aseemmishra/anaconda3/lib/python3.11/site-packages/sklearn/svm/_classes.py:32: FutureWarning: The default value of `dual` will change from `True` to `'auto'` in 1.5. Set the value of `dual` explicitly to suppress the warning.\n",
      "  warnings.warn(\n",
      "/Users/aseemmishra/anaconda3/lib/python3.11/site-packages/sklearn/svm/_classes.py:32: FutureWarning: The default value of `dual` will change from `True` to `'auto'` in 1.5. Set the value of `dual` explicitly to suppress the warning.\n",
      "  warnings.warn(\n",
      "/Users/aseemmishra/anaconda3/lib/python3.11/site-packages/sklearn/svm/_classes.py:32: FutureWarning: The default value of `dual` will change from `True` to `'auto'` in 1.5. Set the value of `dual` explicitly to suppress the warning.\n",
      "  warnings.warn(\n",
      "/Users/aseemmishra/anaconda3/lib/python3.11/site-packages/sklearn/svm/_classes.py:32: FutureWarning: The default value of `dual` will change from `True` to `'auto'` in 1.5. Set the value of `dual` explicitly to suppress the warning.\n",
      "  warnings.warn(\n",
      "/Users/aseemmishra/anaconda3/lib/python3.11/site-packages/sklearn/svm/_classes.py:32: FutureWarning: The default value of `dual` will change from `True` to `'auto'` in 1.5. Set the value of `dual` explicitly to suppress the warning.\n",
      "  warnings.warn(\n",
      "/Users/aseemmishra/anaconda3/lib/python3.11/site-packages/sklearn/svm/_classes.py:32: FutureWarning: The default value of `dual` will change from `True` to `'auto'` in 1.5. Set the value of `dual` explicitly to suppress the warning.\n",
      "  warnings.warn(\n",
      "/Users/aseemmishra/anaconda3/lib/python3.11/site-packages/sklearn/svm/_classes.py:32: FutureWarning: The default value of `dual` will change from `True` to `'auto'` in 1.5. Set the value of `dual` explicitly to suppress the warning.\n",
      "  warnings.warn(\n",
      "/Users/aseemmishra/anaconda3/lib/python3.11/site-packages/sklearn/svm/_classes.py:32: FutureWarning: The default value of `dual` will change from `True` to `'auto'` in 1.5. Set the value of `dual` explicitly to suppress the warning.\n",
      "  warnings.warn(\n",
      "/Users/aseemmishra/anaconda3/lib/python3.11/site-packages/sklearn/svm/_classes.py:32: FutureWarning: The default value of `dual` will change from `True` to `'auto'` in 1.5. Set the value of `dual` explicitly to suppress the warning.\n",
      "  warnings.warn(\n",
      "/Users/aseemmishra/anaconda3/lib/python3.11/site-packages/sklearn/svm/_classes.py:32: FutureWarning: The default value of `dual` will change from `True` to `'auto'` in 1.5. Set the value of `dual` explicitly to suppress the warning.\n",
      "  warnings.warn(\n",
      "/Users/aseemmishra/anaconda3/lib/python3.11/site-packages/sklearn/svm/_classes.py:32: FutureWarning: The default value of `dual` will change from `True` to `'auto'` in 1.5. Set the value of `dual` explicitly to suppress the warning.\n",
      "  warnings.warn(\n",
      "/Users/aseemmishra/anaconda3/lib/python3.11/site-packages/sklearn/svm/_classes.py:32: FutureWarning: The default value of `dual` will change from `True` to `'auto'` in 1.5. Set the value of `dual` explicitly to suppress the warning.\n",
      "  warnings.warn(\n",
      "/Users/aseemmishra/anaconda3/lib/python3.11/site-packages/sklearn/svm/_classes.py:32: FutureWarning: The default value of `dual` will change from `True` to `'auto'` in 1.5. Set the value of `dual` explicitly to suppress the warning.\n",
      "  warnings.warn(\n",
      "/Users/aseemmishra/anaconda3/lib/python3.11/site-packages/sklearn/svm/_classes.py:32: FutureWarning: The default value of `dual` will change from `True` to `'auto'` in 1.5. Set the value of `dual` explicitly to suppress the warning.\n",
      "  warnings.warn(\n",
      "/Users/aseemmishra/anaconda3/lib/python3.11/site-packages/sklearn/svm/_classes.py:32: FutureWarning: The default value of `dual` will change from `True` to `'auto'` in 1.5. Set the value of `dual` explicitly to suppress the warning.\n",
      "  warnings.warn(\n",
      "/Users/aseemmishra/anaconda3/lib/python3.11/site-packages/sklearn/svm/_classes.py:32: FutureWarning: The default value of `dual` will change from `True` to `'auto'` in 1.5. Set the value of `dual` explicitly to suppress the warning.\n",
      "  warnings.warn(\n",
      "/Users/aseemmishra/anaconda3/lib/python3.11/site-packages/sklearn/svm/_classes.py:32: FutureWarning: The default value of `dual` will change from `True` to `'auto'` in 1.5. Set the value of `dual` explicitly to suppress the warning.\n",
      "  warnings.warn(\n",
      "/Users/aseemmishra/anaconda3/lib/python3.11/site-packages/sklearn/svm/_classes.py:32: FutureWarning: The default value of `dual` will change from `True` to `'auto'` in 1.5. Set the value of `dual` explicitly to suppress the warning.\n",
      "  warnings.warn(\n",
      "/Users/aseemmishra/anaconda3/lib/python3.11/site-packages/sklearn/svm/_classes.py:32: FutureWarning: The default value of `dual` will change from `True` to `'auto'` in 1.5. Set the value of `dual` explicitly to suppress the warning.\n",
      "  warnings.warn(\n",
      "/Users/aseemmishra/anaconda3/lib/python3.11/site-packages/sklearn/svm/_classes.py:32: FutureWarning: The default value of `dual` will change from `True` to `'auto'` in 1.5. Set the value of `dual` explicitly to suppress the warning.\n",
      "  warnings.warn(\n",
      "/Users/aseemmishra/anaconda3/lib/python3.11/site-packages/sklearn/svm/_classes.py:32: FutureWarning: The default value of `dual` will change from `True` to `'auto'` in 1.5. Set the value of `dual` explicitly to suppress the warning.\n",
      "  warnings.warn(\n",
      "/Users/aseemmishra/anaconda3/lib/python3.11/site-packages/sklearn/svm/_classes.py:32: FutureWarning: The default value of `dual` will change from `True` to `'auto'` in 1.5. Set the value of `dual` explicitly to suppress the warning.\n",
      "  warnings.warn(\n"
     ]
    }
   ],
   "source": [
    "li1=[]\n",
    "li2=[]\n",
    "li3=[]\n",
    "\n",
    "for i in range(100,1000,10):\n",
    "    df2= X_train.sample(n=i)\n",
    "    ytr = y_train.loc[df2.index]\n",
    "    model = LinearSVC()\n",
    "    model.fit(df2, ytr)\n",
    "    ypred = model.predict(df2)\n",
    "    li1.append(i)\n",
    "    li2.append( accuracy_score(ytr, ypred))\n",
    "    \n",
    "   \n",
    "    \n",
    "\n",
    "# train the model\n",
    "\n",
    "    "
   ]
  },
  {
   "cell_type": "code",
   "execution_count": 69,
   "id": "4a633545",
   "metadata": {},
   "outputs": [
    {
     "data": {
      "image/png": "[encoded data removed]",
      "text/plain": [
       "<Figure size 1000x800 with 1 Axes>"
      ]
     },
     "metadata": {},
     "output_type": "display_data"
    }
   ],
   "source": [
    "plt.figure(figsize=(10, 8))\n",
    "\n",
    "plt.subplot(1, 1, 1)  # 1 row, 2 columns, 1st subplot\n",
    "plt.plot(li1, li2, 'o')\n",
    "plt.title('Learning Curve (Training Data)')\n",
    "plt.xlabel('Number of Samples (i)')\n",
    "plt.ylabel('Accuracy')\n",
    "plt.grid(True)"
   ]
  },
  {
   "cell_type": "code",
   "execution_count": 70,
   "id": "f0e7f1cb",
   "metadata": {},
   "outputs": [
    {
     "name": "stderr",
     "output_type": "stream",
     "text": [
      "/Users/aseemmishra/anaconda3/lib/python3.11/site-packages/sklearn/svm/_classes.py:32: FutureWarning: The default value of `dual` will change from `True` to `'auto'` in 1.5. Set the value of `dual` explicitly to suppress the warning.\n",
      "  warnings.warn(\n",
      "/Users/aseemmishra/anaconda3/lib/python3.11/site-packages/sklearn/svm/_classes.py:32: FutureWarning: The default value of `dual` will change from `True` to `'auto'` in 1.5. Set the value of `dual` explicitly to suppress the warning.\n",
      "  warnings.warn(\n",
      "/Users/aseemmishra/anaconda3/lib/python3.11/site-packages/sklearn/svm/_classes.py:32: FutureWarning: The default value of `dual` will change from `True` to `'auto'` in 1.5. Set the value of `dual` explicitly to suppress the warning.\n",
      "  warnings.warn(\n",
      "/Users/aseemmishra/anaconda3/lib/python3.11/site-packages/sklearn/svm/_classes.py:32: FutureWarning: The default value of `dual` will change from `True` to `'auto'` in 1.5. Set the value of `dual` explicitly to suppress the warning.\n",
      "  warnings.warn(\n",
      "/Users/aseemmishra/anaconda3/lib/python3.11/site-packages/sklearn/svm/_classes.py:32: FutureWarning: The default value of `dual` will change from `True` to `'auto'` in 1.5. Set the value of `dual` explicitly to suppress the warning.\n",
      "  warnings.warn(\n",
      "/Users/aseemmishra/anaconda3/lib/python3.11/site-packages/sklearn/svm/_classes.py:32: FutureWarning: The default value of `dual` will change from `True` to `'auto'` in 1.5. Set the value of `dual` explicitly to suppress the warning.\n",
      "  warnings.warn(\n",
      "/Users/aseemmishra/anaconda3/lib/python3.11/site-packages/sklearn/svm/_classes.py:32: FutureWarning: The default value of `dual` will change from `True` to `'auto'` in 1.5. Set the value of `dual` explicitly to suppress the warning.\n",
      "  warnings.warn(\n",
      "/Users/aseemmishra/anaconda3/lib/python3.11/site-packages/sklearn/svm/_classes.py:32: FutureWarning: The default value of `dual` will change from `True` to `'auto'` in 1.5. Set the value of `dual` explicitly to suppress the warning.\n",
      "  warnings.warn(\n",
      "/Users/aseemmishra/anaconda3/lib/python3.11/site-packages/sklearn/svm/_classes.py:32: FutureWarning: The default value of `dual` will change from `True` to `'auto'` in 1.5. Set the value of `dual` explicitly to suppress the warning.\n",
      "  warnings.warn(\n",
      "/Users/aseemmishra/anaconda3/lib/python3.11/site-packages/sklearn/svm/_classes.py:32: FutureWarning: The default value of `dual` will change from `True` to `'auto'` in 1.5. Set the value of `dual` explicitly to suppress the warning.\n",
      "  warnings.warn(\n",
      "/Users/aseemmishra/anaconda3/lib/python3.11/site-packages/sklearn/svm/_classes.py:32: FutureWarning: The default value of `dual` will change from `True` to `'auto'` in 1.5. Set the value of `dual` explicitly to suppress the warning.\n",
      "  warnings.warn(\n",
      "/Users/aseemmishra/anaconda3/lib/python3.11/site-packages/sklearn/svm/_classes.py:32: FutureWarning: The default value of `dual` will change from `True` to `'auto'` in 1.5. Set the value of `dual` explicitly to suppress the warning.\n",
      "  warnings.warn(\n",
      "/Users/aseemmishra/anaconda3/lib/python3.11/site-packages/sklearn/svm/_classes.py:32: FutureWarning: The default value of `dual` will change from `True` to `'auto'` in 1.5. Set the value of `dual` explicitly to suppress the warning.\n",
      "  warnings.warn(\n",
      "/Users/aseemmishra/anaconda3/lib/python3.11/site-packages/sklearn/svm/_classes.py:32: FutureWarning: The default value of `dual` will change from `True` to `'auto'` in 1.5. Set the value of `dual` explicitly to suppress the warning.\n",
      "  warnings.warn(\n",
      "/Users/aseemmishra/anaconda3/lib/python3.11/site-packages/sklearn/svm/_classes.py:32: FutureWarning: The default value of `dual` will change from `True` to `'auto'` in 1.5. Set the value of `dual` explicitly to suppress the warning.\n",
      "  warnings.warn(\n",
      "/Users/aseemmishra/anaconda3/lib/python3.11/site-packages/sklearn/svm/_classes.py:32: FutureWarning: The default value of `dual` will change from `True` to `'auto'` in 1.5. Set the value of `dual` explicitly to suppress the warning.\n",
      "  warnings.warn(\n",
      "/Users/aseemmishra/anaconda3/lib/python3.11/site-packages/sklearn/svm/_classes.py:32: FutureWarning: The default value of `dual` will change from `True` to `'auto'` in 1.5. Set the value of `dual` explicitly to suppress the warning.\n",
      "  warnings.warn(\n",
      "/Users/aseemmishra/anaconda3/lib/python3.11/site-packages/sklearn/svm/_classes.py:32: FutureWarning: The default value of `dual` will change from `True` to `'auto'` in 1.5. Set the value of `dual` explicitly to suppress the warning.\n",
      "  warnings.warn(\n",
      "/Users/aseemmishra/anaconda3/lib/python3.11/site-packages/sklearn/svm/_classes.py:32: FutureWarning: The default value of `dual` will change from `True` to `'auto'` in 1.5. Set the value of `dual` explicitly to suppress the warning.\n",
      "  warnings.warn(\n",
      "/Users/aseemmishra/anaconda3/lib/python3.11/site-packages/sklearn/svm/_classes.py:32: FutureWarning: The default value of `dual` will change from `True` to `'auto'` in 1.5. Set the value of `dual` explicitly to suppress the warning.\n",
      "  warnings.warn(\n",
      "/Users/aseemmishra/anaconda3/lib/python3.11/site-packages/sklearn/svm/_classes.py:32: FutureWarning: The default value of `dual` will change from `True` to `'auto'` in 1.5. Set the value of `dual` explicitly to suppress the warning.\n",
      "  warnings.warn(\n",
      "/Users/aseemmishra/anaconda3/lib/python3.11/site-packages/sklearn/svm/_classes.py:32: FutureWarning: The default value of `dual` will change from `True` to `'auto'` in 1.5. Set the value of `dual` explicitly to suppress the warning.\n",
      "  warnings.warn(\n",
      "/Users/aseemmishra/anaconda3/lib/python3.11/site-packages/sklearn/svm/_classes.py:32: FutureWarning: The default value of `dual` will change from `True` to `'auto'` in 1.5. Set the value of `dual` explicitly to suppress the warning.\n",
      "  warnings.warn(\n",
      "/Users/aseemmishra/anaconda3/lib/python3.11/site-packages/sklearn/svm/_classes.py:32: FutureWarning: The default value of `dual` will change from `True` to `'auto'` in 1.5. Set the value of `dual` explicitly to suppress the warning.\n",
      "  warnings.warn(\n",
      "/Users/aseemmishra/anaconda3/lib/python3.11/site-packages/sklearn/svm/_classes.py:32: FutureWarning: The default value of `dual` will change from `True` to `'auto'` in 1.5. Set the value of `dual` explicitly to suppress the warning.\n",
      "  warnings.warn(\n",
      "/Users/aseemmishra/anaconda3/lib/python3.11/site-packages/sklearn/svm/_classes.py:32: FutureWarning: The default value of `dual` will change from `True` to `'auto'` in 1.5. Set the value of `dual` explicitly to suppress the warning.\n",
      "  warnings.warn(\n",
      "/Users/aseemmishra/anaconda3/lib/python3.11/site-packages/sklearn/svm/_classes.py:32: FutureWarning: The default value of `dual` will change from `True` to `'auto'` in 1.5. Set the value of `dual` explicitly to suppress the warning.\n",
      "  warnings.warn(\n",
      "/Users/aseemmishra/anaconda3/lib/python3.11/site-packages/sklearn/svm/_classes.py:32: FutureWarning: The default value of `dual` will change from `True` to `'auto'` in 1.5. Set the value of `dual` explicitly to suppress the warning.\n",
      "  warnings.warn(\n",
      "/Users/aseemmishra/anaconda3/lib/python3.11/site-packages/sklearn/svm/_classes.py:32: FutureWarning: The default value of `dual` will change from `True` to `'auto'` in 1.5. Set the value of `dual` explicitly to suppress the warning.\n",
      "  warnings.warn(\n",
      "/Users/aseemmishra/anaconda3/lib/python3.11/site-packages/sklearn/svm/_classes.py:32: FutureWarning: The default value of `dual` will change from `True` to `'auto'` in 1.5. Set the value of `dual` explicitly to suppress the warning.\n",
      "  warnings.warn(\n",
      "/Users/aseemmishra/anaconda3/lib/python3.11/site-packages/sklearn/svm/_classes.py:32: FutureWarning: The default value of `dual` will change from `True` to `'auto'` in 1.5. Set the value of `dual` explicitly to suppress the warning.\n",
      "  warnings.warn(\n",
      "/Users/aseemmishra/anaconda3/lib/python3.11/site-packages/sklearn/svm/_classes.py:32: FutureWarning: The default value of `dual` will change from `True` to `'auto'` in 1.5. Set the value of `dual` explicitly to suppress the warning.\n",
      "  warnings.warn(\n",
      "/Users/aseemmishra/anaconda3/lib/python3.11/site-packages/sklearn/svm/_classes.py:32: FutureWarning: The default value of `dual` will change from `True` to `'auto'` in 1.5. Set the value of `dual` explicitly to suppress the warning.\n",
      "  warnings.warn(\n",
      "/Users/aseemmishra/anaconda3/lib/python3.11/site-packages/sklearn/svm/_classes.py:32: FutureWarning: The default value of `dual` will change from `True` to `'auto'` in 1.5. Set the value of `dual` explicitly to suppress the warning.\n",
      "  warnings.warn(\n",
      "/Users/aseemmishra/anaconda3/lib/python3.11/site-packages/sklearn/svm/_classes.py:32: FutureWarning: The default value of `dual` will change from `True` to `'auto'` in 1.5. Set the value of `dual` explicitly to suppress the warning.\n",
      "  warnings.warn(\n",
      "/Users/aseemmishra/anaconda3/lib/python3.11/site-packages/sklearn/svm/_classes.py:32: FutureWarning: The default value of `dual` will change from `True` to `'auto'` in 1.5. Set the value of `dual` explicitly to suppress the warning.\n",
      "  warnings.warn(\n",
      "/Users/aseemmishra/anaconda3/lib/python3.11/site-packages/sklearn/svm/_classes.py:32: FutureWarning: The default value of `dual` will change from `True` to `'auto'` in 1.5. Set the value of `dual` explicitly to suppress the warning.\n",
      "  warnings.warn(\n",
      "/Users/aseemmishra/anaconda3/lib/python3.11/site-packages/sklearn/svm/_classes.py:32: FutureWarning: The default value of `dual` will change from `True` to `'auto'` in 1.5. Set the value of `dual` explicitly to suppress the warning.\n",
      "  warnings.warn(\n",
      "/Users/aseemmishra/anaconda3/lib/python3.11/site-packages/sklearn/svm/_classes.py:32: FutureWarning: The default value of `dual` will change from `True` to `'auto'` in 1.5. Set the value of `dual` explicitly to suppress the warning.\n",
      "  warnings.warn(\n",
      "/Users/aseemmishra/anaconda3/lib/python3.11/site-packages/sklearn/svm/_classes.py:32: FutureWarning: The default value of `dual` will change from `True` to `'auto'` in 1.5. Set the value of `dual` explicitly to suppress the warning.\n",
      "  warnings.warn(\n",
      "/Users/aseemmishra/anaconda3/lib/python3.11/site-packages/sklearn/svm/_classes.py:32: FutureWarning: The default value of `dual` will change from `True` to `'auto'` in 1.5. Set the value of `dual` explicitly to suppress the warning.\n",
      "  warnings.warn(\n",
      "/Users/aseemmishra/anaconda3/lib/python3.11/site-packages/sklearn/svm/_classes.py:32: FutureWarning: The default value of `dual` will change from `True` to `'auto'` in 1.5. Set the value of `dual` explicitly to suppress the warning.\n",
      "  warnings.warn(\n",
      "/Users/aseemmishra/anaconda3/lib/python3.11/site-packages/sklearn/svm/_classes.py:32: FutureWarning: The default value of `dual` will change from `True` to `'auto'` in 1.5. Set the value of `dual` explicitly to suppress the warning.\n",
      "  warnings.warn(\n",
      "/Users/aseemmishra/anaconda3/lib/python3.11/site-packages/sklearn/svm/_classes.py:32: FutureWarning: The default value of `dual` will change from `True` to `'auto'` in 1.5. Set the value of `dual` explicitly to suppress the warning.\n",
      "  warnings.warn(\n",
      "/Users/aseemmishra/anaconda3/lib/python3.11/site-packages/sklearn/svm/_classes.py:32: FutureWarning: The default value of `dual` will change from `True` to `'auto'` in 1.5. Set the value of `dual` explicitly to suppress the warning.\n",
      "  warnings.warn(\n",
      "/Users/aseemmishra/anaconda3/lib/python3.11/site-packages/sklearn/svm/_classes.py:32: FutureWarning: The default value of `dual` will change from `True` to `'auto'` in 1.5. Set the value of `dual` explicitly to suppress the warning.\n",
      "  warnings.warn(\n",
      "/Users/aseemmishra/anaconda3/lib/python3.11/site-packages/sklearn/svm/_classes.py:32: FutureWarning: The default value of `dual` will change from `True` to `'auto'` in 1.5. Set the value of `dual` explicitly to suppress the warning.\n",
      "  warnings.warn(\n",
      "/Users/aseemmishra/anaconda3/lib/python3.11/site-packages/sklearn/svm/_classes.py:32: FutureWarning: The default value of `dual` will change from `True` to `'auto'` in 1.5. Set the value of `dual` explicitly to suppress the warning.\n",
      "  warnings.warn(\n",
      "/Users/aseemmishra/anaconda3/lib/python3.11/site-packages/sklearn/svm/_classes.py:32: FutureWarning: The default value of `dual` will change from `True` to `'auto'` in 1.5. Set the value of `dual` explicitly to suppress the warning.\n",
      "  warnings.warn(\n",
      "/Users/aseemmishra/anaconda3/lib/python3.11/site-packages/sklearn/svm/_classes.py:32: FutureWarning: The default value of `dual` will change from `True` to `'auto'` in 1.5. Set the value of `dual` explicitly to suppress the warning.\n",
      "  warnings.warn(\n",
      "/Users/aseemmishra/anaconda3/lib/python3.11/site-packages/sklearn/svm/_classes.py:32: FutureWarning: The default value of `dual` will change from `True` to `'auto'` in 1.5. Set the value of `dual` explicitly to suppress the warning.\n",
      "  warnings.warn(\n",
      "/Users/aseemmishra/anaconda3/lib/python3.11/site-packages/sklearn/svm/_classes.py:32: FutureWarning: The default value of `dual` will change from `True` to `'auto'` in 1.5. Set the value of `dual` explicitly to suppress the warning.\n",
      "  warnings.warn(\n",
      "/Users/aseemmishra/anaconda3/lib/python3.11/site-packages/sklearn/svm/_classes.py:32: FutureWarning: The default value of `dual` will change from `True` to `'auto'` in 1.5. Set the value of `dual` explicitly to suppress the warning.\n",
      "  warnings.warn(\n",
      "/Users/aseemmishra/anaconda3/lib/python3.11/site-packages/sklearn/svm/_classes.py:32: FutureWarning: The default value of `dual` will change from `True` to `'auto'` in 1.5. Set the value of `dual` explicitly to suppress the warning.\n",
      "  warnings.warn(\n",
      "/Users/aseemmishra/anaconda3/lib/python3.11/site-packages/sklearn/svm/_classes.py:32: FutureWarning: The default value of `dual` will change from `True` to `'auto'` in 1.5. Set the value of `dual` explicitly to suppress the warning.\n",
      "  warnings.warn(\n",
      "/Users/aseemmishra/anaconda3/lib/python3.11/site-packages/sklearn/svm/_classes.py:32: FutureWarning: The default value of `dual` will change from `True` to `'auto'` in 1.5. Set the value of `dual` explicitly to suppress the warning.\n",
      "  warnings.warn(\n",
      "/Users/aseemmishra/anaconda3/lib/python3.11/site-packages/sklearn/svm/_classes.py:32: FutureWarning: The default value of `dual` will change from `True` to `'auto'` in 1.5. Set the value of `dual` explicitly to suppress the warning.\n",
      "  warnings.warn(\n",
      "/Users/aseemmishra/anaconda3/lib/python3.11/site-packages/sklearn/svm/_classes.py:32: FutureWarning: The default value of `dual` will change from `True` to `'auto'` in 1.5. Set the value of `dual` explicitly to suppress the warning.\n",
      "  warnings.warn(\n",
      "/Users/aseemmishra/anaconda3/lib/python3.11/site-packages/sklearn/svm/_classes.py:32: FutureWarning: The default value of `dual` will change from `True` to `'auto'` in 1.5. Set the value of `dual` explicitly to suppress the warning.\n",
      "  warnings.warn(\n",
      "/Users/aseemmishra/anaconda3/lib/python3.11/site-packages/sklearn/svm/_classes.py:32: FutureWarning: The default value of `dual` will change from `True` to `'auto'` in 1.5. Set the value of `dual` explicitly to suppress the warning.\n",
      "  warnings.warn(\n",
      "/Users/aseemmishra/anaconda3/lib/python3.11/site-packages/sklearn/svm/_classes.py:32: FutureWarning: The default value of `dual` will change from `True` to `'auto'` in 1.5. Set the value of `dual` explicitly to suppress the warning.\n",
      "  warnings.warn(\n",
      "/Users/aseemmishra/anaconda3/lib/python3.11/site-packages/sklearn/svm/_classes.py:32: FutureWarning: The default value of `dual` will change from `True` to `'auto'` in 1.5. Set the value of `dual` explicitly to suppress the warning.\n",
      "  warnings.warn(\n",
      "/Users/aseemmishra/anaconda3/lib/python3.11/site-packages/sklearn/svm/_classes.py:32: FutureWarning: The default value of `dual` will change from `True` to `'auto'` in 1.5. Set the value of `dual` explicitly to suppress the warning.\n",
      "  warnings.warn(\n",
      "/Users/aseemmishra/anaconda3/lib/python3.11/site-packages/sklearn/svm/_classes.py:32: FutureWarning: The default value of `dual` will change from `True` to `'auto'` in 1.5. Set the value of `dual` explicitly to suppress the warning.\n",
      "  warnings.warn(\n",
      "/Users/aseemmishra/anaconda3/lib/python3.11/site-packages/sklearn/svm/_classes.py:32: FutureWarning: The default value of `dual` will change from `True` to `'auto'` in 1.5. Set the value of `dual` explicitly to suppress the warning.\n",
      "  warnings.warn(\n",
      "/Users/aseemmishra/anaconda3/lib/python3.11/site-packages/sklearn/svm/_classes.py:32: FutureWarning: The default value of `dual` will change from `True` to `'auto'` in 1.5. Set the value of `dual` explicitly to suppress the warning.\n",
      "  warnings.warn(\n",
      "/Users/aseemmishra/anaconda3/lib/python3.11/site-packages/sklearn/svm/_classes.py:32: FutureWarning: The default value of `dual` will change from `True` to `'auto'` in 1.5. Set the value of `dual` explicitly to suppress the warning.\n",
      "  warnings.warn(\n",
      "/Users/aseemmishra/anaconda3/lib/python3.11/site-packages/sklearn/svm/_classes.py:32: FutureWarning: The default value of `dual` will change from `True` to `'auto'` in 1.5. Set the value of `dual` explicitly to suppress the warning.\n",
      "  warnings.warn(\n",
      "/Users/aseemmishra/anaconda3/lib/python3.11/site-packages/sklearn/svm/_classes.py:32: FutureWarning: The default value of `dual` will change from `True` to `'auto'` in 1.5. Set the value of `dual` explicitly to suppress the warning.\n",
      "  warnings.warn(\n",
      "/Users/aseemmishra/anaconda3/lib/python3.11/site-packages/sklearn/svm/_classes.py:32: FutureWarning: The default value of `dual` will change from `True` to `'auto'` in 1.5. Set the value of `dual` explicitly to suppress the warning.\n",
      "  warnings.warn(\n",
      "/Users/aseemmishra/anaconda3/lib/python3.11/site-packages/sklearn/svm/_classes.py:32: FutureWarning: The default value of `dual` will change from `True` to `'auto'` in 1.5. Set the value of `dual` explicitly to suppress the warning.\n",
      "  warnings.warn(\n",
      "/Users/aseemmishra/anaconda3/lib/python3.11/site-packages/sklearn/svm/_classes.py:32: FutureWarning: The default value of `dual` will change from `True` to `'auto'` in 1.5. Set the value of `dual` explicitly to suppress the warning.\n",
      "  warnings.warn(\n",
      "/Users/aseemmishra/anaconda3/lib/python3.11/site-packages/sklearn/svm/_classes.py:32: FutureWarning: The default value of `dual` will change from `True` to `'auto'` in 1.5. Set the value of `dual` explicitly to suppress the warning.\n",
      "  warnings.warn(\n",
      "/Users/aseemmishra/anaconda3/lib/python3.11/site-packages/sklearn/svm/_classes.py:32: FutureWarning: The default value of `dual` will change from `True` to `'auto'` in 1.5. Set the value of `dual` explicitly to suppress the warning.\n",
      "  warnings.warn(\n",
      "/Users/aseemmishra/anaconda3/lib/python3.11/site-packages/sklearn/svm/_classes.py:32: FutureWarning: The default value of `dual` will change from `True` to `'auto'` in 1.5. Set the value of `dual` explicitly to suppress the warning.\n",
      "  warnings.warn(\n",
      "/Users/aseemmishra/anaconda3/lib/python3.11/site-packages/sklearn/svm/_classes.py:32: FutureWarning: The default value of `dual` will change from `True` to `'auto'` in 1.5. Set the value of `dual` explicitly to suppress the warning.\n",
      "  warnings.warn(\n",
      "/Users/aseemmishra/anaconda3/lib/python3.11/site-packages/sklearn/svm/_classes.py:32: FutureWarning: The default value of `dual` will change from `True` to `'auto'` in 1.5. Set the value of `dual` explicitly to suppress the warning.\n",
      "  warnings.warn(\n",
      "/Users/aseemmishra/anaconda3/lib/python3.11/site-packages/sklearn/svm/_classes.py:32: FutureWarning: The default value of `dual` will change from `True` to `'auto'` in 1.5. Set the value of `dual` explicitly to suppress the warning.\n",
      "  warnings.warn(\n",
      "/Users/aseemmishra/anaconda3/lib/python3.11/site-packages/sklearn/svm/_classes.py:32: FutureWarning: The default value of `dual` will change from `True` to `'auto'` in 1.5. Set the value of `dual` explicitly to suppress the warning.\n",
      "  warnings.warn(\n",
      "/Users/aseemmishra/anaconda3/lib/python3.11/site-packages/sklearn/svm/_classes.py:32: FutureWarning: The default value of `dual` will change from `True` to `'auto'` in 1.5. Set the value of `dual` explicitly to suppress the warning.\n",
      "  warnings.warn(\n",
      "/Users/aseemmishra/anaconda3/lib/python3.11/site-packages/sklearn/svm/_classes.py:32: FutureWarning: The default value of `dual` will change from `True` to `'auto'` in 1.5. Set the value of `dual` explicitly to suppress the warning.\n",
      "  warnings.warn(\n",
      "/Users/aseemmishra/anaconda3/lib/python3.11/site-packages/sklearn/svm/_classes.py:32: FutureWarning: The default value of `dual` will change from `True` to `'auto'` in 1.5. Set the value of `dual` explicitly to suppress the warning.\n",
      "  warnings.warn(\n",
      "/Users/aseemmishra/anaconda3/lib/python3.11/site-packages/sklearn/svm/_classes.py:32: FutureWarning: The default value of `dual` will change from `True` to `'auto'` in 1.5. Set the value of `dual` explicitly to suppress the warning.\n",
      "  warnings.warn(\n",
      "/Users/aseemmishra/anaconda3/lib/python3.11/site-packages/sklearn/svm/_classes.py:32: FutureWarning: The default value of `dual` will change from `True` to `'auto'` in 1.5. Set the value of `dual` explicitly to suppress the warning.\n",
      "  warnings.warn(\n",
      "/Users/aseemmishra/anaconda3/lib/python3.11/site-packages/sklearn/svm/_classes.py:32: FutureWarning: The default value of `dual` will change from `True` to `'auto'` in 1.5. Set the value of `dual` explicitly to suppress the warning.\n",
      "  warnings.warn(\n",
      "/Users/aseemmishra/anaconda3/lib/python3.11/site-packages/sklearn/svm/_classes.py:32: FutureWarning: The default value of `dual` will change from `True` to `'auto'` in 1.5. Set the value of `dual` explicitly to suppress the warning.\n",
      "  warnings.warn(\n",
      "/Users/aseemmishra/anaconda3/lib/python3.11/site-packages/sklearn/svm/_classes.py:32: FutureWarning: The default value of `dual` will change from `True` to `'auto'` in 1.5. Set the value of `dual` explicitly to suppress the warning.\n",
      "  warnings.warn(\n",
      "/Users/aseemmishra/anaconda3/lib/python3.11/site-packages/sklearn/svm/_classes.py:32: FutureWarning: The default value of `dual` will change from `True` to `'auto'` in 1.5. Set the value of `dual` explicitly to suppress the warning.\n",
      "  warnings.warn(\n",
      "/Users/aseemmishra/anaconda3/lib/python3.11/site-packages/sklearn/svm/_classes.py:32: FutureWarning: The default value of `dual` will change from `True` to `'auto'` in 1.5. Set the value of `dual` explicitly to suppress the warning.\n",
      "  warnings.warn(\n",
      "/Users/aseemmishra/anaconda3/lib/python3.11/site-packages/sklearn/svm/_classes.py:32: FutureWarning: The default value of `dual` will change from `True` to `'auto'` in 1.5. Set the value of `dual` explicitly to suppress the warning.\n",
      "  warnings.warn(\n"
     ]
    }
   ],
   "source": [
    "li1=[]\n",
    "li2=[]\n",
    "li3=[]\n",
    "\n",
    "for i in range(100,1000,10):\n",
    "    df2= X_train.sample(n=i)\n",
    "    ytr = y_train.loc[df2.index]\n",
    "    model = LinearSVC()\n",
    "    model.fit(df2, ytr)\n",
    "    ypred1 = model.predict(Xhold)\n",
    "    ypred2 = model.predict(Xval)\n",
    "    li1.append(i)\n",
    "    li2.append( accuracy_score(yhold, ypred1))\n",
    "    li3.append( accuracy_score(Yval, ypred2))"
   ]
  },
  {
   "cell_type": "code",
   "execution_count": 75,
   "id": "4ab2792a",
   "metadata": {},
   "outputs": [
    {
     "data": {
      "image/png": "[encoded data removed]",
      "text/plain": [
       "<Figure size 1000x800 with 1 Axes>"
      ]
     },
     "metadata": {},
     "output_type": "display_data"
    }
   ],
   "source": [
    "plt.figure(figsize=(10, 8))\n",
    "\n",
    "plt.subplot(1, 1, 1)  # 1 row, 2 columns, 1st subplot\n",
    "plt.plot(li1, li2, 'o')\n",
    "plt.title('Learning Curve (Holdout Data)')\n",
    "plt.xlabel('Number of Samples (i)')\n",
    "plt.ylabel('Accuracy')\n",
    "plt.grid(True)"
   ]
  },
  {
   "cell_type": "code",
   "execution_count": 76,
   "id": "30b8afd7",
   "metadata": {},
   "outputs": [
    {
     "data": {
      "image/png": "[encoded data removed]",
      "text/plain": [
       "<Figure size 1000x800 with 1 Axes>"
      ]
     },
     "metadata": {},
     "output_type": "display_data"
    }
   ],
   "source": [
    "plt.figure(figsize=(10, 8))\n",
    "\n",
    "plt.subplot(1, 1, 1)  # 1 row, 2 columns, 1st subplot\n",
    "plt.plot(li1, li3, 'o')\n",
    "plt.title('Learning Curve (Validation Data Data)')\n",
    "plt.xlabel('Number of Samples (i)')\n",
    "plt.ylabel('Accuracy')\n",
    "plt.grid(True)"
   ]
  },
  {
   "cell_type": "markdown",
   "id": "1c5fd780",
   "metadata": {},
   "source": [
    "# KMeans"
   ]
  },
  {
   "cell_type": "code",
   "execution_count": 53,
   "id": "89ca030d",
   "metadata": {},
   "outputs": [],
   "source": [
    "from sklearn import cluster"
   ]
  },
  {
   "cell_type": "markdown",
   "id": "fadee2fe",
   "metadata": {},
   "source": [
    "### Implementing KMeans and Elbow Method"
   ]
  },
  {
   "cell_type": "code",
   "execution_count": 55,
   "id": "1c12bf61",
   "metadata": {},
   "outputs": [
    {
     "name": "stderr",
     "output_type": "stream",
     "text": [
      "/Users/aseemmishra/anaconda3/lib/python3.11/site-packages/sklearn/cluster/_kmeans.py:1412: FutureWarning: The default value of `n_init` will change from 10 to 'auto' in 1.4. Set the value of `n_init` explicitly to suppress the warning\n",
      "  super()._check_params_vs_input(X, default_n_init=10)\n",
      "/Users/aseemmishra/anaconda3/lib/python3.11/site-packages/sklearn/cluster/_kmeans.py:1412: FutureWarning: The default value of `n_init` will change from 10 to 'auto' in 1.4. Set the value of `n_init` explicitly to suppress the warning\n",
      "  super()._check_params_vs_input(X, default_n_init=10)\n",
      "/Users/aseemmishra/anaconda3/lib/python3.11/site-packages/sklearn/cluster/_kmeans.py:1412: FutureWarning: The default value of `n_init` will change from 10 to 'auto' in 1.4. Set the value of `n_init` explicitly to suppress the warning\n",
      "  super()._check_params_vs_input(X, default_n_init=10)\n",
      "/Users/aseemmishra/anaconda3/lib/python3.11/site-packages/sklearn/cluster/_kmeans.py:1412: FutureWarning: The default value of `n_init` will change from 10 to 'auto' in 1.4. Set the value of `n_init` explicitly to suppress the warning\n",
      "  super()._check_params_vs_input(X, default_n_init=10)\n",
      "/Users/aseemmishra/anaconda3/lib/python3.11/site-packages/sklearn/cluster/_kmeans.py:1412: FutureWarning: The default value of `n_init` will change from 10 to 'auto' in 1.4. Set the value of `n_init` explicitly to suppress the warning\n",
      "  super()._check_params_vs_input(X, default_n_init=10)\n",
      "/Users/aseemmishra/anaconda3/lib/python3.11/site-packages/sklearn/cluster/_kmeans.py:1412: FutureWarning: The default value of `n_init` will change from 10 to 'auto' in 1.4. Set the value of `n_init` explicitly to suppress the warning\n",
      "  super()._check_params_vs_input(X, default_n_init=10)\n",
      "/Users/aseemmishra/anaconda3/lib/python3.11/site-packages/sklearn/cluster/_kmeans.py:1412: FutureWarning: The default value of `n_init` will change from 10 to 'auto' in 1.4. Set the value of `n_init` explicitly to suppress the warning\n",
      "  super()._check_params_vs_input(X, default_n_init=10)\n",
      "/Users/aseemmishra/anaconda3/lib/python3.11/site-packages/sklearn/cluster/_kmeans.py:1412: FutureWarning: The default value of `n_init` will change from 10 to 'auto' in 1.4. Set the value of `n_init` explicitly to suppress the warning\n",
      "  super()._check_params_vs_input(X, default_n_init=10)\n"
     ]
    }
   ],
   "source": [
    "Ks, objs = range(1,9), []\n",
    "for k in Ks:\n",
    "    model = cluster.KMeans(n_clusters=k)\n",
    "    model.fit(X_train)\n",
    "    objs.append(-model.score(X_train))\n",
    "\n"
   ]
  },
  {
   "cell_type": "markdown",
   "id": "edbcaf80",
   "metadata": {},
   "source": [
    "### Plotting Elbow Method"
   ]
  },
  {
   "cell_type": "code",
   "execution_count": 56,
   "id": "e3cbd521",
   "metadata": {},
   "outputs": [
    {
     "data": {
      "text/plain": [
       "Text(0, 0.5, 'Objective Function Value')"
      ]
     },
     "execution_count": 56,
     "metadata": {},
     "output_type": "execute_result"
    },
    {
     "data": {
      "image/png": "[encoded data removed]",
      "text/plain": [
       "<Figure size 640x480 with 1 Axes>"
      ]
     },
     "metadata": {},
     "output_type": "display_data"
    }
   ],
   "source": [
    "plt.plot(Ks, objs, '.-', markersize=15)\n",
    "plt.scatter([5], [objs[4]], s=200, c='r')\n",
    "plt.xlabel(\"Number of clusters K\")\n",
    "plt.ylabel(\"Objective Function Value\")"
   ]
  },
  {
   "cell_type": "code",
   "execution_count": null,
   "id": "f85642ea",
   "metadata": {},
   "outputs": [],
   "source": []
  }
 ],
 "metadata": {
  "kernelspec": {
   "display_name": "Python 3 (ipykernel)",
   "language": "python",
   "name": "python3"
  },
  "language_info": {
   "codemirror_mode": {
    "name": "ipython",
    "version": 3
   },
   "file_extension": ".py",
   "mimetype": "text/x-python",
   "name": "python",
   "nbconvert_exporter": "python",
   "pygments_lexer": "ipython3",
   "version": "3.11.4"
  }
 },
 "nbformat": 4,
 "nbformat_minor": 5
}
