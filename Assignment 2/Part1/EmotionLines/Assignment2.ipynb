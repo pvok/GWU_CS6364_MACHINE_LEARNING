{
 "cells": [
  {
   "cell_type": "markdown",
   "id": "8cc21896-b682-4971-a55b-405293413f1b",
   "metadata": {
    "tags": []
   },
   "source": [
    "<font size=\"5\"> CS6364/CS4364: Assignment 2</font><br>\n",
    "<font size=\"5\"> Part: 2 </font><br>\n",
    "<font size=\"5\"> EmotionLines: Dialogue Emotion Dataset </font><br>\n",
    "<font size=\"4\"> Sagar Sheth </font>"
   ]
  },
  {
   "cell_type": "code",
   "execution_count": 195,
   "id": "a4a8609c-f3cf-467a-9d89-8b6dd02dc7ea",
   "metadata": {
    "tags": []
   },
   "outputs": [],
   "source": [
    "import numpy as np\n",
    "import pandas as pd\n",
    "import matplotlib.pyplot as plt\n",
    "\n",
    "from sklearn.feature_extraction.text import TfidfVectorizer\n",
    "from nltk.corpus import stopwords\n",
    "from nltk.stem import PorterStemmer\n",
    "from nltk.tokenize import word_tokenize\n",
    "from nltk.stem import WordNetLemmatizer\n",
    "from sklearn.svm import SVC\n",
    "from sklearn.metrics import accuracy_score, classification_report\n",
    "from sklearn.multiclass import OneVsRestClassifier\n",
    "import nltk\n",
    "import json\n",
    "from nltk import pos_tag\n",
    "import string\n",
    "from collections import Counter"
   ]
  },
  {
   "cell_type": "code",
   "execution_count": 196,
   "id": "3cbd9fe9-e083-454f-be10-d58153133b4c",
   "metadata": {
    "tags": []
   },
   "outputs": [
    {
     "data": {
      "text/html": [
       "<div>\n",
       "<style scoped>\n",
       "    .dataframe tbody tr th:only-of-type {\n",
       "        vertical-align: middle;\n",
       "    }\n",
       "\n",
       "    .dataframe tbody tr th {\n",
       "        vertical-align: top;\n",
       "    }\n",
       "\n",
       "    .dataframe thead th {\n",
       "        text-align: right;\n",
       "    }\n",
       "</style>\n",
       "<table border=\"1\" class=\"dataframe\">\n",
       "  <thead>\n",
       "    <tr style=\"text-align: right;\">\n",
       "      <th></th>\n",
       "      <th>speaker</th>\n",
       "      <th>utterance</th>\n",
       "      <th>emotion</th>\n",
       "      <th>annotation</th>\n",
       "    </tr>\n",
       "  </thead>\n",
       "  <tbody>\n",
       "    <tr>\n",
       "      <th>0</th>\n",
       "      <td>Chandler</td>\n",
       "      <td>also I was the point person on my companys tr...</td>\n",
       "      <td>neutral</td>\n",
       "      <td>4100000</td>\n",
       "    </tr>\n",
       "    <tr>\n",
       "      <th>1</th>\n",
       "      <td>The Interviewer</td>\n",
       "      <td>You mustve had your hands full.</td>\n",
       "      <td>neutral</td>\n",
       "      <td>5000000</td>\n",
       "    </tr>\n",
       "    <tr>\n",
       "      <th>2</th>\n",
       "      <td>Chandler</td>\n",
       "      <td>That I did. That I did.</td>\n",
       "      <td>neutral</td>\n",
       "      <td>5000000</td>\n",
       "    </tr>\n",
       "    <tr>\n",
       "      <th>3</th>\n",
       "      <td>The Interviewer</td>\n",
       "      <td>So lets talk a little bit about your duties.</td>\n",
       "      <td>neutral</td>\n",
       "      <td>5000000</td>\n",
       "    </tr>\n",
       "    <tr>\n",
       "      <th>4</th>\n",
       "      <td>Chandler</td>\n",
       "      <td>My duties?  All right.</td>\n",
       "      <td>surprise</td>\n",
       "      <td>2000030</td>\n",
       "    </tr>\n",
       "    <tr>\n",
       "      <th>...</th>\n",
       "      <td>...</td>\n",
       "      <td>...</td>\n",
       "      <td>...</td>\n",
       "      <td>...</td>\n",
       "    </tr>\n",
       "    <tr>\n",
       "      <th>10556</th>\n",
       "      <td>Chandler</td>\n",
       "      <td>You or me?</td>\n",
       "      <td>neutral</td>\n",
       "      <td>3000011</td>\n",
       "    </tr>\n",
       "    <tr>\n",
       "      <th>10557</th>\n",
       "      <td>Ross</td>\n",
       "      <td>I got it. Uh, Joey, women don't have Adam's ap...</td>\n",
       "      <td>non-neutral</td>\n",
       "      <td>2100011</td>\n",
       "    </tr>\n",
       "    <tr>\n",
       "      <th>10558</th>\n",
       "      <td>Joey</td>\n",
       "      <td>You guys are messing with me, right?</td>\n",
       "      <td>surprise</td>\n",
       "      <td>0000050</td>\n",
       "    </tr>\n",
       "    <tr>\n",
       "      <th>10559</th>\n",
       "      <td>All</td>\n",
       "      <td>Yeah.</td>\n",
       "      <td>neutral</td>\n",
       "      <td>4000010</td>\n",
       "    </tr>\n",
       "    <tr>\n",
       "      <th>10560</th>\n",
       "      <td>Joey</td>\n",
       "      <td>That was a good one. For a second there, I was...</td>\n",
       "      <td>non-neutral</td>\n",
       "      <td>1200020</td>\n",
       "    </tr>\n",
       "  </tbody>\n",
       "</table>\n",
       "<p>10561 rows × 4 columns</p>\n",
       "</div>"
      ],
      "text/plain": [
       "               speaker                                          utterance  \\\n",
       "0             Chandler  also I was the point person on my companys tr...   \n",
       "1      The Interviewer                   You mustve had your hands full.   \n",
       "2             Chandler                            That I did. That I did.   \n",
       "3      The Interviewer      So lets talk a little bit about your duties.   \n",
       "4             Chandler                             My duties?  All right.   \n",
       "...                ...                                                ...   \n",
       "10556         Chandler                                         You or me?   \n",
       "10557             Ross  I got it. Uh, Joey, women don't have Adam's ap...   \n",
       "10558             Joey               You guys are messing with me, right?   \n",
       "10559              All                                              Yeah.   \n",
       "10560             Joey  That was a good one. For a second there, I was...   \n",
       "\n",
       "           emotion annotation  \n",
       "0          neutral    4100000  \n",
       "1          neutral    5000000  \n",
       "2          neutral    5000000  \n",
       "3          neutral    5000000  \n",
       "4         surprise    2000030  \n",
       "...            ...        ...  \n",
       "10556      neutral    3000011  \n",
       "10557  non-neutral    2100011  \n",
       "10558     surprise    0000050  \n",
       "10559      neutral    4000010  \n",
       "10560  non-neutral    1200020  \n",
       "\n",
       "[10561 rows x 4 columns]"
      ]
     },
     "execution_count": 196,
     "metadata": {},
     "output_type": "execute_result"
    }
   ],
   "source": [
    "file_path = 'friends_train.json'\n",
    "\n",
    "with open(file_path, 'r') as file:\n",
    "    data = json.load(file)\n",
    "\n",
    "flat_data = [utterance for conversation in data for utterance in conversation]\n",
    "\n",
    "\n",
    "df = pd.DataFrame(flat_data)\n",
    "df"
   ]
  },
  {
   "cell_type": "code",
   "execution_count": 197,
   "id": "1f04073f-443e-4607-b62f-4f1b5d24337d",
   "metadata": {
    "tags": []
   },
   "outputs": [
    {
     "data": {
      "text/plain": [
       "speaker       0\n",
       "utterance     0\n",
       "emotion       0\n",
       "annotation    0\n",
       "dtype: int64"
      ]
     },
     "execution_count": 197,
     "metadata": {},
     "output_type": "execute_result"
    }
   ],
   "source": [
    "df.isnull().sum()"
   ]
  },
  {
   "cell_type": "markdown",
   "id": "7f7518a0-b846-4eb9-80f9-a29f554d597f",
   "metadata": {
    "tags": []
   },
   "source": [
    "### Performing Tokenization and Lemmatization along with removal of stop words"
   ]
  },
  {
   "cell_type": "code",
   "execution_count": 198,
   "id": "b31855ed-fa4e-48a9-952f-0977747b3c78",
   "metadata": {
    "tags": []
   },
   "outputs": [
    {
     "name": "stdout",
     "output_type": "stream",
     "text": [
      "                                               utterance  \\\n",
      "0      also I was the point person on my companys tr...   \n",
      "1                       You mustve had your hands full.   \n",
      "2                                That I did. That I did.   \n",
      "3          So lets talk a little bit about your duties.   \n",
      "4                                 My duties?  All right.   \n",
      "...                                                  ...   \n",
      "10556                                         You or me?   \n",
      "10557  I got it. Uh, Joey, women don't have Adam's ap...   \n",
      "10558               You guys are messing with me, right?   \n",
      "10559                                              Yeah.   \n",
      "10560  That was a good one. For a second there, I was...   \n",
      "\n",
      "                                   tokenize_text  \n",
      "0      [also, point, person, transition, system]  \n",
      "1                                   [hand, full]  \n",
      "2                   [that, i, did, that, i, did]  \n",
      "3                      [talk, little, bit, duty]  \n",
      "4                                  [duty, right]  \n",
      "...                                          ...  \n",
      "10556                              [you, or, me]  \n",
      "10557        [got, uh, joey, woman, adam, apple]  \n",
      "10558                      [guy, messing, right]  \n",
      "10559                                     [yeah]  \n",
      "10560            [good, one, second, like, whoa]  \n",
      "\n",
      "[10561 rows x 2 columns]\n"
     ]
    }
   ],
   "source": [
    "\n",
    "#nltk.download('punkt')\n",
    "#nltk.download('wordnet')\n",
    "#nltk.download('stopwords')\n",
    "\n",
    "stop_words = set(stopwords.words('english'))\n",
    "lemmatizer = WordNetLemmatizer()\n",
    "\n",
    "def tokenize_text(text):\n",
    "    words = word_tokenize(text.lower())\n",
    "    filtered_words = [lemmatizer.lemmatize(word) for word in words if word.isalnum() and word not in stop_words]\n",
    "    \n",
    "    return [lemmatizer.lemmatize(word) for word in words if word.isalnum() and word not in string.punctuation] if not filtered_words else filtered_words\n",
    "\n",
    "df['tokenize_text'] = df['utterance'].apply(tokenize_text)\n",
    "\n",
    "print(df[['utterance', 'tokenize_text']])\n"
   ]
  },
  {
   "cell_type": "code",
   "execution_count": 199,
   "id": "9ca75b3e-6c87-4d4d-8665-55016c3ad4a6",
   "metadata": {
    "tags": []
   },
   "outputs": [
    {
     "name": "stdout",
     "output_type": "stream",
     "text": [
      "                                               utterance  \\\n",
      "0      also I was the point person on my companys tr...   \n",
      "1                       You mustve had your hands full.   \n",
      "2                                That I did. That I did.   \n",
      "3          So lets talk a little bit about your duties.   \n",
      "4                                 My duties?  All right.   \n",
      "...                                                  ...   \n",
      "10556                                         You or me?   \n",
      "10557  I got it. Uh, Joey, women don't have Adam's ap...   \n",
      "10558               You guys are messing with me, right?   \n",
      "10559                                              Yeah.   \n",
      "10560  That was a good one. For a second there, I was...   \n",
      "\n",
      "                            processed_text  \n",
      "0      also point person transition system  \n",
      "1                                hand full  \n",
      "2                                           \n",
      "3                     talk little bit duty  \n",
      "4                               duty right  \n",
      "...                                    ...  \n",
      "10556                                       \n",
      "10557         got uh joey woman adam apple  \n",
      "10558                    guy messing right  \n",
      "10559                                 yeah  \n",
      "10560            good one second like whoa  \n",
      "\n",
      "[10561 rows x 2 columns]\n"
     ]
    }
   ],
   "source": [
    "stop_words = set(stopwords.words('english'))\n",
    "lemmatizer = WordNetLemmatizer()\n",
    "\n",
    "def process_text(text):\n",
    "    words = word_tokenize(text)\n",
    "    words = [word for word in words if word.isalnum()]\n",
    "    words = [word.lower() for word in words if word.lower() not in stop_words]\n",
    "    words = [lemmatizer.lemmatize(word) for word in words]\n",
    "    return ' '.join(words)\n",
    "\n",
    "\n",
    "df['processed_text'] = df['utterance'].apply(process_text)\n",
    "\n",
    "print(df[['utterance', 'processed_text']])"
   ]
  },
  {
   "cell_type": "markdown",
   "id": "60731738-c3b0-4c38-872f-0ec607d4a31c",
   "metadata": {
    "tags": []
   },
   "source": [
    "### Distribution of Emotion"
   ]
  },
  {
   "cell_type": "code",
   "execution_count": 200,
   "id": "b716f404-94e6-4d11-9631-9a926426e31c",
   "metadata": {
    "tags": []
   },
   "outputs": [
    {
     "data": {
      "image/png": "[encoded data removed]",
      "text/plain": [
       "<Figure size 640x480 with 1 Axes>"
      ]
     },
     "metadata": {},
     "output_type": "display_data"
    }
   ],
   "source": [
    "plt.hist(df['emotion'], bins=30)\n",
    "plt.title('Distribution of emotion')\n",
    "plt.xlabel('Emotion')\n",
    "plt.ylabel('Frequency')\n",
    "plt.show()"
   ]
  },
  {
   "cell_type": "markdown",
   "id": "7d0d98c0-6c5a-474c-8d16-a70ee0c1bedd",
   "metadata": {
    "tags": []
   },
   "source": [
    "### Plotting the Top 20 most frequent words"
   ]
  },
  {
   "cell_type": "code",
   "execution_count": 201,
   "id": "60f13326-3847-4c6c-bb8d-ae73c640503e",
   "metadata": {
    "tags": []
   },
   "outputs": [
    {
     "data": {
      "image/png": "[encoded data removed]",
      "text/plain": [
       "<Figure size 640x480 with 1 Axes>"
      ]
     },
     "metadata": {},
     "output_type": "display_data"
    }
   ],
   "source": [
    "all_processed_words = [word for words_list in df['tokenize_text'] for word in words_list]\n",
    "\n",
    "word_frequencies = Counter(all_processed_words)\n",
    "\n",
    "top_n = 20 \n",
    "top_words, top_frequencies = zip(*word_frequencies.most_common(top_n))\n",
    "\n",
    "plt.bar(top_words, top_frequencies)\n",
    "plt.xlabel('Words')\n",
    "plt.ylabel('Frequency')\n",
    "plt.title(f'Top {top_n} Most Common Words')\n",
    "plt.xticks(rotation=90, ha='right')\n",
    "plt.show()"
   ]
  },
  {
   "cell_type": "code",
   "execution_count": 202,
   "id": "70b73030-8b36-4021-929f-fb8107083767",
   "metadata": {
    "tags": []
   },
   "outputs": [
    {
     "data": {
      "image/png": "[encoded data removed]",
      "text/plain": [
       "<Figure size 1500x900 with 8 Axes>"
      ]
     },
     "metadata": {},
     "output_type": "display_data"
    }
   ],
   "source": [
    "top_words_by_emotion = {}\n",
    "grouped_df = df.groupby('emotion')\n",
    "for emotion, group in grouped_df:\n",
    "    all_processed_words = [word for words_list in group['tokenize_text'] for word in words_list]\n",
    "    word_frequencies = Counter(all_processed_words)\n",
    "    top_n = 10\n",
    "    top_words = [word for word, _ in word_frequencies.most_common(top_n)]\n",
    "\n",
    "    top_words_by_emotion[emotion] = top_words\n",
    "\n",
    "num_rows = (len(top_words_by_emotion) + 2) // 3\n",
    "plots_per_row = 3\n",
    "\n",
    "fig, axes = plt.subplots(num_rows, plots_per_row, figsize=(15, 3 * num_rows))\n",
    "fig.tight_layout(pad=3.0)\n",
    "\n",
    "axes = axes.flatten()\n",
    "\n",
    "for i, (emotion, top_words) in enumerate(top_words_by_emotion.items()):\n",
    "    ax = axes[i]\n",
    "    sorted_word_frequencies = sorted(\n",
    "        ((word, word_frequencies[word]) for word in top_words),\n",
    "        key=lambda x: x[1],\n",
    "        reverse=True\n",
    "    )\n",
    "    \n",
    "    sorted_words, sorted_frequencies = zip(*sorted_word_frequencies)\n",
    "    ax.bar(sorted_words, sorted_frequencies)\n",
    "    ax.set_xlabel('Words')\n",
    "    ax.set_ylabel('Frequency')\n",
    "    ax.set_title(f'Top {top_n} Most Common Words for Emotion: {emotion}')\n",
    "\n",
    "for i in range(len(top_words_by_emotion), len(axes)):\n",
    "    fig.delaxes(axes[i])\n",
    "\n",
    "plt.tight_layout()\n",
    "plt.show()"
   ]
  },
  {
   "cell_type": "markdown",
   "id": "6c3c49cb-b9da-41fa-8b52-aa54918778cf",
   "metadata": {},
   "source": [
    "### Applying TFID to convert String to Number"
   ]
  },
  {
   "cell_type": "code",
   "execution_count": 203,
   "id": "906a9d5e-953f-443f-90f9-ff4754b2bd37",
   "metadata": {
    "tags": []
   },
   "outputs": [],
   "source": [
    "tfidf_vectorizer = TfidfVectorizer()\n",
    "tfidf_matrix = tfidf_vectorizer.fit_transform(df['processed_text'])\n",
    "df_tf = pd.DataFrame(tfidf_matrix.toarray(), columns=tfidf_vectorizer.get_feature_names_out())\n",
    "\n",
    "df = df.reset_index(drop=True)\n",
    "df_tf = df_tf.reset_index(drop=True)\n",
    "\n",
    "df2 = pd.concat([df, df_tf], axis=1)"
   ]
  },
  {
   "cell_type": "markdown",
   "id": "bd757c96-cf74-42a1-a7be-81fe52860f44",
   "metadata": {},
   "source": [
    "### Creating Target Variable from Emotion"
   ]
  },
  {
   "cell_type": "code",
   "execution_count": 204,
   "id": "4a8c3791-5136-4c37-a863-d14c258d005c",
   "metadata": {
    "tags": []
   },
   "outputs": [
    {
     "name": "stdout",
     "output_type": "stream",
     "text": [
      "           emotion  emotion_numerical\n",
      "0          neutral                  4\n",
      "1          neutral                  4\n",
      "2          neutral                  4\n",
      "3          neutral                  4\n",
      "4         surprise                  7\n",
      "...            ...                ...\n",
      "10556      neutral                  4\n",
      "10557  non-neutral                  5\n",
      "10558     surprise                  7\n",
      "10559      neutral                  4\n",
      "10560  non-neutral                  5\n",
      "\n",
      "[10561 rows x 2 columns]\n",
      "Mapping of Original Emotion Values to Numerical Values:\n",
      "anger: 0\n",
      "disgust: 1\n",
      "fear: 2\n",
      "joy: 3\n",
      "neutral: 4\n",
      "non-neutral: 5\n",
      "sadness: 6\n",
      "surprise: 7\n"
     ]
    }
   ],
   "source": [
    "from sklearn.preprocessing import LabelEncoder\n",
    "\n",
    "label_encoder = LabelEncoder()\n",
    "\n",
    "df2['emotion_numerical'] = label_encoder.fit_transform(df['emotion'])\n",
    "\n",
    "print(df2[['emotion', 'emotion_numerical']])\n",
    "\n",
    "print(\"Mapping of Original Emotion Values to Numerical Values:\")\n",
    "for original_value, numerical_value in zip(label_encoder.classes_, label_encoder.transform(label_encoder.classes_)):\n",
    "    print(f\"{original_value}: {numerical_value}\")\n"
   ]
  },
  {
   "cell_type": "code",
   "execution_count": 205,
   "id": "060ed3d4-8423-44d7-a5fc-586c47f05b5a",
   "metadata": {
    "tags": []
   },
   "outputs": [],
   "source": [
    "y_train=df2['emotion_numerical'].values\n",
    "x_train=df2.drop(['emotion','speaker','utterance','annotation','processed_text','tokenize_text'],axis=1).values\n"
   ]
  },
  {
   "cell_type": "code",
   "execution_count": 206,
   "id": "a088792d-e87e-4713-9ca3-dd8029d119d1",
   "metadata": {
    "tags": []
   },
   "outputs": [
    {
     "data": {
      "text/plain": [
       "(10561,)"
      ]
     },
     "execution_count": 206,
     "metadata": {},
     "output_type": "execute_result"
    }
   ],
   "source": [
    "y_train.shape"
   ]
  },
  {
   "cell_type": "code",
   "execution_count": 207,
   "id": "be528ab8-1715-4e04-9a1f-ba238367c307",
   "metadata": {
    "tags": []
   },
   "outputs": [
    {
     "data": {
      "text/plain": [
       "(10561, 4687)"
      ]
     },
     "execution_count": 207,
     "metadata": {},
     "output_type": "execute_result"
    }
   ],
   "source": [
    "x_train.shape"
   ]
  },
  {
   "cell_type": "code",
   "execution_count": 208,
   "id": "7a67bc81-ec02-48e3-993c-a23a6e1a0399",
   "metadata": {
    "tags": []
   },
   "outputs": [
    {
     "data": {
      "text/html": [
       "<style>#sk-container-id-5 {color: black;}#sk-container-id-5 pre{padding: 0;}#sk-container-id-5 div.sk-toggleable {background-color: white;}#sk-container-id-5 label.sk-toggleable__label {cursor: pointer;display: block;width: 100%;margin-bottom: 0;padding: 0.3em;box-sizing: border-box;text-align: center;}#sk-container-id-5 label.sk-toggleable__label-arrow:before {content: \"▸\";float: left;margin-right: 0.25em;color: #696969;}#sk-container-id-5 label.sk-toggleable__label-arrow:hover:before {color: black;}#sk-container-id-5 div.sk-estimator:hover label.sk-toggleable__label-arrow:before {color: black;}#sk-container-id-5 div.sk-toggleable__content {max-height: 0;max-width: 0;overflow: hidden;text-align: left;background-color: #f0f8ff;}#sk-container-id-5 div.sk-toggleable__content pre {margin: 0.2em;color: black;border-radius: 0.25em;background-color: #f0f8ff;}#sk-container-id-5 input.sk-toggleable__control:checked~div.sk-toggleable__content {max-height: 200px;max-width: 100%;overflow: auto;}#sk-container-id-5 input.sk-toggleable__control:checked~label.sk-toggleable__label-arrow:before {content: \"▾\";}#sk-container-id-5 div.sk-estimator input.sk-toggleable__control:checked~label.sk-toggleable__label {background-color: #d4ebff;}#sk-container-id-5 div.sk-label input.sk-toggleable__control:checked~label.sk-toggleable__label {background-color: #d4ebff;}#sk-container-id-5 input.sk-hidden--visually {border: 0;clip: rect(1px 1px 1px 1px);clip: rect(1px, 1px, 1px, 1px);height: 1px;margin: -1px;overflow: hidden;padding: 0;position: absolute;width: 1px;}#sk-container-id-5 div.sk-estimator {font-family: monospace;background-color: #f0f8ff;border: 1px dotted black;border-radius: 0.25em;box-sizing: border-box;margin-bottom: 0.5em;}#sk-container-id-5 div.sk-estimator:hover {background-color: #d4ebff;}#sk-container-id-5 div.sk-parallel-item::after {content: \"\";width: 100%;border-bottom: 1px solid gray;flex-grow: 1;}#sk-container-id-5 div.sk-label:hover label.sk-toggleable__label {background-color: #d4ebff;}#sk-container-id-5 div.sk-serial::before {content: \"\";position: absolute;border-left: 1px solid gray;box-sizing: border-box;top: 0;bottom: 0;left: 50%;z-index: 0;}#sk-container-id-5 div.sk-serial {display: flex;flex-direction: column;align-items: center;background-color: white;padding-right: 0.2em;padding-left: 0.2em;position: relative;}#sk-container-id-5 div.sk-item {position: relative;z-index: 1;}#sk-container-id-5 div.sk-parallel {display: flex;align-items: stretch;justify-content: center;background-color: white;position: relative;}#sk-container-id-5 div.sk-item::before, #sk-container-id-5 div.sk-parallel-item::before {content: \"\";position: absolute;border-left: 1px solid gray;box-sizing: border-box;top: 0;bottom: 0;left: 50%;z-index: -1;}#sk-container-id-5 div.sk-parallel-item {display: flex;flex-direction: column;z-index: 1;position: relative;background-color: white;}#sk-container-id-5 div.sk-parallel-item:first-child::after {align-self: flex-end;width: 50%;}#sk-container-id-5 div.sk-parallel-item:last-child::after {align-self: flex-start;width: 50%;}#sk-container-id-5 div.sk-parallel-item:only-child::after {width: 0;}#sk-container-id-5 div.sk-dashed-wrapped {border: 1px dashed gray;margin: 0 0.4em 0.5em 0.4em;box-sizing: border-box;padding-bottom: 0.4em;background-color: white;}#sk-container-id-5 div.sk-label label {font-family: monospace;font-weight: bold;display: inline-block;line-height: 1.2em;}#sk-container-id-5 div.sk-label-container {text-align: center;}#sk-container-id-5 div.sk-container {/* jupyter's `normalize.less` sets `[hidden] { display: none; }` but bootstrap.min.css set `[hidden] { display: none !important; }` so we also need the `!important` here to be able to override the default hidden behavior on the sphinx rendered scikit-learn.org. See: https://github.com/scikit-learn/scikit-learn/issues/21755 */display: inline-block !important;position: relative;}#sk-container-id-5 div.sk-text-repr-fallback {display: none;}</style><div id=\"sk-container-id-5\" class=\"sk-top-container\"><div class=\"sk-text-repr-fallback\"><pre>OneVsRestClassifier(estimator=SVC())</pre><b>In a Jupyter environment, please rerun this cell to show the HTML representation or trust the notebook. <br />On GitHub, the HTML representation is unable to render, please try loading this page with nbviewer.org.</b></div><div class=\"sk-container\" hidden><div class=\"sk-item sk-dashed-wrapped\"><div class=\"sk-label-container\"><div class=\"sk-label sk-toggleable\"><input class=\"sk-toggleable__control sk-hidden--visually\" id=\"sk-estimator-id-9\" type=\"checkbox\" ><label for=\"sk-estimator-id-9\" class=\"sk-toggleable__label sk-toggleable__label-arrow\">OneVsRestClassifier</label><div class=\"sk-toggleable__content\"><pre>OneVsRestClassifier(estimator=SVC())</pre></div></div></div><div class=\"sk-parallel\"><div class=\"sk-parallel-item\"><div class=\"sk-item\"><div class=\"sk-label-container\"><div class=\"sk-label sk-toggleable\"><input class=\"sk-toggleable__control sk-hidden--visually\" id=\"sk-estimator-id-10\" type=\"checkbox\" ><label for=\"sk-estimator-id-10\" class=\"sk-toggleable__label sk-toggleable__label-arrow\">estimator: SVC</label><div class=\"sk-toggleable__content\"><pre>SVC()</pre></div></div></div><div class=\"sk-serial\"><div class=\"sk-item\"><div class=\"sk-estimator sk-toggleable\"><input class=\"sk-toggleable__control sk-hidden--visually\" id=\"sk-estimator-id-11\" type=\"checkbox\" ><label for=\"sk-estimator-id-11\" class=\"sk-toggleable__label sk-toggleable__label-arrow\">SVC</label><div class=\"sk-toggleable__content\"><pre>SVC()</pre></div></div></div></div></div></div></div></div></div></div>"
      ],
      "text/plain": [
       "OneVsRestClassifier(estimator=SVC())"
      ]
     },
     "execution_count": 208,
     "metadata": {},
     "output_type": "execute_result"
    }
   ],
   "source": [
    "clf_ovr = OneVsRestClassifier(SVC())\n",
    "\n",
    "# Train the classifier\n",
    "clf_ovr.fit(x_train, y_train)"
   ]
  },
  {
   "cell_type": "code",
   "execution_count": 209,
   "id": "766b209d-6080-45f3-96e1-033b682be313",
   "metadata": {
    "tags": []
   },
   "outputs": [
    {
     "name": "stdout",
     "output_type": "stream",
     "text": [
      "Accuracy: 1.0\n"
     ]
    }
   ],
   "source": [
    "y_pred_ovr = clf_ovr.predict(x_train)\n",
    "\n",
    "print(\"Accuracy:\", accuracy_score(y_train, y_pred_ovr))"
   ]
  },
  {
   "cell_type": "code",
   "execution_count": 178,
   "id": "5c1beea3-8cdd-4cf7-b754-277fa5e55ca3",
   "metadata": {
    "tags": []
   },
   "outputs": [
    {
     "name": "stdout",
     "output_type": "stream",
     "text": [
      "Classification Report:\n",
      "              precision    recall  f1-score   support\n",
      "\n",
      "           0       1.00      1.00      1.00       513\n",
      "           1       1.00      1.00      1.00       240\n",
      "           2       1.00      1.00      1.00       185\n",
      "           3       1.00      1.00      1.00      1283\n",
      "           4       1.00      1.00      1.00      4752\n",
      "           5       1.00      1.00      1.00      2017\n",
      "           6       1.00      1.00      1.00       351\n",
      "           7       1.00      1.00      1.00      1220\n",
      "\n",
      "    accuracy                           1.00     10561\n",
      "   macro avg       1.00      1.00      1.00     10561\n",
      "weighted avg       1.00      1.00      1.00     10561\n",
      "\n"
     ]
    }
   ],
   "source": [
    "print(\"Classification Report:\")\n",
    "print(classification_report(y_train, y_pred_ovr))"
   ]
  },
  {
   "cell_type": "code",
   "execution_count": 224,
   "id": "db1989c9-0770-4e90-b8a1-007fc16189af",
   "metadata": {
    "tags": []
   },
   "outputs": [
    {
     "name": "stderr",
     "output_type": "stream",
     "text": [
      "C:\\Users\\sagar\\anaconda3\\Lib\\site-packages\\sklearn\\svm\\_classes.py:32: FutureWarning: The default value of `dual` will change from `True` to `'auto'` in 1.5. Set the value of `dual` explicitly to suppress the warning.\n",
      "  warnings.warn(\n",
      "C:\\Users\\sagar\\anaconda3\\Lib\\site-packages\\sklearn\\svm\\_base.py:1242: ConvergenceWarning: Liblinear failed to converge, increase the number of iterations.\n",
      "  warnings.warn(\n"
     ]
    },
    {
     "data": {
      "text/html": [
       "<style>#sk-container-id-6 {color: black;}#sk-container-id-6 pre{padding: 0;}#sk-container-id-6 div.sk-toggleable {background-color: white;}#sk-container-id-6 label.sk-toggleable__label {cursor: pointer;display: block;width: 100%;margin-bottom: 0;padding: 0.3em;box-sizing: border-box;text-align: center;}#sk-container-id-6 label.sk-toggleable__label-arrow:before {content: \"▸\";float: left;margin-right: 0.25em;color: #696969;}#sk-container-id-6 label.sk-toggleable__label-arrow:hover:before {color: black;}#sk-container-id-6 div.sk-estimator:hover label.sk-toggleable__label-arrow:before {color: black;}#sk-container-id-6 div.sk-toggleable__content {max-height: 0;max-width: 0;overflow: hidden;text-align: left;background-color: #f0f8ff;}#sk-container-id-6 div.sk-toggleable__content pre {margin: 0.2em;color: black;border-radius: 0.25em;background-color: #f0f8ff;}#sk-container-id-6 input.sk-toggleable__control:checked~div.sk-toggleable__content {max-height: 200px;max-width: 100%;overflow: auto;}#sk-container-id-6 input.sk-toggleable__control:checked~label.sk-toggleable__label-arrow:before {content: \"▾\";}#sk-container-id-6 div.sk-estimator input.sk-toggleable__control:checked~label.sk-toggleable__label {background-color: #d4ebff;}#sk-container-id-6 div.sk-label input.sk-toggleable__control:checked~label.sk-toggleable__label {background-color: #d4ebff;}#sk-container-id-6 input.sk-hidden--visually {border: 0;clip: rect(1px 1px 1px 1px);clip: rect(1px, 1px, 1px, 1px);height: 1px;margin: -1px;overflow: hidden;padding: 0;position: absolute;width: 1px;}#sk-container-id-6 div.sk-estimator {font-family: monospace;background-color: #f0f8ff;border: 1px dotted black;border-radius: 0.25em;box-sizing: border-box;margin-bottom: 0.5em;}#sk-container-id-6 div.sk-estimator:hover {background-color: #d4ebff;}#sk-container-id-6 div.sk-parallel-item::after {content: \"\";width: 100%;border-bottom: 1px solid gray;flex-grow: 1;}#sk-container-id-6 div.sk-label:hover label.sk-toggleable__label {background-color: #d4ebff;}#sk-container-id-6 div.sk-serial::before {content: \"\";position: absolute;border-left: 1px solid gray;box-sizing: border-box;top: 0;bottom: 0;left: 50%;z-index: 0;}#sk-container-id-6 div.sk-serial {display: flex;flex-direction: column;align-items: center;background-color: white;padding-right: 0.2em;padding-left: 0.2em;position: relative;}#sk-container-id-6 div.sk-item {position: relative;z-index: 1;}#sk-container-id-6 div.sk-parallel {display: flex;align-items: stretch;justify-content: center;background-color: white;position: relative;}#sk-container-id-6 div.sk-item::before, #sk-container-id-6 div.sk-parallel-item::before {content: \"\";position: absolute;border-left: 1px solid gray;box-sizing: border-box;top: 0;bottom: 0;left: 50%;z-index: -1;}#sk-container-id-6 div.sk-parallel-item {display: flex;flex-direction: column;z-index: 1;position: relative;background-color: white;}#sk-container-id-6 div.sk-parallel-item:first-child::after {align-self: flex-end;width: 50%;}#sk-container-id-6 div.sk-parallel-item:last-child::after {align-self: flex-start;width: 50%;}#sk-container-id-6 div.sk-parallel-item:only-child::after {width: 0;}#sk-container-id-6 div.sk-dashed-wrapped {border: 1px dashed gray;margin: 0 0.4em 0.5em 0.4em;box-sizing: border-box;padding-bottom: 0.4em;background-color: white;}#sk-container-id-6 div.sk-label label {font-family: monospace;font-weight: bold;display: inline-block;line-height: 1.2em;}#sk-container-id-6 div.sk-label-container {text-align: center;}#sk-container-id-6 div.sk-container {/* jupyter's `normalize.less` sets `[hidden] { display: none; }` but bootstrap.min.css set `[hidden] { display: none !important; }` so we also need the `!important` here to be able to override the default hidden behavior on the sphinx rendered scikit-learn.org. See: https://github.com/scikit-learn/scikit-learn/issues/21755 */display: inline-block !important;position: relative;}#sk-container-id-6 div.sk-text-repr-fallback {display: none;}</style><div id=\"sk-container-id-6\" class=\"sk-top-container\"><div class=\"sk-text-repr-fallback\"><pre>LinearSVC()</pre><b>In a Jupyter environment, please rerun this cell to show the HTML representation or trust the notebook. <br />On GitHub, the HTML representation is unable to render, please try loading this page with nbviewer.org.</b></div><div class=\"sk-container\" hidden><div class=\"sk-item\"><div class=\"sk-estimator sk-toggleable\"><input class=\"sk-toggleable__control sk-hidden--visually\" id=\"sk-estimator-id-12\" type=\"checkbox\" checked><label for=\"sk-estimator-id-12\" class=\"sk-toggleable__label sk-toggleable__label-arrow\">LinearSVC</label><div class=\"sk-toggleable__content\"><pre>LinearSVC()</pre></div></div></div></div></div>"
      ],
      "text/plain": [
       "LinearSVC()"
      ]
     },
     "execution_count": 224,
     "metadata": {},
     "output_type": "execute_result"
    }
   ],
   "source": [
    "from sklearn.svm import LinearSVC\n",
    "model = LinearSVC()\n",
    "\n",
    "# train the model\n",
    "model.fit(x_train, y_train)"
   ]
  },
  {
   "cell_type": "code",
   "execution_count": 225,
   "id": "de422bc7-8693-4693-a41a-21b11dbb546c",
   "metadata": {
    "tags": []
   },
   "outputs": [
    {
     "name": "stdout",
     "output_type": "stream",
     "text": [
      "Accuracy: 0.8457532430641038\n"
     ]
    }
   ],
   "source": [
    "y_pred_ovr2 = model.predict(x_train)\n",
    "\n",
    "print(\"Accuracy:\", accuracy_score(y_train, y_pred_ovr2))"
   ]
  },
  {
   "cell_type": "code",
   "execution_count": 226,
   "id": "40685c16-9935-4f31-974c-328f7821108f",
   "metadata": {
    "tags": []
   },
   "outputs": [
    {
     "name": "stdout",
     "output_type": "stream",
     "text": [
      "Classification Report:\n",
      "              precision    recall  f1-score   support\n",
      "\n",
      "           0       1.00      1.00      1.00       513\n",
      "           1       0.99      0.82      0.90       240\n",
      "           2       0.96      0.43      0.60       185\n",
      "           3       0.85      0.66      0.75      1283\n",
      "           4       0.78      0.95      0.86      4752\n",
      "           5       0.89      0.64      0.74      2017\n",
      "           6       0.90      0.77      0.83       351\n",
      "           7       1.00      1.00      1.00      1220\n",
      "\n",
      "    accuracy                           0.85     10561\n",
      "   macro avg       0.92      0.78      0.83     10561\n",
      "weighted avg       0.86      0.85      0.84     10561\n",
      "\n"
     ]
    }
   ],
   "source": [
    "print(\"Classification Report:\")\n",
    "print(classification_report(y_train, y_pred_ovr2))"
   ]
  },
  {
   "cell_type": "markdown",
   "id": "d0a54a63-c130-46f5-b26b-864ca31fcb20",
   "metadata": {},
   "source": [
    "### Importing Test and Holdout dataset"
   ]
  },
  {
   "cell_type": "code",
   "execution_count": 211,
   "id": "c886586d-8ab9-479c-b8fe-2007bd174e30",
   "metadata": {
    "tags": []
   },
   "outputs": [
    {
     "data": {
      "text/html": [
       "<div>\n",
       "<style scoped>\n",
       "    .dataframe tbody tr th:only-of-type {\n",
       "        vertical-align: middle;\n",
       "    }\n",
       "\n",
       "    .dataframe tbody tr th {\n",
       "        vertical-align: top;\n",
       "    }\n",
       "\n",
       "    .dataframe thead th {\n",
       "        text-align: right;\n",
       "    }\n",
       "</style>\n",
       "<table border=\"1\" class=\"dataframe\">\n",
       "  <thead>\n",
       "    <tr style=\"text-align: right;\">\n",
       "      <th></th>\n",
       "      <th>speaker</th>\n",
       "      <th>utterance</th>\n",
       "      <th>emotion</th>\n",
       "      <th>annotation</th>\n",
       "    </tr>\n",
       "  </thead>\n",
       "  <tbody>\n",
       "    <tr>\n",
       "      <th>0</th>\n",
       "      <td>Mark</td>\n",
       "      <td>Why do all youre coffee mugs have numbers on ...</td>\n",
       "      <td>surprise</td>\n",
       "      <td>2000030</td>\n",
       "    </tr>\n",
       "    <tr>\n",
       "      <th>1</th>\n",
       "      <td>Rachel</td>\n",
       "      <td>Oh. Thats so Monica can keep track. That way ...</td>\n",
       "      <td>non-neutral</td>\n",
       "      <td>2100011</td>\n",
       "    </tr>\n",
       "    <tr>\n",
       "      <th>2</th>\n",
       "      <td>Rachel</td>\n",
       "      <td>Y'know what?</td>\n",
       "      <td>neutral</td>\n",
       "      <td>3000020</td>\n",
       "    </tr>\n",
       "    <tr>\n",
       "      <th>3</th>\n",
       "      <td>Ross</td>\n",
       "      <td>It didnt.</td>\n",
       "      <td>neutral</td>\n",
       "      <td>5000000</td>\n",
       "    </tr>\n",
       "    <tr>\n",
       "      <th>4</th>\n",
       "      <td>Frank</td>\n",
       "      <td>Okay, so what you used to have with Rachel, is...</td>\n",
       "      <td>joy</td>\n",
       "      <td>1300010</td>\n",
       "    </tr>\n",
       "    <tr>\n",
       "      <th>...</th>\n",
       "      <td>...</td>\n",
       "      <td>...</td>\n",
       "      <td>...</td>\n",
       "      <td>...</td>\n",
       "    </tr>\n",
       "    <tr>\n",
       "      <th>2759</th>\n",
       "      <td>Phoebe</td>\n",
       "      <td>Hey, why dont you guys go get portraits done ...</td>\n",
       "      <td>neutral</td>\n",
       "      <td>5000000</td>\n",
       "    </tr>\n",
       "    <tr>\n",
       "      <th>2760</th>\n",
       "      <td>Monica</td>\n",
       "      <td>Thats a good idea! I bet they have one of tho...</td>\n",
       "      <td>joy</td>\n",
       "      <td>1400000</td>\n",
       "    </tr>\n",
       "    <tr>\n",
       "      <th>2761</th>\n",
       "      <td>Phoebe</td>\n",
       "      <td>Yeah thats great! Next to that, Chandler won...</td>\n",
       "      <td>neutral</td>\n",
       "      <td>3100100</td>\n",
       "    </tr>\n",
       "    <tr>\n",
       "      <th>2762</th>\n",
       "      <td>Monica</td>\n",
       "      <td>Chandler what do you say?</td>\n",
       "      <td>neutral</td>\n",
       "      <td>5000000</td>\n",
       "    </tr>\n",
       "    <tr>\n",
       "      <th>2763</th>\n",
       "      <td>Chandler</td>\n",
       "      <td>All right, but I should warn you, Im not goin...</td>\n",
       "      <td>neutral</td>\n",
       "      <td>4000100</td>\n",
       "    </tr>\n",
       "  </tbody>\n",
       "</table>\n",
       "<p>2764 rows × 4 columns</p>\n",
       "</div>"
      ],
      "text/plain": [
       "       speaker                                          utterance  \\\n",
       "0         Mark  Why do all youre coffee mugs have numbers on ...   \n",
       "1       Rachel  Oh. Thats so Monica can keep track. That way ...   \n",
       "2       Rachel                                       Y'know what?   \n",
       "3         Ross                                         It didnt.   \n",
       "4        Frank  Okay, so what you used to have with Rachel, is...   \n",
       "...        ...                                                ...   \n",
       "2759    Phoebe  Hey, why dont you guys go get portraits done ...   \n",
       "2760    Monica  Thats a good idea! I bet they have one of tho...   \n",
       "2761    Phoebe  Yeah thats great! Next to that, Chandler won...   \n",
       "2762    Monica                          Chandler what do you say?   \n",
       "2763  Chandler  All right, but I should warn you, Im not goin...   \n",
       "\n",
       "          emotion annotation  \n",
       "0        surprise    2000030  \n",
       "1     non-neutral    2100011  \n",
       "2         neutral    3000020  \n",
       "3         neutral    5000000  \n",
       "4             joy    1300010  \n",
       "...           ...        ...  \n",
       "2759      neutral    5000000  \n",
       "2760          joy    1400000  \n",
       "2761      neutral    3100100  \n",
       "2762      neutral    5000000  \n",
       "2763      neutral    4000100  \n",
       "\n",
       "[2764 rows x 4 columns]"
      ]
     },
     "execution_count": 211,
     "metadata": {},
     "output_type": "execute_result"
    }
   ],
   "source": [
    "file_path = 'friends_test.json'\n",
    "\n",
    "with open(file_path, 'r') as file:\n",
    "    data = json.load(file)\n",
    "\n",
    "flat_data = [utterance for conversation in data for utterance in conversation]\n",
    "\n",
    "\n",
    "df_test = pd.DataFrame(flat_data)\n",
    "df_test"
   ]
  },
  {
   "cell_type": "code",
   "execution_count": 212,
   "id": "d20ba9c5-7e9a-4f0f-b921-ecf7b73d3157",
   "metadata": {
    "tags": []
   },
   "outputs": [
    {
     "data": {
      "text/plain": [
       "speaker       0\n",
       "utterance     0\n",
       "emotion       0\n",
       "annotation    0\n",
       "dtype: int64"
      ]
     },
     "execution_count": 212,
     "metadata": {},
     "output_type": "execute_result"
    }
   ],
   "source": [
    "df_test.isnull().sum()"
   ]
  },
  {
   "cell_type": "code",
   "execution_count": 213,
   "id": "e12f2168-d59b-4776-ac68-91eaaccca5f3",
   "metadata": {
    "tags": []
   },
   "outputs": [
    {
     "name": "stdout",
     "output_type": "stream",
     "text": [
      "                                              utterance  \\\n",
      "0     Why do all youre coffee mugs have numbers on ...   \n",
      "1     Oh. Thats so Monica can keep track. That way ...   \n",
      "2                                          Y'know what?   \n",
      "3                                            It didnt.   \n",
      "4     Okay, so what you used to have with Rachel, is...   \n",
      "...                                                 ...   \n",
      "2759  Hey, why dont you guys go get portraits done ...   \n",
      "2760  Thats a good idea! I bet they have one of tho...   \n",
      "2761  Yeah thats great! Next to that, Chandler won...   \n",
      "2762                          Chandler what do you say?   \n",
      "2763  All right, but I should warn you, Im not goin...   \n",
      "\n",
      "                                         processed_text  \n",
      "0                              coffee mug number bottom  \n",
      "1     oh monica keep track way one missing like numb...  \n",
      "2                                                        \n",
      "3                                                        \n",
      "4                            okay used rachel got alice  \n",
      "...                                                 ...  \n",
      "2759  hey guy go get portrait done professional phot...  \n",
      "2760                     good idea bet one wind machine  \n",
      "2761               yeah great next chandler look stupid  \n",
      "2762                                       chandler say  \n",
      "2763                             right warn going going  \n",
      "\n",
      "[2764 rows x 2 columns]\n"
     ]
    }
   ],
   "source": [
    "df_test['processed_text'] = df_test['utterance'].apply(process_text)\n",
    "\n",
    "print(df_test[['utterance', 'processed_text']])"
   ]
  },
  {
   "cell_type": "code",
   "execution_count": 215,
   "id": "f5cf4e07-6f70-4017-a35b-ab069f83340b",
   "metadata": {
    "tags": []
   },
   "outputs": [],
   "source": [
    "df_test['emotion_numerical'] = df_test['emotion'].map({'anger':0, 'disgust':1, 'fear':2, 'joy':3, 'neutral':4, 'non-neutral':5,\n",
    "       'sadness':6, 'surprise':7})"
   ]
  },
  {
   "cell_type": "raw",
   "id": "23d1187a-e217-41b2-8c7d-480a12adb379",
   "metadata": {
    "tags": []
   },
   "source": [
    "tfidf_matrix_test = tfidf_vectorizer.fit_transform(df_test['processed_text'])\n",
    "df_tf_test = pd.DataFrame(tfidf_matrix_test.toarray(), columns=tfidf_vectorizer.get_feature_names_out())\n",
    "\n",
    "missing_columns_test = set(df_tf.columns) - set(df_tf_test.columns)\n",
    "#for column in missing_columns_test:\n",
    "#    df_tf_test[column] = 0\n",
    "\n",
    "index = range(len(missing_columns_test))\n",
    "missing_columns_test_df = pd.DataFrame({column: 0 for column in missing_columns_test}, index=index)\n",
    "df_tf_test = pd.concat([df_tf_test, missing_columns_test_df], axis=1)\n",
    "\n",
    "\n",
    "additional_columns_test = set(df_tf_test.columns) - set(df_tf.columns)\n",
    "df_tf_test = df_tf_test.drop(columns=additional_columns_test)\n",
    "\n",
    "\n",
    "df_test2 = pd.concat([df_test.reset_index(drop=True), df_tf_test.reset_index(drop=True)], axis=1)"
   ]
  },
  {
   "cell_type": "code",
   "execution_count": 216,
   "id": "478f1cbe-847c-4b0e-92b3-4ee32f6e9103",
   "metadata": {
    "tags": []
   },
   "outputs": [],
   "source": [
    "tfidf_matrix_test = tfidf_vectorizer.fit_transform(df_test['processed_text'])\n",
    "df_tf_test = pd.DataFrame(tfidf_matrix_test.toarray(), columns=tfidf_vectorizer.get_feature_names_out())\n",
    "df_test2 = pd.concat([df_test.reset_index(drop=True), df_tf.reset_index(drop=True)], axis=1)"
   ]
  },
  {
   "cell_type": "code",
   "execution_count": 217,
   "id": "b76ae94d-6fe1-45e8-856d-c56d9d9b045f",
   "metadata": {
    "tags": []
   },
   "outputs": [
    {
     "data": {
      "text/html": [
       "<div>\n",
       "<style scoped>\n",
       "    .dataframe tbody tr th:only-of-type {\n",
       "        vertical-align: middle;\n",
       "    }\n",
       "\n",
       "    .dataframe tbody tr th {\n",
       "        vertical-align: top;\n",
       "    }\n",
       "\n",
       "    .dataframe thead th {\n",
       "        text-align: right;\n",
       "    }\n",
       "</style>\n",
       "<table border=\"1\" class=\"dataframe\">\n",
       "  <thead>\n",
       "    <tr style=\"text-align: right;\">\n",
       "      <th></th>\n",
       "      <th>speaker</th>\n",
       "      <th>utterance</th>\n",
       "      <th>emotion</th>\n",
       "      <th>annotation</th>\n",
       "      <th>processed_text</th>\n",
       "      <th>emotion_numerical</th>\n",
       "      <th>10</th>\n",
       "      <th>100</th>\n",
       "      <th>110</th>\n",
       "      <th>112</th>\n",
       "      <th>...</th>\n",
       "      <th>zelda</th>\n",
       "      <th>zelner</th>\n",
       "      <th>zero</th>\n",
       "      <th>zillionaire</th>\n",
       "      <th>zinfandel</th>\n",
       "      <th>zip</th>\n",
       "      <th>zone</th>\n",
       "      <th>zoo</th>\n",
       "      <th>zuchoff</th>\n",
       "      <th>zygomatic</th>\n",
       "    </tr>\n",
       "  </thead>\n",
       "  <tbody>\n",
       "    <tr>\n",
       "      <th>0</th>\n",
       "      <td>Mark</td>\n",
       "      <td>Why do all youre coffee mugs have numbers on ...</td>\n",
       "      <td>surprise</td>\n",
       "      <td>2000030</td>\n",
       "      <td>coffee mug number bottom</td>\n",
       "      <td>7.0</td>\n",
       "      <td>0.0</td>\n",
       "      <td>0.0</td>\n",
       "      <td>0.0</td>\n",
       "      <td>0.0</td>\n",
       "      <td>...</td>\n",
       "      <td>0.0</td>\n",
       "      <td>0.0</td>\n",
       "      <td>0.0</td>\n",
       "      <td>0.0</td>\n",
       "      <td>0.0</td>\n",
       "      <td>0.0</td>\n",
       "      <td>0.0</td>\n",
       "      <td>0.0</td>\n",
       "      <td>0.0</td>\n",
       "      <td>0.0</td>\n",
       "    </tr>\n",
       "    <tr>\n",
       "      <th>1</th>\n",
       "      <td>Rachel</td>\n",
       "      <td>Oh. Thats so Monica can keep track. That way ...</td>\n",
       "      <td>non-neutral</td>\n",
       "      <td>2100011</td>\n",
       "      <td>oh monica keep track way one missing like numb...</td>\n",
       "      <td>5.0</td>\n",
       "      <td>0.0</td>\n",
       "      <td>0.0</td>\n",
       "      <td>0.0</td>\n",
       "      <td>0.0</td>\n",
       "      <td>...</td>\n",
       "      <td>0.0</td>\n",
       "      <td>0.0</td>\n",
       "      <td>0.0</td>\n",
       "      <td>0.0</td>\n",
       "      <td>0.0</td>\n",
       "      <td>0.0</td>\n",
       "      <td>0.0</td>\n",
       "      <td>0.0</td>\n",
       "      <td>0.0</td>\n",
       "      <td>0.0</td>\n",
       "    </tr>\n",
       "    <tr>\n",
       "      <th>2</th>\n",
       "      <td>Rachel</td>\n",
       "      <td>Y'know what?</td>\n",
       "      <td>neutral</td>\n",
       "      <td>3000020</td>\n",
       "      <td></td>\n",
       "      <td>4.0</td>\n",
       "      <td>0.0</td>\n",
       "      <td>0.0</td>\n",
       "      <td>0.0</td>\n",
       "      <td>0.0</td>\n",
       "      <td>...</td>\n",
       "      <td>0.0</td>\n",
       "      <td>0.0</td>\n",
       "      <td>0.0</td>\n",
       "      <td>0.0</td>\n",
       "      <td>0.0</td>\n",
       "      <td>0.0</td>\n",
       "      <td>0.0</td>\n",
       "      <td>0.0</td>\n",
       "      <td>0.0</td>\n",
       "      <td>0.0</td>\n",
       "    </tr>\n",
       "    <tr>\n",
       "      <th>3</th>\n",
       "      <td>Ross</td>\n",
       "      <td>It didnt.</td>\n",
       "      <td>neutral</td>\n",
       "      <td>5000000</td>\n",
       "      <td></td>\n",
       "      <td>4.0</td>\n",
       "      <td>0.0</td>\n",
       "      <td>0.0</td>\n",
       "      <td>0.0</td>\n",
       "      <td>0.0</td>\n",
       "      <td>...</td>\n",
       "      <td>0.0</td>\n",
       "      <td>0.0</td>\n",
       "      <td>0.0</td>\n",
       "      <td>0.0</td>\n",
       "      <td>0.0</td>\n",
       "      <td>0.0</td>\n",
       "      <td>0.0</td>\n",
       "      <td>0.0</td>\n",
       "      <td>0.0</td>\n",
       "      <td>0.0</td>\n",
       "    </tr>\n",
       "    <tr>\n",
       "      <th>4</th>\n",
       "      <td>Frank</td>\n",
       "      <td>Okay, so what you used to have with Rachel, is...</td>\n",
       "      <td>joy</td>\n",
       "      <td>1300010</td>\n",
       "      <td>okay used rachel got alice</td>\n",
       "      <td>3.0</td>\n",
       "      <td>0.0</td>\n",
       "      <td>0.0</td>\n",
       "      <td>0.0</td>\n",
       "      <td>0.0</td>\n",
       "      <td>...</td>\n",
       "      <td>0.0</td>\n",
       "      <td>0.0</td>\n",
       "      <td>0.0</td>\n",
       "      <td>0.0</td>\n",
       "      <td>0.0</td>\n",
       "      <td>0.0</td>\n",
       "      <td>0.0</td>\n",
       "      <td>0.0</td>\n",
       "      <td>0.0</td>\n",
       "      <td>0.0</td>\n",
       "    </tr>\n",
       "    <tr>\n",
       "      <th>...</th>\n",
       "      <td>...</td>\n",
       "      <td>...</td>\n",
       "      <td>...</td>\n",
       "      <td>...</td>\n",
       "      <td>...</td>\n",
       "      <td>...</td>\n",
       "      <td>...</td>\n",
       "      <td>...</td>\n",
       "      <td>...</td>\n",
       "      <td>...</td>\n",
       "      <td>...</td>\n",
       "      <td>...</td>\n",
       "      <td>...</td>\n",
       "      <td>...</td>\n",
       "      <td>...</td>\n",
       "      <td>...</td>\n",
       "      <td>...</td>\n",
       "      <td>...</td>\n",
       "      <td>...</td>\n",
       "      <td>...</td>\n",
       "      <td>...</td>\n",
       "    </tr>\n",
       "    <tr>\n",
       "      <th>10556</th>\n",
       "      <td>NaN</td>\n",
       "      <td>NaN</td>\n",
       "      <td>NaN</td>\n",
       "      <td>NaN</td>\n",
       "      <td>NaN</td>\n",
       "      <td>NaN</td>\n",
       "      <td>0.0</td>\n",
       "      <td>0.0</td>\n",
       "      <td>0.0</td>\n",
       "      <td>0.0</td>\n",
       "      <td>...</td>\n",
       "      <td>0.0</td>\n",
       "      <td>0.0</td>\n",
       "      <td>0.0</td>\n",
       "      <td>0.0</td>\n",
       "      <td>0.0</td>\n",
       "      <td>0.0</td>\n",
       "      <td>0.0</td>\n",
       "      <td>0.0</td>\n",
       "      <td>0.0</td>\n",
       "      <td>0.0</td>\n",
       "    </tr>\n",
       "    <tr>\n",
       "      <th>10557</th>\n",
       "      <td>NaN</td>\n",
       "      <td>NaN</td>\n",
       "      <td>NaN</td>\n",
       "      <td>NaN</td>\n",
       "      <td>NaN</td>\n",
       "      <td>NaN</td>\n",
       "      <td>0.0</td>\n",
       "      <td>0.0</td>\n",
       "      <td>0.0</td>\n",
       "      <td>0.0</td>\n",
       "      <td>...</td>\n",
       "      <td>0.0</td>\n",
       "      <td>0.0</td>\n",
       "      <td>0.0</td>\n",
       "      <td>0.0</td>\n",
       "      <td>0.0</td>\n",
       "      <td>0.0</td>\n",
       "      <td>0.0</td>\n",
       "      <td>0.0</td>\n",
       "      <td>0.0</td>\n",
       "      <td>0.0</td>\n",
       "    </tr>\n",
       "    <tr>\n",
       "      <th>10558</th>\n",
       "      <td>NaN</td>\n",
       "      <td>NaN</td>\n",
       "      <td>NaN</td>\n",
       "      <td>NaN</td>\n",
       "      <td>NaN</td>\n",
       "      <td>NaN</td>\n",
       "      <td>0.0</td>\n",
       "      <td>0.0</td>\n",
       "      <td>0.0</td>\n",
       "      <td>0.0</td>\n",
       "      <td>...</td>\n",
       "      <td>0.0</td>\n",
       "      <td>0.0</td>\n",
       "      <td>0.0</td>\n",
       "      <td>0.0</td>\n",
       "      <td>0.0</td>\n",
       "      <td>0.0</td>\n",
       "      <td>0.0</td>\n",
       "      <td>0.0</td>\n",
       "      <td>0.0</td>\n",
       "      <td>0.0</td>\n",
       "    </tr>\n",
       "    <tr>\n",
       "      <th>10559</th>\n",
       "      <td>NaN</td>\n",
       "      <td>NaN</td>\n",
       "      <td>NaN</td>\n",
       "      <td>NaN</td>\n",
       "      <td>NaN</td>\n",
       "      <td>NaN</td>\n",
       "      <td>0.0</td>\n",
       "      <td>0.0</td>\n",
       "      <td>0.0</td>\n",
       "      <td>0.0</td>\n",
       "      <td>...</td>\n",
       "      <td>0.0</td>\n",
       "      <td>0.0</td>\n",
       "      <td>0.0</td>\n",
       "      <td>0.0</td>\n",
       "      <td>0.0</td>\n",
       "      <td>0.0</td>\n",
       "      <td>0.0</td>\n",
       "      <td>0.0</td>\n",
       "      <td>0.0</td>\n",
       "      <td>0.0</td>\n",
       "    </tr>\n",
       "    <tr>\n",
       "      <th>10560</th>\n",
       "      <td>NaN</td>\n",
       "      <td>NaN</td>\n",
       "      <td>NaN</td>\n",
       "      <td>NaN</td>\n",
       "      <td>NaN</td>\n",
       "      <td>NaN</td>\n",
       "      <td>0.0</td>\n",
       "      <td>0.0</td>\n",
       "      <td>0.0</td>\n",
       "      <td>0.0</td>\n",
       "      <td>...</td>\n",
       "      <td>0.0</td>\n",
       "      <td>0.0</td>\n",
       "      <td>0.0</td>\n",
       "      <td>0.0</td>\n",
       "      <td>0.0</td>\n",
       "      <td>0.0</td>\n",
       "      <td>0.0</td>\n",
       "      <td>0.0</td>\n",
       "      <td>0.0</td>\n",
       "      <td>0.0</td>\n",
       "    </tr>\n",
       "  </tbody>\n",
       "</table>\n",
       "<p>10561 rows × 4693 columns</p>\n",
       "</div>"
      ],
      "text/plain": [
       "      speaker                                          utterance      emotion  \\\n",
       "0        Mark  Why do all youre coffee mugs have numbers on ...     surprise   \n",
       "1      Rachel  Oh. Thats so Monica can keep track. That way ...  non-neutral   \n",
       "2      Rachel                                       Y'know what?      neutral   \n",
       "3        Ross                                         It didnt.      neutral   \n",
       "4       Frank  Okay, so what you used to have with Rachel, is...          joy   \n",
       "...       ...                                                ...          ...   \n",
       "10556     NaN                                                NaN          NaN   \n",
       "10557     NaN                                                NaN          NaN   \n",
       "10558     NaN                                                NaN          NaN   \n",
       "10559     NaN                                                NaN          NaN   \n",
       "10560     NaN                                                NaN          NaN   \n",
       "\n",
       "      annotation                                     processed_text  \\\n",
       "0        2000030                           coffee mug number bottom   \n",
       "1        2100011  oh monica keep track way one missing like numb...   \n",
       "2        3000020                                                      \n",
       "3        5000000                                                      \n",
       "4        1300010                         okay used rachel got alice   \n",
       "...          ...                                                ...   \n",
       "10556        NaN                                                NaN   \n",
       "10557        NaN                                                NaN   \n",
       "10558        NaN                                                NaN   \n",
       "10559        NaN                                                NaN   \n",
       "10560        NaN                                                NaN   \n",
       "\n",
       "       emotion_numerical   10  100  110  112  ...  zelda  zelner  zero  \\\n",
       "0                    7.0  0.0  0.0  0.0  0.0  ...    0.0     0.0   0.0   \n",
       "1                    5.0  0.0  0.0  0.0  0.0  ...    0.0     0.0   0.0   \n",
       "2                    4.0  0.0  0.0  0.0  0.0  ...    0.0     0.0   0.0   \n",
       "3                    4.0  0.0  0.0  0.0  0.0  ...    0.0     0.0   0.0   \n",
       "4                    3.0  0.0  0.0  0.0  0.0  ...    0.0     0.0   0.0   \n",
       "...                  ...  ...  ...  ...  ...  ...    ...     ...   ...   \n",
       "10556                NaN  0.0  0.0  0.0  0.0  ...    0.0     0.0   0.0   \n",
       "10557                NaN  0.0  0.0  0.0  0.0  ...    0.0     0.0   0.0   \n",
       "10558                NaN  0.0  0.0  0.0  0.0  ...    0.0     0.0   0.0   \n",
       "10559                NaN  0.0  0.0  0.0  0.0  ...    0.0     0.0   0.0   \n",
       "10560                NaN  0.0  0.0  0.0  0.0  ...    0.0     0.0   0.0   \n",
       "\n",
       "       zillionaire  zinfandel  zip  zone  zoo  zuchoff  zygomatic  \n",
       "0              0.0        0.0  0.0   0.0  0.0      0.0        0.0  \n",
       "1              0.0        0.0  0.0   0.0  0.0      0.0        0.0  \n",
       "2              0.0        0.0  0.0   0.0  0.0      0.0        0.0  \n",
       "3              0.0        0.0  0.0   0.0  0.0      0.0        0.0  \n",
       "4              0.0        0.0  0.0   0.0  0.0      0.0        0.0  \n",
       "...            ...        ...  ...   ...  ...      ...        ...  \n",
       "10556          0.0        0.0  0.0   0.0  0.0      0.0        0.0  \n",
       "10557          0.0        0.0  0.0   0.0  0.0      0.0        0.0  \n",
       "10558          0.0        0.0  0.0   0.0  0.0      0.0        0.0  \n",
       "10559          0.0        0.0  0.0   0.0  0.0      0.0        0.0  \n",
       "10560          0.0        0.0  0.0   0.0  0.0      0.0        0.0  \n",
       "\n",
       "[10561 rows x 4693 columns]"
      ]
     },
     "execution_count": 217,
     "metadata": {},
     "output_type": "execute_result"
    }
   ],
   "source": [
    "df_test2"
   ]
  },
  {
   "cell_type": "code",
   "execution_count": 218,
   "id": "d2880050-422f-4884-9aad-8f8bd1a06f9b",
   "metadata": {
    "tags": []
   },
   "outputs": [
    {
     "data": {
      "text/plain": [
       "speaker           7797\n",
       "utterance         7797\n",
       "emotion           7797\n",
       "annotation        7797\n",
       "processed_text    7797\n",
       "                  ... \n",
       "zip                  0\n",
       "zone                 0\n",
       "zoo                  0\n",
       "zuchoff              0\n",
       "zygomatic            0\n",
       "Length: 4693, dtype: int64"
      ]
     },
     "execution_count": 218,
     "metadata": {},
     "output_type": "execute_result"
    }
   ],
   "source": [
    "df_test2.isnull().sum()"
   ]
  },
  {
   "cell_type": "code",
   "execution_count": 219,
   "id": "9fc963ee-c5ed-4853-af67-e6a72f550740",
   "metadata": {
    "tags": []
   },
   "outputs": [
    {
     "data": {
      "text/plain": [
       "speaker           0\n",
       "utterance         0\n",
       "emotion           0\n",
       "annotation        0\n",
       "processed_text    0\n",
       "                 ..\n",
       "zip               0\n",
       "zone              0\n",
       "zoo               0\n",
       "zuchoff           0\n",
       "zygomatic         0\n",
       "Length: 4693, dtype: int64"
      ]
     },
     "execution_count": 219,
     "metadata": {},
     "output_type": "execute_result"
    }
   ],
   "source": [
    "df_test3=df_test2.dropna()\n",
    "df_test3.isnull().sum()"
   ]
  },
  {
   "cell_type": "code",
   "execution_count": 220,
   "id": "c5d0a8fd-ff54-407f-af0b-bb7b6ef2bd56",
   "metadata": {
    "tags": []
   },
   "outputs": [],
   "source": [
    "y_test=df_test3['emotion_numerical'].values\n",
    "x_test=df_test3.drop(['emotion','speaker','utterance','annotation','processed_text'],axis=1).values"
   ]
  },
  {
   "cell_type": "code",
   "execution_count": 221,
   "id": "592fb3a6-a003-4bdc-8708-39472af3cf77",
   "metadata": {
    "tags": []
   },
   "outputs": [
    {
     "name": "stdout",
     "output_type": "stream",
     "text": [
      "Accuracy: 0.05824891461649783\n"
     ]
    }
   ],
   "source": [
    "y_pred_ovr_test = clf_ovr.predict(x_test)\n",
    "\n",
    "print(\"Accuracy:\", accuracy_score(y_test, y_pred_ovr_test))"
   ]
  },
  {
   "cell_type": "code",
   "execution_count": 222,
   "id": "f3e80067-509b-4e1e-8eaa-87cba75cb8fe",
   "metadata": {
    "tags": []
   },
   "outputs": [
    {
     "name": "stdout",
     "output_type": "stream",
     "text": [
      "Classification Report:\n",
      "              precision    recall  f1-score   support\n",
      "\n",
      "         0.0       0.06      1.00      0.11       161\n",
      "         1.0       0.00      0.00      0.00        68\n",
      "         2.0       0.00      0.00      0.00        32\n",
      "         3.0       0.00      0.00      0.00       304\n",
      "         4.0       0.00      0.00      0.00      1287\n",
      "         5.0       0.00      0.00      0.00       541\n",
      "         6.0       0.00      0.00      0.00        85\n",
      "         7.0       0.00      0.00      0.00       286\n",
      "\n",
      "    accuracy                           0.06      2764\n",
      "   macro avg       0.01      0.12      0.01      2764\n",
      "weighted avg       0.00      0.06      0.01      2764\n",
      "\n"
     ]
    },
    {
     "name": "stderr",
     "output_type": "stream",
     "text": [
      "C:\\Users\\sagar\\anaconda3\\Lib\\site-packages\\sklearn\\metrics\\_classification.py:1469: UndefinedMetricWarning: Precision and F-score are ill-defined and being set to 0.0 in labels with no predicted samples. Use `zero_division` parameter to control this behavior.\n",
      "  _warn_prf(average, modifier, msg_start, len(result))\n",
      "C:\\Users\\sagar\\anaconda3\\Lib\\site-packages\\sklearn\\metrics\\_classification.py:1469: UndefinedMetricWarning: Precision and F-score are ill-defined and being set to 0.0 in labels with no predicted samples. Use `zero_division` parameter to control this behavior.\n",
      "  _warn_prf(average, modifier, msg_start, len(result))\n",
      "C:\\Users\\sagar\\anaconda3\\Lib\\site-packages\\sklearn\\metrics\\_classification.py:1469: UndefinedMetricWarning: Precision and F-score are ill-defined and being set to 0.0 in labels with no predicted samples. Use `zero_division` parameter to control this behavior.\n",
      "  _warn_prf(average, modifier, msg_start, len(result))\n"
     ]
    }
   ],
   "source": [
    "print(\"Classification Report:\")\n",
    "print(classification_report(y_test, y_pred_ovr_test))"
   ]
  },
  {
   "cell_type": "code",
   "execution_count": 227,
   "id": "4db78c29-3e2d-4873-b134-eee50b957cb7",
   "metadata": {
    "tags": []
   },
   "outputs": [
    {
     "name": "stdout",
     "output_type": "stream",
     "text": [
      "Accuracy: 0.055716353111432707\n"
     ]
    }
   ],
   "source": [
    "y_pred_ovr_test2 = model.predict(x_test)\n",
    "\n",
    "print(\"Accuracy:\", accuracy_score(y_test, y_pred_ovr_test2))"
   ]
  }
 ],
 "metadata": {
  "kernelspec": {
   "display_name": "Python 3 (ipykernel)",
   "language": "python",
   "name": "python3"
  },
  "language_info": {
   "codemirror_mode": {
    "name": "ipython",
    "version": 3
   },
   "file_extension": ".py",
   "mimetype": "text/x-python",
   "name": "python",
   "nbconvert_exporter": "python",
   "pygments_lexer": "ipython3",
   "version": "3.11.4"
  }
 },
 "nbformat": 4,
 "nbformat_minor": 5
}
